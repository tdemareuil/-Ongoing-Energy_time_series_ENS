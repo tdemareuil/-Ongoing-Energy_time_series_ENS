{
 "cells": [
  {
   "cell_type": "markdown",
   "metadata": {},
   "source": [
    "# Machine Learning II Data Challenge  \n",
    "Time series analysis to predict house electricity consumption.\n",
    "\n",
    "- Thomas de Mareuil\n",
    "- Constantin Vodé\n",
    "- Tommy Tran"
   ]
  },
  {
   "cell_type": "markdown",
   "metadata": {},
   "source": [
    "## Introduction\n",
    "### Challenge context\n",
    "\n",
    "BCM Energy is a start-up based in Lyon and created in 2015. BCM operates on the whole value chain of renewable electricity, from production assets management on electricity markets (Epexspot, EEX) to electricity supply to final consumers through the brand Planète OUI:\n",
    "\n",
    "BCM Energy is active continuously on the electricity markets,\n",
    "BCM Energy is responsible of its own balancing perimeter,\n",
    "BCM Energy also manages capacity certificates within its own certification perimeter and guarantees of origin in its register.\n",
    "The diverse priority areas of growth are supported by a trading team with more than fifteen years of experience of the various electricity markets, developing state-of-the-art financial analysis modeling. Planète OUI, created in 2007, is one of the first French green electricity supplier. The company supplies tens of thousands of homes and professionals and covers more than 95 % of metropolitan France (Enedis network). Planète OUI promotes an ecology constructive and made available for all. It has integrated BCM Energy’s perimeter in 2017. The supplier has to offer green electricity supply with prices adapted to the consumption profiles of its clients. Indeed, the information of disaggregation consumption could help reduce electricity consumption and so reduce the electricity bill with customized advice or control of appliances of our clients (with their agreement)."
   ]
  },
  {
   "cell_type": "markdown",
   "metadata": {},
   "source": [
    "### Challenge goals\n",
    "The goal is to train an algorithm to replace many monitoring systems which are too intrusive and too expensive. This challenge is known as NILM (Nonintrusive load monitoring) or NIALM (Nonintrusive appliance load monitoring). The aim of the challenge is to find the part of electric consumption in one household dedicated to 4 appliances (washing machine, fridge_freezer, TV, kettle). There are no time constraints. The past and the future are known."
   ]
  },
  {
   "cell_type": "markdown",
   "metadata": {},
   "source": [
    "### Data description\n",
    "The first line of the input contains the header, the columns are separated by ',', and decimals by decimal point. The columns are:\n",
    "\n",
    "- the “time_step”: date measured each minute (format yyyy-MM-ddTHH :mm :ss.Z)\n",
    "- the “consumption”: household consumption (W) measured each minute\n",
    "- the “visibility”: distance at which it is possible to clearly distinguish an object (km) measured once per hour\n",
    "- the “temperature”: temperature (°C) measured once per hour\n",
    "- the “humidity”: presence of water in the air (%) measured once per hour\n",
    "- the “humidex”: index used to integrate the combined effects of heat and humidity measured once per hour\n",
    "- the “windchill”: an index that expresses the subjective feeling of cold or heat as a function of measured temperature, wind and humidity (°C) measured once per hour\n",
    "- the “wind”: wind speed (km/h) measured once per hour\n",
    "- the “pressure”: applied perpendicular to the surface of an object per unit area (Pa) measured once per hour\n",
    "\n",
    "\n",
    "The first line of the output contains the header, the columns are separated by ',', and decimals by decimal point. The columns are:\n",
    "\n",
    "- the “time_step”: date measured each minute (format yyyy-MM-ddTHH :mm :ss.Z)\n",
    "- the “washing_machine”: washing machine power (W) measured each minute\n",
    "- the “fridge_freezer”: fridge freezer power (W) measured each minute\n",
    "- the “TV”: TV power (W) measured each minute\n",
    "- the “kettle”: kettle power (W) measured each minute\n",
    "\n",
    "- The train set contains 417 599 values with 10 231 missing values (2,44%) for “consumption”, “washing_machine”, “fridge_freezer”, “TV”, “kettle” and the test set contains 226 081 values with 24 719 missing values (10,93%)."
   ]
  },
  {
   "cell_type": "markdown",
   "metadata": {},
   "source": [
    "## Data exploration"
   ]
  },
  {
   "cell_type": "code",
   "execution_count": 1,
   "metadata": {},
   "outputs": [],
   "source": [
    "import pandas as pd\n",
    "import numpy as np\n",
    "import matplotlib.pyplot as plt\n",
    "from matplotlib import rcParams\n",
    "%matplotlib inline"
   ]
  },
  {
   "cell_type": "code",
   "execution_count": 2,
   "metadata": {},
   "outputs": [],
   "source": [
    "input_train = pd.read_csv('X_train.csv')\n",
    "input_train = input_train.drop('Unnamed: 9', axis=1)\n",
    "output_train = pd.read_csv('y_train.csv')"
   ]
  },
  {
   "cell_type": "code",
   "execution_count": 3,
   "metadata": {
    "scrolled": false
   },
   "outputs": [
    {
     "data": {
      "text/html": [
       "<div>\n",
       "<style scoped>\n",
       "    .dataframe tbody tr th:only-of-type {\n",
       "        vertical-align: middle;\n",
       "    }\n",
       "\n",
       "    .dataframe tbody tr th {\n",
       "        vertical-align: top;\n",
       "    }\n",
       "\n",
       "    .dataframe thead th {\n",
       "        text-align: right;\n",
       "    }\n",
       "</style>\n",
       "<table border=\"1\" class=\"dataframe\">\n",
       "  <thead>\n",
       "    <tr style=\"text-align: right;\">\n",
       "      <th></th>\n",
       "      <th>time_step</th>\n",
       "      <th>consumption</th>\n",
       "      <th>visibility</th>\n",
       "      <th>temperature</th>\n",
       "      <th>humidity</th>\n",
       "      <th>humidex</th>\n",
       "      <th>windchill</th>\n",
       "      <th>wind</th>\n",
       "      <th>pressure</th>\n",
       "    </tr>\n",
       "  </thead>\n",
       "  <tbody>\n",
       "    <tr>\n",
       "      <td>0</td>\n",
       "      <td>2013-03-17T00:01:00.0</td>\n",
       "      <td>550.4000</td>\n",
       "      <td>NaN</td>\n",
       "      <td>NaN</td>\n",
       "      <td>NaN</td>\n",
       "      <td>NaN</td>\n",
       "      <td>NaN</td>\n",
       "      <td>NaN</td>\n",
       "      <td>NaN</td>\n",
       "    </tr>\n",
       "    <tr>\n",
       "      <td>1</td>\n",
       "      <td>2013-03-17T00:02:00.0</td>\n",
       "      <td>548.6000</td>\n",
       "      <td>NaN</td>\n",
       "      <td>NaN</td>\n",
       "      <td>NaN</td>\n",
       "      <td>NaN</td>\n",
       "      <td>NaN</td>\n",
       "      <td>NaN</td>\n",
       "      <td>NaN</td>\n",
       "    </tr>\n",
       "    <tr>\n",
       "      <td>2</td>\n",
       "      <td>2013-03-17T00:03:00.0</td>\n",
       "      <td>549.3000</td>\n",
       "      <td>NaN</td>\n",
       "      <td>NaN</td>\n",
       "      <td>NaN</td>\n",
       "      <td>NaN</td>\n",
       "      <td>NaN</td>\n",
       "      <td>NaN</td>\n",
       "      <td>NaN</td>\n",
       "    </tr>\n",
       "    <tr>\n",
       "      <td>3</td>\n",
       "      <td>2013-03-17T00:04:00.0</td>\n",
       "      <td>549.3667</td>\n",
       "      <td>NaN</td>\n",
       "      <td>NaN</td>\n",
       "      <td>NaN</td>\n",
       "      <td>NaN</td>\n",
       "      <td>NaN</td>\n",
       "      <td>NaN</td>\n",
       "      <td>NaN</td>\n",
       "    </tr>\n",
       "    <tr>\n",
       "      <td>4</td>\n",
       "      <td>2013-03-17T00:05:00.0</td>\n",
       "      <td>548.8909</td>\n",
       "      <td>NaN</td>\n",
       "      <td>NaN</td>\n",
       "      <td>NaN</td>\n",
       "      <td>NaN</td>\n",
       "      <td>NaN</td>\n",
       "      <td>NaN</td>\n",
       "      <td>NaN</td>\n",
       "    </tr>\n",
       "  </tbody>\n",
       "</table>\n",
       "</div>"
      ],
      "text/plain": [
       "               time_step  consumption  visibility  temperature  humidity  \\\n",
       "0  2013-03-17T00:01:00.0     550.4000         NaN          NaN       NaN   \n",
       "1  2013-03-17T00:02:00.0     548.6000         NaN          NaN       NaN   \n",
       "2  2013-03-17T00:03:00.0     549.3000         NaN          NaN       NaN   \n",
       "3  2013-03-17T00:04:00.0     549.3667         NaN          NaN       NaN   \n",
       "4  2013-03-17T00:05:00.0     548.8909         NaN          NaN       NaN   \n",
       "\n",
       "   humidex  windchill  wind  pressure  \n",
       "0      NaN        NaN   NaN       NaN  \n",
       "1      NaN        NaN   NaN       NaN  \n",
       "2      NaN        NaN   NaN       NaN  \n",
       "3      NaN        NaN   NaN       NaN  \n",
       "4      NaN        NaN   NaN       NaN  "
      ]
     },
     "execution_count": 3,
     "metadata": {},
     "output_type": "execute_result"
    }
   ],
   "source": [
    "input_train.head()"
   ]
  },
  {
   "cell_type": "code",
   "execution_count": 4,
   "metadata": {},
   "outputs": [
    {
     "data": {
      "text/html": [
       "<div>\n",
       "<style scoped>\n",
       "    .dataframe tbody tr th:only-of-type {\n",
       "        vertical-align: middle;\n",
       "    }\n",
       "\n",
       "    .dataframe tbody tr th {\n",
       "        vertical-align: top;\n",
       "    }\n",
       "\n",
       "    .dataframe thead th {\n",
       "        text-align: right;\n",
       "    }\n",
       "</style>\n",
       "<table border=\"1\" class=\"dataframe\">\n",
       "  <thead>\n",
       "    <tr style=\"text-align: right;\">\n",
       "      <th></th>\n",
       "      <th>time_step</th>\n",
       "      <th>washing_machine</th>\n",
       "      <th>fridge_freezer</th>\n",
       "      <th>TV</th>\n",
       "      <th>kettle</th>\n",
       "    </tr>\n",
       "  </thead>\n",
       "  <tbody>\n",
       "    <tr>\n",
       "      <td>0</td>\n",
       "      <td>2013-03-17T00:01:00.0</td>\n",
       "      <td>0.0</td>\n",
       "      <td>79.2000</td>\n",
       "      <td>7.0</td>\n",
       "      <td>0.0</td>\n",
       "    </tr>\n",
       "    <tr>\n",
       "      <td>1</td>\n",
       "      <td>2013-03-17T00:02:00.0</td>\n",
       "      <td>0.0</td>\n",
       "      <td>78.0000</td>\n",
       "      <td>7.0</td>\n",
       "      <td>0.0</td>\n",
       "    </tr>\n",
       "    <tr>\n",
       "      <td>2</td>\n",
       "      <td>2013-03-17T00:03:00.0</td>\n",
       "      <td>0.0</td>\n",
       "      <td>76.9000</td>\n",
       "      <td>7.0</td>\n",
       "      <td>0.0</td>\n",
       "    </tr>\n",
       "    <tr>\n",
       "      <td>3</td>\n",
       "      <td>2013-03-17T00:04:00.0</td>\n",
       "      <td>0.0</td>\n",
       "      <td>76.1111</td>\n",
       "      <td>7.0</td>\n",
       "      <td>0.0</td>\n",
       "    </tr>\n",
       "    <tr>\n",
       "      <td>4</td>\n",
       "      <td>2013-03-17T00:05:00.0</td>\n",
       "      <td>0.0</td>\n",
       "      <td>75.2727</td>\n",
       "      <td>7.0</td>\n",
       "      <td>0.0</td>\n",
       "    </tr>\n",
       "  </tbody>\n",
       "</table>\n",
       "</div>"
      ],
      "text/plain": [
       "               time_step  washing_machine  fridge_freezer   TV  kettle\n",
       "0  2013-03-17T00:01:00.0              0.0         79.2000  7.0     0.0\n",
       "1  2013-03-17T00:02:00.0              0.0         78.0000  7.0     0.0\n",
       "2  2013-03-17T00:03:00.0              0.0         76.9000  7.0     0.0\n",
       "3  2013-03-17T00:04:00.0              0.0         76.1111  7.0     0.0\n",
       "4  2013-03-17T00:05:00.0              0.0         75.2727  7.0     0.0"
      ]
     },
     "execution_count": 4,
     "metadata": {},
     "output_type": "execute_result"
    }
   ],
   "source": [
    "output_train.head()"
   ]
  },
  {
   "cell_type": "code",
   "execution_count": 5,
   "metadata": {},
   "outputs": [
    {
     "name": "stdout",
     "output_type": "stream",
     "text": [
      "datetime64[ns]\n",
      "datetime64[ns]\n"
     ]
    }
   ],
   "source": [
    "# Convert the time_step feature into datetime in the input and output datasets\n",
    "\n",
    "input_train['time_step'] = pd.to_datetime(input_train['time_step'])\n",
    "output_train['time_step'] = pd.to_datetime(output_train['time_step'])\n",
    "\n",
    "# Check data type\n",
    "print(input_train['time_step'].dtype)\n",
    "print(output_train['time_step'].dtype)"
   ]
  },
  {
   "cell_type": "markdown",
   "metadata": {},
   "source": [
    "### Data visualisation"
   ]
  },
  {
   "cell_type": "code",
   "execution_count": 6,
   "metadata": {
    "scrolled": true
   },
   "outputs": [
    {
     "name": "stdout",
     "output_type": "stream",
     "text": [
      "Error in callback <function install_repl_displayhook.<locals>.post_execute at 0x116255840> (for post_execute):\n"
     ]
    },
    {
     "ename": "ValueError",
     "evalue": "view limit minimum -36747.23472222222 is less than 1 and is an invalid Matplotlib date value. This often happens if you pass a non-datetime value to an axis that has datetime units",
     "output_type": "error",
     "traceback": [
      "\u001b[0;31m---------------------------------------------------------------------------\u001b[0m",
      "\u001b[0;31mValueError\u001b[0m                                Traceback (most recent call last)",
      "\u001b[0;32m~/anaconda3/lib/python3.7/site-packages/matplotlib/pyplot.py\u001b[0m in \u001b[0;36mpost_execute\u001b[0;34m()\u001b[0m\n\u001b[1;32m    107\u001b[0m             \u001b[0;32mdef\u001b[0m \u001b[0mpost_execute\u001b[0m\u001b[0;34m(\u001b[0m\u001b[0;34m)\u001b[0m\u001b[0;34m:\u001b[0m\u001b[0;34m\u001b[0m\u001b[0;34m\u001b[0m\u001b[0m\n\u001b[1;32m    108\u001b[0m                 \u001b[0;32mif\u001b[0m \u001b[0mmatplotlib\u001b[0m\u001b[0;34m.\u001b[0m\u001b[0mis_interactive\u001b[0m\u001b[0;34m(\u001b[0m\u001b[0;34m)\u001b[0m\u001b[0;34m:\u001b[0m\u001b[0;34m\u001b[0m\u001b[0;34m\u001b[0m\u001b[0m\n\u001b[0;32m--> 109\u001b[0;31m                     \u001b[0mdraw_all\u001b[0m\u001b[0;34m(\u001b[0m\u001b[0;34m)\u001b[0m\u001b[0;34m\u001b[0m\u001b[0;34m\u001b[0m\u001b[0m\n\u001b[0m\u001b[1;32m    110\u001b[0m \u001b[0;34m\u001b[0m\u001b[0m\n\u001b[1;32m    111\u001b[0m             \u001b[0;31m# IPython >= 2\u001b[0m\u001b[0;34m\u001b[0m\u001b[0;34m\u001b[0m\u001b[0;34m\u001b[0m\u001b[0m\n",
      "\u001b[0;32m~/anaconda3/lib/python3.7/site-packages/matplotlib/_pylab_helpers.py\u001b[0m in \u001b[0;36mdraw_all\u001b[0;34m(cls, force)\u001b[0m\n\u001b[1;32m    126\u001b[0m         \u001b[0;32mfor\u001b[0m \u001b[0mf_mgr\u001b[0m \u001b[0;32min\u001b[0m \u001b[0mcls\u001b[0m\u001b[0;34m.\u001b[0m\u001b[0mget_all_fig_managers\u001b[0m\u001b[0;34m(\u001b[0m\u001b[0;34m)\u001b[0m\u001b[0;34m:\u001b[0m\u001b[0;34m\u001b[0m\u001b[0;34m\u001b[0m\u001b[0m\n\u001b[1;32m    127\u001b[0m             \u001b[0;32mif\u001b[0m \u001b[0mforce\u001b[0m \u001b[0;32mor\u001b[0m \u001b[0mf_mgr\u001b[0m\u001b[0;34m.\u001b[0m\u001b[0mcanvas\u001b[0m\u001b[0;34m.\u001b[0m\u001b[0mfigure\u001b[0m\u001b[0;34m.\u001b[0m\u001b[0mstale\u001b[0m\u001b[0;34m:\u001b[0m\u001b[0;34m\u001b[0m\u001b[0;34m\u001b[0m\u001b[0m\n\u001b[0;32m--> 128\u001b[0;31m                 \u001b[0mf_mgr\u001b[0m\u001b[0;34m.\u001b[0m\u001b[0mcanvas\u001b[0m\u001b[0;34m.\u001b[0m\u001b[0mdraw_idle\u001b[0m\u001b[0;34m(\u001b[0m\u001b[0;34m)\u001b[0m\u001b[0;34m\u001b[0m\u001b[0;34m\u001b[0m\u001b[0m\n\u001b[0m\u001b[1;32m    129\u001b[0m \u001b[0;34m\u001b[0m\u001b[0m\n\u001b[1;32m    130\u001b[0m \u001b[0matexit\u001b[0m\u001b[0;34m.\u001b[0m\u001b[0mregister\u001b[0m\u001b[0;34m(\u001b[0m\u001b[0mGcf\u001b[0m\u001b[0;34m.\u001b[0m\u001b[0mdestroy_all\u001b[0m\u001b[0;34m)\u001b[0m\u001b[0;34m\u001b[0m\u001b[0;34m\u001b[0m\u001b[0m\n",
      "\u001b[0;32m~/anaconda3/lib/python3.7/site-packages/matplotlib/backend_bases.py\u001b[0m in \u001b[0;36mdraw_idle\u001b[0;34m(self, *args, **kwargs)\u001b[0m\n\u001b[1;32m   1905\u001b[0m         \u001b[0;32mif\u001b[0m \u001b[0;32mnot\u001b[0m \u001b[0mself\u001b[0m\u001b[0;34m.\u001b[0m\u001b[0m_is_idle_drawing\u001b[0m\u001b[0;34m:\u001b[0m\u001b[0;34m\u001b[0m\u001b[0;34m\u001b[0m\u001b[0m\n\u001b[1;32m   1906\u001b[0m             \u001b[0;32mwith\u001b[0m \u001b[0mself\u001b[0m\u001b[0;34m.\u001b[0m\u001b[0m_idle_draw_cntx\u001b[0m\u001b[0;34m(\u001b[0m\u001b[0;34m)\u001b[0m\u001b[0;34m:\u001b[0m\u001b[0;34m\u001b[0m\u001b[0;34m\u001b[0m\u001b[0m\n\u001b[0;32m-> 1907\u001b[0;31m                 \u001b[0mself\u001b[0m\u001b[0;34m.\u001b[0m\u001b[0mdraw\u001b[0m\u001b[0;34m(\u001b[0m\u001b[0;34m*\u001b[0m\u001b[0margs\u001b[0m\u001b[0;34m,\u001b[0m \u001b[0;34m**\u001b[0m\u001b[0mkwargs\u001b[0m\u001b[0;34m)\u001b[0m\u001b[0;34m\u001b[0m\u001b[0;34m\u001b[0m\u001b[0m\n\u001b[0m\u001b[1;32m   1908\u001b[0m \u001b[0;34m\u001b[0m\u001b[0m\n\u001b[1;32m   1909\u001b[0m     \u001b[0;32mdef\u001b[0m \u001b[0mdraw_cursor\u001b[0m\u001b[0;34m(\u001b[0m\u001b[0mself\u001b[0m\u001b[0;34m,\u001b[0m \u001b[0mevent\u001b[0m\u001b[0;34m)\u001b[0m\u001b[0;34m:\u001b[0m\u001b[0;34m\u001b[0m\u001b[0;34m\u001b[0m\u001b[0m\n",
      "\u001b[0;32m~/anaconda3/lib/python3.7/site-packages/matplotlib/backends/backend_agg.py\u001b[0m in \u001b[0;36mdraw\u001b[0;34m(self)\u001b[0m\n\u001b[1;32m    386\u001b[0m         \u001b[0mself\u001b[0m\u001b[0;34m.\u001b[0m\u001b[0mrenderer\u001b[0m \u001b[0;34m=\u001b[0m \u001b[0mself\u001b[0m\u001b[0;34m.\u001b[0m\u001b[0mget_renderer\u001b[0m\u001b[0;34m(\u001b[0m\u001b[0mcleared\u001b[0m\u001b[0;34m=\u001b[0m\u001b[0;32mTrue\u001b[0m\u001b[0;34m)\u001b[0m\u001b[0;34m\u001b[0m\u001b[0;34m\u001b[0m\u001b[0m\n\u001b[1;32m    387\u001b[0m         \u001b[0;32mwith\u001b[0m \u001b[0mRendererAgg\u001b[0m\u001b[0;34m.\u001b[0m\u001b[0mlock\u001b[0m\u001b[0;34m:\u001b[0m\u001b[0;34m\u001b[0m\u001b[0;34m\u001b[0m\u001b[0m\n\u001b[0;32m--> 388\u001b[0;31m             \u001b[0mself\u001b[0m\u001b[0;34m.\u001b[0m\u001b[0mfigure\u001b[0m\u001b[0;34m.\u001b[0m\u001b[0mdraw\u001b[0m\u001b[0;34m(\u001b[0m\u001b[0mself\u001b[0m\u001b[0;34m.\u001b[0m\u001b[0mrenderer\u001b[0m\u001b[0;34m)\u001b[0m\u001b[0;34m\u001b[0m\u001b[0;34m\u001b[0m\u001b[0m\n\u001b[0m\u001b[1;32m    389\u001b[0m             \u001b[0;31m# A GUI class may be need to update a window using this draw, so\u001b[0m\u001b[0;34m\u001b[0m\u001b[0;34m\u001b[0m\u001b[0;34m\u001b[0m\u001b[0m\n\u001b[1;32m    390\u001b[0m             \u001b[0;31m# don't forget to call the superclass.\u001b[0m\u001b[0;34m\u001b[0m\u001b[0;34m\u001b[0m\u001b[0;34m\u001b[0m\u001b[0m\n",
      "\u001b[0;32m~/anaconda3/lib/python3.7/site-packages/matplotlib/artist.py\u001b[0m in \u001b[0;36mdraw_wrapper\u001b[0;34m(artist, renderer, *args, **kwargs)\u001b[0m\n\u001b[1;32m     36\u001b[0m                 \u001b[0mrenderer\u001b[0m\u001b[0;34m.\u001b[0m\u001b[0mstart_filter\u001b[0m\u001b[0;34m(\u001b[0m\u001b[0;34m)\u001b[0m\u001b[0;34m\u001b[0m\u001b[0;34m\u001b[0m\u001b[0m\n\u001b[1;32m     37\u001b[0m \u001b[0;34m\u001b[0m\u001b[0m\n\u001b[0;32m---> 38\u001b[0;31m             \u001b[0;32mreturn\u001b[0m \u001b[0mdraw\u001b[0m\u001b[0;34m(\u001b[0m\u001b[0martist\u001b[0m\u001b[0;34m,\u001b[0m \u001b[0mrenderer\u001b[0m\u001b[0;34m,\u001b[0m \u001b[0;34m*\u001b[0m\u001b[0margs\u001b[0m\u001b[0;34m,\u001b[0m \u001b[0;34m**\u001b[0m\u001b[0mkwargs\u001b[0m\u001b[0;34m)\u001b[0m\u001b[0;34m\u001b[0m\u001b[0;34m\u001b[0m\u001b[0m\n\u001b[0m\u001b[1;32m     39\u001b[0m         \u001b[0;32mfinally\u001b[0m\u001b[0;34m:\u001b[0m\u001b[0;34m\u001b[0m\u001b[0;34m\u001b[0m\u001b[0m\n\u001b[1;32m     40\u001b[0m             \u001b[0;32mif\u001b[0m \u001b[0martist\u001b[0m\u001b[0;34m.\u001b[0m\u001b[0mget_agg_filter\u001b[0m\u001b[0;34m(\u001b[0m\u001b[0;34m)\u001b[0m \u001b[0;32mis\u001b[0m \u001b[0;32mnot\u001b[0m \u001b[0;32mNone\u001b[0m\u001b[0;34m:\u001b[0m\u001b[0;34m\u001b[0m\u001b[0;34m\u001b[0m\u001b[0m\n",
      "\u001b[0;32m~/anaconda3/lib/python3.7/site-packages/matplotlib/figure.py\u001b[0m in \u001b[0;36mdraw\u001b[0;34m(self, renderer)\u001b[0m\n\u001b[1;32m   1707\u001b[0m             \u001b[0mself\u001b[0m\u001b[0;34m.\u001b[0m\u001b[0mpatch\u001b[0m\u001b[0;34m.\u001b[0m\u001b[0mdraw\u001b[0m\u001b[0;34m(\u001b[0m\u001b[0mrenderer\u001b[0m\u001b[0;34m)\u001b[0m\u001b[0;34m\u001b[0m\u001b[0;34m\u001b[0m\u001b[0m\n\u001b[1;32m   1708\u001b[0m             mimage._draw_list_compositing_images(\n\u001b[0;32m-> 1709\u001b[0;31m                 renderer, self, artists, self.suppressComposite)\n\u001b[0m\u001b[1;32m   1710\u001b[0m \u001b[0;34m\u001b[0m\u001b[0m\n\u001b[1;32m   1711\u001b[0m             \u001b[0mrenderer\u001b[0m\u001b[0;34m.\u001b[0m\u001b[0mclose_group\u001b[0m\u001b[0;34m(\u001b[0m\u001b[0;34m'figure'\u001b[0m\u001b[0;34m)\u001b[0m\u001b[0;34m\u001b[0m\u001b[0;34m\u001b[0m\u001b[0m\n",
      "\u001b[0;32m~/anaconda3/lib/python3.7/site-packages/matplotlib/image.py\u001b[0m in \u001b[0;36m_draw_list_compositing_images\u001b[0;34m(renderer, parent, artists, suppress_composite)\u001b[0m\n\u001b[1;32m    133\u001b[0m     \u001b[0;32mif\u001b[0m \u001b[0mnot_composite\u001b[0m \u001b[0;32mor\u001b[0m \u001b[0;32mnot\u001b[0m \u001b[0mhas_images\u001b[0m\u001b[0;34m:\u001b[0m\u001b[0;34m\u001b[0m\u001b[0;34m\u001b[0m\u001b[0m\n\u001b[1;32m    134\u001b[0m         \u001b[0;32mfor\u001b[0m \u001b[0ma\u001b[0m \u001b[0;32min\u001b[0m \u001b[0martists\u001b[0m\u001b[0;34m:\u001b[0m\u001b[0;34m\u001b[0m\u001b[0;34m\u001b[0m\u001b[0m\n\u001b[0;32m--> 135\u001b[0;31m             \u001b[0ma\u001b[0m\u001b[0;34m.\u001b[0m\u001b[0mdraw\u001b[0m\u001b[0;34m(\u001b[0m\u001b[0mrenderer\u001b[0m\u001b[0;34m)\u001b[0m\u001b[0;34m\u001b[0m\u001b[0;34m\u001b[0m\u001b[0m\n\u001b[0m\u001b[1;32m    136\u001b[0m     \u001b[0;32melse\u001b[0m\u001b[0;34m:\u001b[0m\u001b[0;34m\u001b[0m\u001b[0;34m\u001b[0m\u001b[0m\n\u001b[1;32m    137\u001b[0m         \u001b[0;31m# Composite any adjacent images together\u001b[0m\u001b[0;34m\u001b[0m\u001b[0;34m\u001b[0m\u001b[0;34m\u001b[0m\u001b[0m\n",
      "\u001b[0;32m~/anaconda3/lib/python3.7/site-packages/matplotlib/artist.py\u001b[0m in \u001b[0;36mdraw_wrapper\u001b[0;34m(artist, renderer, *args, **kwargs)\u001b[0m\n\u001b[1;32m     36\u001b[0m                 \u001b[0mrenderer\u001b[0m\u001b[0;34m.\u001b[0m\u001b[0mstart_filter\u001b[0m\u001b[0;34m(\u001b[0m\u001b[0;34m)\u001b[0m\u001b[0;34m\u001b[0m\u001b[0;34m\u001b[0m\u001b[0m\n\u001b[1;32m     37\u001b[0m \u001b[0;34m\u001b[0m\u001b[0m\n\u001b[0;32m---> 38\u001b[0;31m             \u001b[0;32mreturn\u001b[0m \u001b[0mdraw\u001b[0m\u001b[0;34m(\u001b[0m\u001b[0martist\u001b[0m\u001b[0;34m,\u001b[0m \u001b[0mrenderer\u001b[0m\u001b[0;34m,\u001b[0m \u001b[0;34m*\u001b[0m\u001b[0margs\u001b[0m\u001b[0;34m,\u001b[0m \u001b[0;34m**\u001b[0m\u001b[0mkwargs\u001b[0m\u001b[0;34m)\u001b[0m\u001b[0;34m\u001b[0m\u001b[0;34m\u001b[0m\u001b[0m\n\u001b[0m\u001b[1;32m     39\u001b[0m         \u001b[0;32mfinally\u001b[0m\u001b[0;34m:\u001b[0m\u001b[0;34m\u001b[0m\u001b[0;34m\u001b[0m\u001b[0m\n\u001b[1;32m     40\u001b[0m             \u001b[0;32mif\u001b[0m \u001b[0martist\u001b[0m\u001b[0;34m.\u001b[0m\u001b[0mget_agg_filter\u001b[0m\u001b[0;34m(\u001b[0m\u001b[0;34m)\u001b[0m \u001b[0;32mis\u001b[0m \u001b[0;32mnot\u001b[0m \u001b[0;32mNone\u001b[0m\u001b[0;34m:\u001b[0m\u001b[0;34m\u001b[0m\u001b[0;34m\u001b[0m\u001b[0m\n",
      "\u001b[0;32m~/anaconda3/lib/python3.7/site-packages/matplotlib/axes/_base.py\u001b[0m in \u001b[0;36mdraw\u001b[0;34m(self, renderer, inframe)\u001b[0m\n\u001b[1;32m   2643\u001b[0m             \u001b[0mrenderer\u001b[0m\u001b[0;34m.\u001b[0m\u001b[0mstop_rasterizing\u001b[0m\u001b[0;34m(\u001b[0m\u001b[0;34m)\u001b[0m\u001b[0;34m\u001b[0m\u001b[0;34m\u001b[0m\u001b[0m\n\u001b[1;32m   2644\u001b[0m \u001b[0;34m\u001b[0m\u001b[0m\n\u001b[0;32m-> 2645\u001b[0;31m         \u001b[0mmimage\u001b[0m\u001b[0;34m.\u001b[0m\u001b[0m_draw_list_compositing_images\u001b[0m\u001b[0;34m(\u001b[0m\u001b[0mrenderer\u001b[0m\u001b[0;34m,\u001b[0m \u001b[0mself\u001b[0m\u001b[0;34m,\u001b[0m \u001b[0martists\u001b[0m\u001b[0;34m)\u001b[0m\u001b[0;34m\u001b[0m\u001b[0;34m\u001b[0m\u001b[0m\n\u001b[0m\u001b[1;32m   2646\u001b[0m \u001b[0;34m\u001b[0m\u001b[0m\n\u001b[1;32m   2647\u001b[0m         \u001b[0mrenderer\u001b[0m\u001b[0;34m.\u001b[0m\u001b[0mclose_group\u001b[0m\u001b[0;34m(\u001b[0m\u001b[0;34m'axes'\u001b[0m\u001b[0;34m)\u001b[0m\u001b[0;34m\u001b[0m\u001b[0;34m\u001b[0m\u001b[0m\n",
      "\u001b[0;32m~/anaconda3/lib/python3.7/site-packages/matplotlib/image.py\u001b[0m in \u001b[0;36m_draw_list_compositing_images\u001b[0;34m(renderer, parent, artists, suppress_composite)\u001b[0m\n\u001b[1;32m    133\u001b[0m     \u001b[0;32mif\u001b[0m \u001b[0mnot_composite\u001b[0m \u001b[0;32mor\u001b[0m \u001b[0;32mnot\u001b[0m \u001b[0mhas_images\u001b[0m\u001b[0;34m:\u001b[0m\u001b[0;34m\u001b[0m\u001b[0;34m\u001b[0m\u001b[0m\n\u001b[1;32m    134\u001b[0m         \u001b[0;32mfor\u001b[0m \u001b[0ma\u001b[0m \u001b[0;32min\u001b[0m \u001b[0martists\u001b[0m\u001b[0;34m:\u001b[0m\u001b[0;34m\u001b[0m\u001b[0;34m\u001b[0m\u001b[0m\n\u001b[0;32m--> 135\u001b[0;31m             \u001b[0ma\u001b[0m\u001b[0;34m.\u001b[0m\u001b[0mdraw\u001b[0m\u001b[0;34m(\u001b[0m\u001b[0mrenderer\u001b[0m\u001b[0;34m)\u001b[0m\u001b[0;34m\u001b[0m\u001b[0;34m\u001b[0m\u001b[0m\n\u001b[0m\u001b[1;32m    136\u001b[0m     \u001b[0;32melse\u001b[0m\u001b[0;34m:\u001b[0m\u001b[0;34m\u001b[0m\u001b[0;34m\u001b[0m\u001b[0m\n\u001b[1;32m    137\u001b[0m         \u001b[0;31m# Composite any adjacent images together\u001b[0m\u001b[0;34m\u001b[0m\u001b[0;34m\u001b[0m\u001b[0;34m\u001b[0m\u001b[0m\n",
      "\u001b[0;32m~/anaconda3/lib/python3.7/site-packages/matplotlib/artist.py\u001b[0m in \u001b[0;36mdraw_wrapper\u001b[0;34m(artist, renderer, *args, **kwargs)\u001b[0m\n\u001b[1;32m     36\u001b[0m                 \u001b[0mrenderer\u001b[0m\u001b[0;34m.\u001b[0m\u001b[0mstart_filter\u001b[0m\u001b[0;34m(\u001b[0m\u001b[0;34m)\u001b[0m\u001b[0;34m\u001b[0m\u001b[0;34m\u001b[0m\u001b[0m\n\u001b[1;32m     37\u001b[0m \u001b[0;34m\u001b[0m\u001b[0m\n\u001b[0;32m---> 38\u001b[0;31m             \u001b[0;32mreturn\u001b[0m \u001b[0mdraw\u001b[0m\u001b[0;34m(\u001b[0m\u001b[0martist\u001b[0m\u001b[0;34m,\u001b[0m \u001b[0mrenderer\u001b[0m\u001b[0;34m,\u001b[0m \u001b[0;34m*\u001b[0m\u001b[0margs\u001b[0m\u001b[0;34m,\u001b[0m \u001b[0;34m**\u001b[0m\u001b[0mkwargs\u001b[0m\u001b[0;34m)\u001b[0m\u001b[0;34m\u001b[0m\u001b[0;34m\u001b[0m\u001b[0m\n\u001b[0m\u001b[1;32m     39\u001b[0m         \u001b[0;32mfinally\u001b[0m\u001b[0;34m:\u001b[0m\u001b[0;34m\u001b[0m\u001b[0;34m\u001b[0m\u001b[0m\n\u001b[1;32m     40\u001b[0m             \u001b[0;32mif\u001b[0m \u001b[0martist\u001b[0m\u001b[0;34m.\u001b[0m\u001b[0mget_agg_filter\u001b[0m\u001b[0;34m(\u001b[0m\u001b[0;34m)\u001b[0m \u001b[0;32mis\u001b[0m \u001b[0;32mnot\u001b[0m \u001b[0;32mNone\u001b[0m\u001b[0;34m:\u001b[0m\u001b[0;34m\u001b[0m\u001b[0;34m\u001b[0m\u001b[0m\n",
      "\u001b[0;32m~/anaconda3/lib/python3.7/site-packages/matplotlib/axis.py\u001b[0m in \u001b[0;36mdraw\u001b[0;34m(self, renderer, *args, **kwargs)\u001b[0m\n\u001b[1;32m   1202\u001b[0m         \u001b[0mrenderer\u001b[0m\u001b[0;34m.\u001b[0m\u001b[0mopen_group\u001b[0m\u001b[0;34m(\u001b[0m\u001b[0m__name__\u001b[0m\u001b[0;34m)\u001b[0m\u001b[0;34m\u001b[0m\u001b[0;34m\u001b[0m\u001b[0m\n\u001b[1;32m   1203\u001b[0m \u001b[0;34m\u001b[0m\u001b[0m\n\u001b[0;32m-> 1204\u001b[0;31m         \u001b[0mticks_to_draw\u001b[0m \u001b[0;34m=\u001b[0m \u001b[0mself\u001b[0m\u001b[0;34m.\u001b[0m\u001b[0m_update_ticks\u001b[0m\u001b[0;34m(\u001b[0m\u001b[0;34m)\u001b[0m\u001b[0;34m\u001b[0m\u001b[0;34m\u001b[0m\u001b[0m\n\u001b[0m\u001b[1;32m   1205\u001b[0m         ticklabelBoxes, ticklabelBoxes2 = self._get_tick_bboxes(ticks_to_draw,\n\u001b[1;32m   1206\u001b[0m                                                                 renderer)\n",
      "\u001b[0;32m~/anaconda3/lib/python3.7/site-packages/matplotlib/axis.py\u001b[0m in \u001b[0;36m_update_ticks\u001b[0;34m(self)\u001b[0m\n\u001b[1;32m   1078\u001b[0m         \u001b[0mthe\u001b[0m \u001b[0maxes\u001b[0m\u001b[0;34m.\u001b[0m  \u001b[0mReturn\u001b[0m \u001b[0mthe\u001b[0m \u001b[0mlist\u001b[0m \u001b[0mof\u001b[0m \u001b[0mticks\u001b[0m \u001b[0mthat\u001b[0m \u001b[0mwill\u001b[0m \u001b[0mbe\u001b[0m \u001b[0mdrawn\u001b[0m\u001b[0;34m.\u001b[0m\u001b[0;34m\u001b[0m\u001b[0;34m\u001b[0m\u001b[0m\n\u001b[1;32m   1079\u001b[0m         \"\"\"\n\u001b[0;32m-> 1080\u001b[0;31m         \u001b[0mmajor_locs\u001b[0m \u001b[0;34m=\u001b[0m \u001b[0mself\u001b[0m\u001b[0;34m.\u001b[0m\u001b[0mget_majorticklocs\u001b[0m\u001b[0;34m(\u001b[0m\u001b[0;34m)\u001b[0m\u001b[0;34m\u001b[0m\u001b[0;34m\u001b[0m\u001b[0m\n\u001b[0m\u001b[1;32m   1081\u001b[0m         \u001b[0mmajor_labels\u001b[0m \u001b[0;34m=\u001b[0m \u001b[0mself\u001b[0m\u001b[0;34m.\u001b[0m\u001b[0mmajor\u001b[0m\u001b[0;34m.\u001b[0m\u001b[0mformatter\u001b[0m\u001b[0;34m.\u001b[0m\u001b[0mformat_ticks\u001b[0m\u001b[0;34m(\u001b[0m\u001b[0mmajor_locs\u001b[0m\u001b[0;34m)\u001b[0m\u001b[0;34m\u001b[0m\u001b[0;34m\u001b[0m\u001b[0m\n\u001b[1;32m   1082\u001b[0m         \u001b[0mmajor_ticks\u001b[0m \u001b[0;34m=\u001b[0m \u001b[0mself\u001b[0m\u001b[0;34m.\u001b[0m\u001b[0mget_major_ticks\u001b[0m\u001b[0;34m(\u001b[0m\u001b[0mlen\u001b[0m\u001b[0;34m(\u001b[0m\u001b[0mmajor_locs\u001b[0m\u001b[0;34m)\u001b[0m\u001b[0;34m)\u001b[0m\u001b[0;34m\u001b[0m\u001b[0;34m\u001b[0m\u001b[0m\n",
      "\u001b[0;32m~/anaconda3/lib/python3.7/site-packages/matplotlib/axis.py\u001b[0m in \u001b[0;36mget_majorticklocs\u001b[0;34m(self)\u001b[0m\n\u001b[1;32m   1323\u001b[0m     \u001b[0;32mdef\u001b[0m \u001b[0mget_majorticklocs\u001b[0m\u001b[0;34m(\u001b[0m\u001b[0mself\u001b[0m\u001b[0;34m)\u001b[0m\u001b[0;34m:\u001b[0m\u001b[0;34m\u001b[0m\u001b[0;34m\u001b[0m\u001b[0m\n\u001b[1;32m   1324\u001b[0m         \u001b[0;34m\"\"\"Get the array of major tick locations in data coordinates.\"\"\"\u001b[0m\u001b[0;34m\u001b[0m\u001b[0;34m\u001b[0m\u001b[0m\n\u001b[0;32m-> 1325\u001b[0;31m         \u001b[0;32mreturn\u001b[0m \u001b[0mself\u001b[0m\u001b[0;34m.\u001b[0m\u001b[0mmajor\u001b[0m\u001b[0;34m.\u001b[0m\u001b[0mlocator\u001b[0m\u001b[0;34m(\u001b[0m\u001b[0;34m)\u001b[0m\u001b[0;34m\u001b[0m\u001b[0;34m\u001b[0m\u001b[0m\n\u001b[0m\u001b[1;32m   1326\u001b[0m \u001b[0;34m\u001b[0m\u001b[0m\n\u001b[1;32m   1327\u001b[0m     \u001b[0;32mdef\u001b[0m \u001b[0mget_minorticklocs\u001b[0m\u001b[0;34m(\u001b[0m\u001b[0mself\u001b[0m\u001b[0;34m)\u001b[0m\u001b[0;34m:\u001b[0m\u001b[0;34m\u001b[0m\u001b[0;34m\u001b[0m\u001b[0m\n",
      "\u001b[0;32m~/anaconda3/lib/python3.7/site-packages/matplotlib/dates.py\u001b[0m in \u001b[0;36m__call__\u001b[0;34m(self)\u001b[0m\n\u001b[1;32m   1432\u001b[0m     \u001b[0;32mdef\u001b[0m \u001b[0m__call__\u001b[0m\u001b[0;34m(\u001b[0m\u001b[0mself\u001b[0m\u001b[0;34m)\u001b[0m\u001b[0;34m:\u001b[0m\u001b[0;34m\u001b[0m\u001b[0;34m\u001b[0m\u001b[0m\n\u001b[1;32m   1433\u001b[0m         \u001b[0;34m'Return the locations of the ticks'\u001b[0m\u001b[0;34m\u001b[0m\u001b[0;34m\u001b[0m\u001b[0m\n\u001b[0;32m-> 1434\u001b[0;31m         \u001b[0mself\u001b[0m\u001b[0;34m.\u001b[0m\u001b[0mrefresh\u001b[0m\u001b[0;34m(\u001b[0m\u001b[0;34m)\u001b[0m\u001b[0;34m\u001b[0m\u001b[0;34m\u001b[0m\u001b[0m\n\u001b[0m\u001b[1;32m   1435\u001b[0m         \u001b[0;32mreturn\u001b[0m \u001b[0mself\u001b[0m\u001b[0;34m.\u001b[0m\u001b[0m_locator\u001b[0m\u001b[0;34m(\u001b[0m\u001b[0;34m)\u001b[0m\u001b[0;34m\u001b[0m\u001b[0;34m\u001b[0m\u001b[0m\n\u001b[1;32m   1436\u001b[0m \u001b[0;34m\u001b[0m\u001b[0m\n",
      "\u001b[0;32m~/anaconda3/lib/python3.7/site-packages/matplotlib/dates.py\u001b[0m in \u001b[0;36mrefresh\u001b[0;34m(self)\u001b[0m\n\u001b[1;32m   1452\u001b[0m     \u001b[0;32mdef\u001b[0m \u001b[0mrefresh\u001b[0m\u001b[0;34m(\u001b[0m\u001b[0mself\u001b[0m\u001b[0;34m)\u001b[0m\u001b[0;34m:\u001b[0m\u001b[0;34m\u001b[0m\u001b[0;34m\u001b[0m\u001b[0m\n\u001b[1;32m   1453\u001b[0m         \u001b[0;34m'Refresh internal information based on current limits.'\u001b[0m\u001b[0;34m\u001b[0m\u001b[0;34m\u001b[0m\u001b[0m\n\u001b[0;32m-> 1454\u001b[0;31m         \u001b[0mdmin\u001b[0m\u001b[0;34m,\u001b[0m \u001b[0mdmax\u001b[0m \u001b[0;34m=\u001b[0m \u001b[0mself\u001b[0m\u001b[0;34m.\u001b[0m\u001b[0mviewlim_to_dt\u001b[0m\u001b[0;34m(\u001b[0m\u001b[0;34m)\u001b[0m\u001b[0;34m\u001b[0m\u001b[0;34m\u001b[0m\u001b[0m\n\u001b[0m\u001b[1;32m   1455\u001b[0m         \u001b[0mself\u001b[0m\u001b[0;34m.\u001b[0m\u001b[0m_locator\u001b[0m \u001b[0;34m=\u001b[0m \u001b[0mself\u001b[0m\u001b[0;34m.\u001b[0m\u001b[0mget_locator\u001b[0m\u001b[0;34m(\u001b[0m\u001b[0mdmin\u001b[0m\u001b[0;34m,\u001b[0m \u001b[0mdmax\u001b[0m\u001b[0;34m)\u001b[0m\u001b[0;34m\u001b[0m\u001b[0;34m\u001b[0m\u001b[0m\n\u001b[1;32m   1456\u001b[0m \u001b[0;34m\u001b[0m\u001b[0m\n",
      "\u001b[0;32m~/anaconda3/lib/python3.7/site-packages/matplotlib/dates.py\u001b[0m in \u001b[0;36mviewlim_to_dt\u001b[0;34m(self)\u001b[0m\n\u001b[1;32m   1203\u001b[0m                              \u001b[0;34m'often happens if you pass a non-datetime '\u001b[0m\u001b[0;34m\u001b[0m\u001b[0;34m\u001b[0m\u001b[0m\n\u001b[1;32m   1204\u001b[0m                              \u001b[0;34m'value to an axis that has datetime units'\u001b[0m\u001b[0;34m\u001b[0m\u001b[0;34m\u001b[0m\u001b[0m\n\u001b[0;32m-> 1205\u001b[0;31m                              .format(vmin))\n\u001b[0m\u001b[1;32m   1206\u001b[0m         \u001b[0;32mreturn\u001b[0m \u001b[0mnum2date\u001b[0m\u001b[0;34m(\u001b[0m\u001b[0mvmin\u001b[0m\u001b[0;34m,\u001b[0m \u001b[0mself\u001b[0m\u001b[0;34m.\u001b[0m\u001b[0mtz\u001b[0m\u001b[0;34m)\u001b[0m\u001b[0;34m,\u001b[0m \u001b[0mnum2date\u001b[0m\u001b[0;34m(\u001b[0m\u001b[0mvmax\u001b[0m\u001b[0;34m,\u001b[0m \u001b[0mself\u001b[0m\u001b[0;34m.\u001b[0m\u001b[0mtz\u001b[0m\u001b[0;34m)\u001b[0m\u001b[0;34m\u001b[0m\u001b[0;34m\u001b[0m\u001b[0m\n\u001b[1;32m   1207\u001b[0m \u001b[0;34m\u001b[0m\u001b[0m\n",
      "\u001b[0;31mValueError\u001b[0m: view limit minimum -36747.23472222222 is less than 1 and is an invalid Matplotlib date value. This often happens if you pass a non-datetime value to an axis that has datetime units"
     ]
    },
    {
     "ename": "ValueError",
     "evalue": "view limit minimum -36747.23472222222 is less than 1 and is an invalid Matplotlib date value. This often happens if you pass a non-datetime value to an axis that has datetime units",
     "output_type": "error",
     "traceback": [
      "\u001b[0;31m---------------------------------------------------------------------------\u001b[0m",
      "\u001b[0;31mValueError\u001b[0m                                Traceback (most recent call last)",
      "\u001b[0;32m~/anaconda3/lib/python3.7/site-packages/ipykernel/pylab/backend_inline.py\u001b[0m in \u001b[0;36mshow\u001b[0;34m(close, block)\u001b[0m\n\u001b[1;32m     37\u001b[0m             display(\n\u001b[1;32m     38\u001b[0m                 \u001b[0mfigure_manager\u001b[0m\u001b[0;34m.\u001b[0m\u001b[0mcanvas\u001b[0m\u001b[0;34m.\u001b[0m\u001b[0mfigure\u001b[0m\u001b[0;34m,\u001b[0m\u001b[0;34m\u001b[0m\u001b[0;34m\u001b[0m\u001b[0m\n\u001b[0;32m---> 39\u001b[0;31m                 \u001b[0mmetadata\u001b[0m\u001b[0;34m=\u001b[0m\u001b[0m_fetch_figure_metadata\u001b[0m\u001b[0;34m(\u001b[0m\u001b[0mfigure_manager\u001b[0m\u001b[0;34m.\u001b[0m\u001b[0mcanvas\u001b[0m\u001b[0;34m.\u001b[0m\u001b[0mfigure\u001b[0m\u001b[0;34m)\u001b[0m\u001b[0;34m\u001b[0m\u001b[0;34m\u001b[0m\u001b[0m\n\u001b[0m\u001b[1;32m     40\u001b[0m             )\n\u001b[1;32m     41\u001b[0m     \u001b[0;32mfinally\u001b[0m\u001b[0;34m:\u001b[0m\u001b[0;34m\u001b[0m\u001b[0;34m\u001b[0m\u001b[0m\n",
      "\u001b[0;32m~/anaconda3/lib/python3.7/site-packages/ipykernel/pylab/backend_inline.py\u001b[0m in \u001b[0;36m_fetch_figure_metadata\u001b[0;34m(fig)\u001b[0m\n\u001b[1;32m    175\u001b[0m         \u001b[0;31m# the background is transparent\u001b[0m\u001b[0;34m\u001b[0m\u001b[0;34m\u001b[0m\u001b[0;34m\u001b[0m\u001b[0m\n\u001b[1;32m    176\u001b[0m         ticksLight = _is_light([label.get_color()\n\u001b[0;32m--> 177\u001b[0;31m                                 \u001b[0;32mfor\u001b[0m \u001b[0maxes\u001b[0m \u001b[0;32min\u001b[0m \u001b[0mfig\u001b[0m\u001b[0;34m.\u001b[0m\u001b[0maxes\u001b[0m\u001b[0;34m\u001b[0m\u001b[0;34m\u001b[0m\u001b[0m\n\u001b[0m\u001b[1;32m    178\u001b[0m                                 \u001b[0;32mfor\u001b[0m \u001b[0maxis\u001b[0m \u001b[0;32min\u001b[0m \u001b[0;34m(\u001b[0m\u001b[0maxes\u001b[0m\u001b[0;34m.\u001b[0m\u001b[0mxaxis\u001b[0m\u001b[0;34m,\u001b[0m \u001b[0maxes\u001b[0m\u001b[0;34m.\u001b[0m\u001b[0myaxis\u001b[0m\u001b[0;34m)\u001b[0m\u001b[0;34m\u001b[0m\u001b[0;34m\u001b[0m\u001b[0m\n\u001b[1;32m    179\u001b[0m                                 for label in axis.get_ticklabels()])\n",
      "\u001b[0;32m~/anaconda3/lib/python3.7/site-packages/ipykernel/pylab/backend_inline.py\u001b[0m in \u001b[0;36m<listcomp>\u001b[0;34m(.0)\u001b[0m\n\u001b[1;32m    177\u001b[0m                                 \u001b[0;32mfor\u001b[0m \u001b[0maxes\u001b[0m \u001b[0;32min\u001b[0m \u001b[0mfig\u001b[0m\u001b[0;34m.\u001b[0m\u001b[0maxes\u001b[0m\u001b[0;34m\u001b[0m\u001b[0;34m\u001b[0m\u001b[0m\n\u001b[1;32m    178\u001b[0m                                 \u001b[0;32mfor\u001b[0m \u001b[0maxis\u001b[0m \u001b[0;32min\u001b[0m \u001b[0;34m(\u001b[0m\u001b[0maxes\u001b[0m\u001b[0;34m.\u001b[0m\u001b[0mxaxis\u001b[0m\u001b[0;34m,\u001b[0m \u001b[0maxes\u001b[0m\u001b[0;34m.\u001b[0m\u001b[0myaxis\u001b[0m\u001b[0;34m)\u001b[0m\u001b[0;34m\u001b[0m\u001b[0;34m\u001b[0m\u001b[0m\n\u001b[0;32m--> 179\u001b[0;31m                                 for label in axis.get_ticklabels()])\n\u001b[0m\u001b[1;32m    180\u001b[0m         \u001b[0;32mif\u001b[0m \u001b[0mticksLight\u001b[0m\u001b[0;34m.\u001b[0m\u001b[0msize\u001b[0m \u001b[0;32mand\u001b[0m \u001b[0;34m(\u001b[0m\u001b[0mticksLight\u001b[0m \u001b[0;34m==\u001b[0m \u001b[0mticksLight\u001b[0m\u001b[0;34m[\u001b[0m\u001b[0;36m0\u001b[0m\u001b[0;34m]\u001b[0m\u001b[0;34m)\u001b[0m\u001b[0;34m.\u001b[0m\u001b[0mall\u001b[0m\u001b[0;34m(\u001b[0m\u001b[0;34m)\u001b[0m\u001b[0;34m:\u001b[0m\u001b[0;34m\u001b[0m\u001b[0;34m\u001b[0m\u001b[0m\n\u001b[1;32m    181\u001b[0m             \u001b[0;31m# there are one or more tick labels, all with the same lightness\u001b[0m\u001b[0;34m\u001b[0m\u001b[0;34m\u001b[0m\u001b[0;34m\u001b[0m\u001b[0m\n",
      "\u001b[0;32m~/anaconda3/lib/python3.7/site-packages/matplotlib/axis.py\u001b[0m in \u001b[0;36mget_ticklabels\u001b[0;34m(self, minor, which)\u001b[0m\n\u001b[1;32m   1295\u001b[0m         \u001b[0;32mif\u001b[0m \u001b[0mminor\u001b[0m\u001b[0;34m:\u001b[0m\u001b[0;34m\u001b[0m\u001b[0;34m\u001b[0m\u001b[0m\n\u001b[1;32m   1296\u001b[0m             \u001b[0;32mreturn\u001b[0m \u001b[0mself\u001b[0m\u001b[0;34m.\u001b[0m\u001b[0mget_minorticklabels\u001b[0m\u001b[0;34m(\u001b[0m\u001b[0;34m)\u001b[0m\u001b[0;34m\u001b[0m\u001b[0;34m\u001b[0m\u001b[0m\n\u001b[0;32m-> 1297\u001b[0;31m         \u001b[0;32mreturn\u001b[0m \u001b[0mself\u001b[0m\u001b[0;34m.\u001b[0m\u001b[0mget_majorticklabels\u001b[0m\u001b[0;34m(\u001b[0m\u001b[0;34m)\u001b[0m\u001b[0;34m\u001b[0m\u001b[0;34m\u001b[0m\u001b[0m\n\u001b[0m\u001b[1;32m   1298\u001b[0m \u001b[0;34m\u001b[0m\u001b[0m\n\u001b[1;32m   1299\u001b[0m     \u001b[0;32mdef\u001b[0m \u001b[0mget_majorticklines\u001b[0m\u001b[0;34m(\u001b[0m\u001b[0mself\u001b[0m\u001b[0;34m)\u001b[0m\u001b[0;34m:\u001b[0m\u001b[0;34m\u001b[0m\u001b[0;34m\u001b[0m\u001b[0m\n",
      "\u001b[0;32m~/anaconda3/lib/python3.7/site-packages/matplotlib/axis.py\u001b[0m in \u001b[0;36mget_majorticklabels\u001b[0;34m(self)\u001b[0m\n\u001b[1;32m   1251\u001b[0m     \u001b[0;32mdef\u001b[0m \u001b[0mget_majorticklabels\u001b[0m\u001b[0;34m(\u001b[0m\u001b[0mself\u001b[0m\u001b[0;34m)\u001b[0m\u001b[0;34m:\u001b[0m\u001b[0;34m\u001b[0m\u001b[0;34m\u001b[0m\u001b[0m\n\u001b[1;32m   1252\u001b[0m         \u001b[0;34m'Return a list of Text instances for the major ticklabels.'\u001b[0m\u001b[0;34m\u001b[0m\u001b[0;34m\u001b[0m\u001b[0m\n\u001b[0;32m-> 1253\u001b[0;31m         \u001b[0mticks\u001b[0m \u001b[0;34m=\u001b[0m \u001b[0mself\u001b[0m\u001b[0;34m.\u001b[0m\u001b[0mget_major_ticks\u001b[0m\u001b[0;34m(\u001b[0m\u001b[0;34m)\u001b[0m\u001b[0;34m\u001b[0m\u001b[0;34m\u001b[0m\u001b[0m\n\u001b[0m\u001b[1;32m   1254\u001b[0m         \u001b[0mlabels1\u001b[0m \u001b[0;34m=\u001b[0m \u001b[0;34m[\u001b[0m\u001b[0mtick\u001b[0m\u001b[0;34m.\u001b[0m\u001b[0mlabel1\u001b[0m \u001b[0;32mfor\u001b[0m \u001b[0mtick\u001b[0m \u001b[0;32min\u001b[0m \u001b[0mticks\u001b[0m \u001b[0;32mif\u001b[0m \u001b[0mtick\u001b[0m\u001b[0;34m.\u001b[0m\u001b[0mlabel1\u001b[0m\u001b[0;34m.\u001b[0m\u001b[0mget_visible\u001b[0m\u001b[0;34m(\u001b[0m\u001b[0;34m)\u001b[0m\u001b[0;34m]\u001b[0m\u001b[0;34m\u001b[0m\u001b[0;34m\u001b[0m\u001b[0m\n\u001b[1;32m   1255\u001b[0m         \u001b[0mlabels2\u001b[0m \u001b[0;34m=\u001b[0m \u001b[0;34m[\u001b[0m\u001b[0mtick\u001b[0m\u001b[0;34m.\u001b[0m\u001b[0mlabel2\u001b[0m \u001b[0;32mfor\u001b[0m \u001b[0mtick\u001b[0m \u001b[0;32min\u001b[0m \u001b[0mticks\u001b[0m \u001b[0;32mif\u001b[0m \u001b[0mtick\u001b[0m\u001b[0;34m.\u001b[0m\u001b[0mlabel2\u001b[0m\u001b[0;34m.\u001b[0m\u001b[0mget_visible\u001b[0m\u001b[0;34m(\u001b[0m\u001b[0;34m)\u001b[0m\u001b[0;34m]\u001b[0m\u001b[0;34m\u001b[0m\u001b[0;34m\u001b[0m\u001b[0m\n",
      "\u001b[0;32m~/anaconda3/lib/python3.7/site-packages/matplotlib/axis.py\u001b[0m in \u001b[0;36mget_major_ticks\u001b[0;34m(self, numticks)\u001b[0m\n\u001b[1;32m   1406\u001b[0m         \u001b[0;34m'Get the tick instances; grow as necessary.'\u001b[0m\u001b[0;34m\u001b[0m\u001b[0;34m\u001b[0m\u001b[0m\n\u001b[1;32m   1407\u001b[0m         \u001b[0;32mif\u001b[0m \u001b[0mnumticks\u001b[0m \u001b[0;32mis\u001b[0m \u001b[0;32mNone\u001b[0m\u001b[0;34m:\u001b[0m\u001b[0;34m\u001b[0m\u001b[0;34m\u001b[0m\u001b[0m\n\u001b[0;32m-> 1408\u001b[0;31m             \u001b[0mnumticks\u001b[0m \u001b[0;34m=\u001b[0m \u001b[0mlen\u001b[0m\u001b[0;34m(\u001b[0m\u001b[0mself\u001b[0m\u001b[0;34m.\u001b[0m\u001b[0mget_majorticklocs\u001b[0m\u001b[0;34m(\u001b[0m\u001b[0;34m)\u001b[0m\u001b[0;34m)\u001b[0m\u001b[0;34m\u001b[0m\u001b[0;34m\u001b[0m\u001b[0m\n\u001b[0m\u001b[1;32m   1409\u001b[0m \u001b[0;34m\u001b[0m\u001b[0m\n\u001b[1;32m   1410\u001b[0m         \u001b[0;32mwhile\u001b[0m \u001b[0mlen\u001b[0m\u001b[0;34m(\u001b[0m\u001b[0mself\u001b[0m\u001b[0;34m.\u001b[0m\u001b[0mmajorTicks\u001b[0m\u001b[0;34m)\u001b[0m \u001b[0;34m<\u001b[0m \u001b[0mnumticks\u001b[0m\u001b[0;34m:\u001b[0m\u001b[0;34m\u001b[0m\u001b[0;34m\u001b[0m\u001b[0m\n",
      "\u001b[0;32m~/anaconda3/lib/python3.7/site-packages/matplotlib/axis.py\u001b[0m in \u001b[0;36mget_majorticklocs\u001b[0;34m(self)\u001b[0m\n\u001b[1;32m   1323\u001b[0m     \u001b[0;32mdef\u001b[0m \u001b[0mget_majorticklocs\u001b[0m\u001b[0;34m(\u001b[0m\u001b[0mself\u001b[0m\u001b[0;34m)\u001b[0m\u001b[0;34m:\u001b[0m\u001b[0;34m\u001b[0m\u001b[0;34m\u001b[0m\u001b[0m\n\u001b[1;32m   1324\u001b[0m         \u001b[0;34m\"\"\"Get the array of major tick locations in data coordinates.\"\"\"\u001b[0m\u001b[0;34m\u001b[0m\u001b[0;34m\u001b[0m\u001b[0m\n\u001b[0;32m-> 1325\u001b[0;31m         \u001b[0;32mreturn\u001b[0m \u001b[0mself\u001b[0m\u001b[0;34m.\u001b[0m\u001b[0mmajor\u001b[0m\u001b[0;34m.\u001b[0m\u001b[0mlocator\u001b[0m\u001b[0;34m(\u001b[0m\u001b[0;34m)\u001b[0m\u001b[0;34m\u001b[0m\u001b[0;34m\u001b[0m\u001b[0m\n\u001b[0m\u001b[1;32m   1326\u001b[0m \u001b[0;34m\u001b[0m\u001b[0m\n\u001b[1;32m   1327\u001b[0m     \u001b[0;32mdef\u001b[0m \u001b[0mget_minorticklocs\u001b[0m\u001b[0;34m(\u001b[0m\u001b[0mself\u001b[0m\u001b[0;34m)\u001b[0m\u001b[0;34m:\u001b[0m\u001b[0;34m\u001b[0m\u001b[0;34m\u001b[0m\u001b[0m\n",
      "\u001b[0;32m~/anaconda3/lib/python3.7/site-packages/matplotlib/dates.py\u001b[0m in \u001b[0;36m__call__\u001b[0;34m(self)\u001b[0m\n\u001b[1;32m   1432\u001b[0m     \u001b[0;32mdef\u001b[0m \u001b[0m__call__\u001b[0m\u001b[0;34m(\u001b[0m\u001b[0mself\u001b[0m\u001b[0;34m)\u001b[0m\u001b[0;34m:\u001b[0m\u001b[0;34m\u001b[0m\u001b[0;34m\u001b[0m\u001b[0m\n\u001b[1;32m   1433\u001b[0m         \u001b[0;34m'Return the locations of the ticks'\u001b[0m\u001b[0;34m\u001b[0m\u001b[0;34m\u001b[0m\u001b[0m\n\u001b[0;32m-> 1434\u001b[0;31m         \u001b[0mself\u001b[0m\u001b[0;34m.\u001b[0m\u001b[0mrefresh\u001b[0m\u001b[0;34m(\u001b[0m\u001b[0;34m)\u001b[0m\u001b[0;34m\u001b[0m\u001b[0;34m\u001b[0m\u001b[0m\n\u001b[0m\u001b[1;32m   1435\u001b[0m         \u001b[0;32mreturn\u001b[0m \u001b[0mself\u001b[0m\u001b[0;34m.\u001b[0m\u001b[0m_locator\u001b[0m\u001b[0;34m(\u001b[0m\u001b[0;34m)\u001b[0m\u001b[0;34m\u001b[0m\u001b[0;34m\u001b[0m\u001b[0m\n\u001b[1;32m   1436\u001b[0m \u001b[0;34m\u001b[0m\u001b[0m\n",
      "\u001b[0;32m~/anaconda3/lib/python3.7/site-packages/matplotlib/dates.py\u001b[0m in \u001b[0;36mrefresh\u001b[0;34m(self)\u001b[0m\n\u001b[1;32m   1452\u001b[0m     \u001b[0;32mdef\u001b[0m \u001b[0mrefresh\u001b[0m\u001b[0;34m(\u001b[0m\u001b[0mself\u001b[0m\u001b[0;34m)\u001b[0m\u001b[0;34m:\u001b[0m\u001b[0;34m\u001b[0m\u001b[0;34m\u001b[0m\u001b[0m\n\u001b[1;32m   1453\u001b[0m         \u001b[0;34m'Refresh internal information based on current limits.'\u001b[0m\u001b[0;34m\u001b[0m\u001b[0;34m\u001b[0m\u001b[0m\n\u001b[0;32m-> 1454\u001b[0;31m         \u001b[0mdmin\u001b[0m\u001b[0;34m,\u001b[0m \u001b[0mdmax\u001b[0m \u001b[0;34m=\u001b[0m \u001b[0mself\u001b[0m\u001b[0;34m.\u001b[0m\u001b[0mviewlim_to_dt\u001b[0m\u001b[0;34m(\u001b[0m\u001b[0;34m)\u001b[0m\u001b[0;34m\u001b[0m\u001b[0;34m\u001b[0m\u001b[0m\n\u001b[0m\u001b[1;32m   1455\u001b[0m         \u001b[0mself\u001b[0m\u001b[0;34m.\u001b[0m\u001b[0m_locator\u001b[0m \u001b[0;34m=\u001b[0m \u001b[0mself\u001b[0m\u001b[0;34m.\u001b[0m\u001b[0mget_locator\u001b[0m\u001b[0;34m(\u001b[0m\u001b[0mdmin\u001b[0m\u001b[0;34m,\u001b[0m \u001b[0mdmax\u001b[0m\u001b[0;34m)\u001b[0m\u001b[0;34m\u001b[0m\u001b[0;34m\u001b[0m\u001b[0m\n\u001b[1;32m   1456\u001b[0m \u001b[0;34m\u001b[0m\u001b[0m\n",
      "\u001b[0;32m~/anaconda3/lib/python3.7/site-packages/matplotlib/dates.py\u001b[0m in \u001b[0;36mviewlim_to_dt\u001b[0;34m(self)\u001b[0m\n\u001b[1;32m   1203\u001b[0m                              \u001b[0;34m'often happens if you pass a non-datetime '\u001b[0m\u001b[0;34m\u001b[0m\u001b[0;34m\u001b[0m\u001b[0m\n\u001b[1;32m   1204\u001b[0m                              \u001b[0;34m'value to an axis that has datetime units'\u001b[0m\u001b[0;34m\u001b[0m\u001b[0;34m\u001b[0m\u001b[0m\n\u001b[0;32m-> 1205\u001b[0;31m                              .format(vmin))\n\u001b[0m\u001b[1;32m   1206\u001b[0m         \u001b[0;32mreturn\u001b[0m \u001b[0mnum2date\u001b[0m\u001b[0;34m(\u001b[0m\u001b[0mvmin\u001b[0m\u001b[0;34m,\u001b[0m \u001b[0mself\u001b[0m\u001b[0;34m.\u001b[0m\u001b[0mtz\u001b[0m\u001b[0;34m)\u001b[0m\u001b[0;34m,\u001b[0m \u001b[0mnum2date\u001b[0m\u001b[0;34m(\u001b[0m\u001b[0mvmax\u001b[0m\u001b[0;34m,\u001b[0m \u001b[0mself\u001b[0m\u001b[0;34m.\u001b[0m\u001b[0mtz\u001b[0m\u001b[0;34m)\u001b[0m\u001b[0;34m\u001b[0m\u001b[0;34m\u001b[0m\u001b[0m\n\u001b[1;32m   1207\u001b[0m \u001b[0;34m\u001b[0m\u001b[0m\n",
      "\u001b[0;31mValueError\u001b[0m: view limit minimum -36747.23472222222 is less than 1 and is an invalid Matplotlib date value. This often happens if you pass a non-datetime value to an axis that has datetime units"
     ]
    }
   ],
   "source": [
    "output_train_plot = output_train.set_index(output_train['time_step'])\n",
    "output_train_plot = output_train_plot.head(1000)\n",
    "\n",
    "rcParams['figure.figsize'] = (18, 6)\n",
    "fig = output_train_plot.plot()"
   ]
  },
  {
   "cell_type": "code",
   "execution_count": 7,
   "metadata": {},
   "outputs": [],
   "source": [
    "# plot input_train (total consumption)"
   ]
  },
  {
   "cell_type": "code",
   "execution_count": 8,
   "metadata": {},
   "outputs": [],
   "source": [
    "# plot pie plot of proportions of consumption"
   ]
  },
  {
   "cell_type": "code",
   "execution_count": null,
   "metadata": {},
   "outputs": [],
   "source": []
  },
  {
   "cell_type": "markdown",
   "metadata": {},
   "source": [
    "### Missing values"
   ]
  },
  {
   "cell_type": "code",
   "execution_count": 9,
   "metadata": {},
   "outputs": [
    {
     "name": "stdout",
     "output_type": "stream",
     "text": [
      "time_step      0.000000\n",
      "consumption    0.024500\n",
      "visibility     0.983391\n",
      "temperature    0.983364\n",
      "humidity       0.983391\n",
      "humidex        0.983391\n",
      "windchill      0.983410\n",
      "wind           0.983391\n",
      "pressure       0.983400\n",
      "dtype: float64\n"
     ]
    },
    {
     "data": {
      "image/png": "[encoded data removed]",
      "text/plain": [
       "<Figure size 1080x288 with 1 Axes>"
      ]
     },
     "metadata": {
      "needs_background": "light"
     },
     "output_type": "display_data"
    }
   ],
   "source": [
    "# Show % of missing values in the input_train dataset\n",
    "\n",
    "missing = input_train.isna().sum()\n",
    "missing = missing / len(input_train)\n",
    "print(missing)\n",
    "\n",
    "ax = missing.plot(kind='bar',figsize=(15,4),width = 0.8,edgecolor=None)\n",
    "plt.title(\"% of missing values in the input_train dataset\",fontsize= 16)\n",
    "\n",
    "for p in ax.patches:\n",
    "    width, height = p.get_width(), p.get_height()\n",
    "    x, y = p.get_xy() \n",
    "    ax.annotate('{:.0%}'.format(height), (p.get_x()+.5*width, p.get_y()+.5*height), ha = 'center')"
   ]
  },
  {
   "cell_type": "code",
   "execution_count": 10,
   "metadata": {
    "scrolled": true
   },
   "outputs": [
    {
     "data": {
      "text/plain": [
       "<matplotlib.axes._subplots.AxesSubplot at 0x1a18fab4a8>"
      ]
     },
     "execution_count": 10,
     "metadata": {},
     "output_type": "execute_result"
    },
    {
     "data": {
      "image/png": "[encoded data removed]",
      "text/plain": [
       "<Figure size 1800x720 with 2 Axes>"
      ]
     },
     "metadata": {
      "needs_background": "light"
     },
     "output_type": "display_data"
    }
   ],
   "source": [
    "# Visualize missing values repartition in the first 10h of the dataset\n",
    "\n",
    "import missingno as msno\n",
    "msno.matrix(input_train[:600])"
   ]
  },
  {
   "cell_type": "markdown",
   "metadata": {},
   "source": [
    "We can see that all meteorological features are measured once per hour (i.e. 10 values/lines are visible on the graph above, for the 10 first hours of the dataset), which explains the high proportion of missing values.\n",
    "\n",
    "To impute these missing values in-between the measurements, we will use the [backward interpolation] method. (why?)"
   ]
  },
  {
   "cell_type": "code",
   "execution_count": 11,
   "metadata": {
    "scrolled": true
   },
   "outputs": [
    {
     "data": {
      "text/html": [
       "<div>\n",
       "<style scoped>\n",
       "    .dataframe tbody tr th:only-of-type {\n",
       "        vertical-align: middle;\n",
       "    }\n",
       "\n",
       "    .dataframe tbody tr th {\n",
       "        vertical-align: top;\n",
       "    }\n",
       "\n",
       "    .dataframe thead th {\n",
       "        text-align: right;\n",
       "    }\n",
       "</style>\n",
       "<table border=\"1\" class=\"dataframe\">\n",
       "  <thead>\n",
       "    <tr style=\"text-align: right;\">\n",
       "      <th></th>\n",
       "      <th>time_step</th>\n",
       "      <th>consumption</th>\n",
       "      <th>visibility</th>\n",
       "      <th>temperature</th>\n",
       "      <th>humidity</th>\n",
       "      <th>humidex</th>\n",
       "      <th>windchill</th>\n",
       "      <th>wind</th>\n",
       "      <th>pressure</th>\n",
       "    </tr>\n",
       "  </thead>\n",
       "  <tbody>\n",
       "    <tr>\n",
       "      <td>50</td>\n",
       "      <td>2013-03-17 00:51:00</td>\n",
       "      <td>596.9306</td>\n",
       "      <td>35.0</td>\n",
       "      <td>8.9</td>\n",
       "      <td>86.000000</td>\n",
       "      <td>8.9</td>\n",
       "      <td>6.000000</td>\n",
       "      <td>19.000000</td>\n",
       "      <td>1017.300000</td>\n",
       "    </tr>\n",
       "    <tr>\n",
       "      <td>51</td>\n",
       "      <td>2013-03-17 00:52:00</td>\n",
       "      <td>604.4273</td>\n",
       "      <td>35.0</td>\n",
       "      <td>8.9</td>\n",
       "      <td>86.000000</td>\n",
       "      <td>8.9</td>\n",
       "      <td>6.000000</td>\n",
       "      <td>19.000000</td>\n",
       "      <td>1017.300000</td>\n",
       "    </tr>\n",
       "    <tr>\n",
       "      <td>52</td>\n",
       "      <td>2013-03-17 00:53:00</td>\n",
       "      <td>604.0000</td>\n",
       "      <td>35.0</td>\n",
       "      <td>8.9</td>\n",
       "      <td>86.000000</td>\n",
       "      <td>8.9</td>\n",
       "      <td>6.000000</td>\n",
       "      <td>19.000000</td>\n",
       "      <td>1017.300000</td>\n",
       "    </tr>\n",
       "    <tr>\n",
       "      <td>53</td>\n",
       "      <td>2013-03-17 00:54:00</td>\n",
       "      <td>602.4040</td>\n",
       "      <td>35.0</td>\n",
       "      <td>8.9</td>\n",
       "      <td>86.000000</td>\n",
       "      <td>8.9</td>\n",
       "      <td>6.000000</td>\n",
       "      <td>19.000000</td>\n",
       "      <td>1017.300000</td>\n",
       "    </tr>\n",
       "    <tr>\n",
       "      <td>54</td>\n",
       "      <td>2013-03-17 00:55:00</td>\n",
       "      <td>668.0111</td>\n",
       "      <td>35.0</td>\n",
       "      <td>8.9</td>\n",
       "      <td>86.000000</td>\n",
       "      <td>8.9</td>\n",
       "      <td>6.000000</td>\n",
       "      <td>19.000000</td>\n",
       "      <td>1017.300000</td>\n",
       "    </tr>\n",
       "    <tr>\n",
       "      <td>55</td>\n",
       "      <td>2013-03-17 00:56:00</td>\n",
       "      <td>642.6060</td>\n",
       "      <td>35.0</td>\n",
       "      <td>8.9</td>\n",
       "      <td>86.000000</td>\n",
       "      <td>8.9</td>\n",
       "      <td>6.000000</td>\n",
       "      <td>19.000000</td>\n",
       "      <td>1017.300000</td>\n",
       "    </tr>\n",
       "    <tr>\n",
       "      <td>56</td>\n",
       "      <td>2013-03-17 00:57:00</td>\n",
       "      <td>601.3000</td>\n",
       "      <td>35.0</td>\n",
       "      <td>8.9</td>\n",
       "      <td>86.000000</td>\n",
       "      <td>8.9</td>\n",
       "      <td>6.000000</td>\n",
       "      <td>19.000000</td>\n",
       "      <td>1017.300000</td>\n",
       "    </tr>\n",
       "    <tr>\n",
       "      <td>57</td>\n",
       "      <td>2013-03-17 00:58:00</td>\n",
       "      <td>594.9556</td>\n",
       "      <td>35.0</td>\n",
       "      <td>8.9</td>\n",
       "      <td>86.000000</td>\n",
       "      <td>8.9</td>\n",
       "      <td>6.000000</td>\n",
       "      <td>19.000000</td>\n",
       "      <td>1017.300000</td>\n",
       "    </tr>\n",
       "    <tr>\n",
       "      <td>58</td>\n",
       "      <td>2013-03-17 00:59:00</td>\n",
       "      <td>586.2000</td>\n",
       "      <td>35.0</td>\n",
       "      <td>8.9</td>\n",
       "      <td>86.000000</td>\n",
       "      <td>8.9</td>\n",
       "      <td>6.000000</td>\n",
       "      <td>19.000000</td>\n",
       "      <td>1017.300000</td>\n",
       "    </tr>\n",
       "    <tr>\n",
       "      <td>59</td>\n",
       "      <td>2013-03-17 01:00:00</td>\n",
       "      <td>586.9000</td>\n",
       "      <td>35.0</td>\n",
       "      <td>8.9</td>\n",
       "      <td>86.000000</td>\n",
       "      <td>8.9</td>\n",
       "      <td>6.000000</td>\n",
       "      <td>19.000000</td>\n",
       "      <td>1017.300000</td>\n",
       "    </tr>\n",
       "    <tr>\n",
       "      <td>60</td>\n",
       "      <td>2013-03-17 01:01:00</td>\n",
       "      <td>616.5000</td>\n",
       "      <td>34.6</td>\n",
       "      <td>8.9</td>\n",
       "      <td>86.033333</td>\n",
       "      <td>8.9</td>\n",
       "      <td>6.003333</td>\n",
       "      <td>18.966667</td>\n",
       "      <td>1017.293333</td>\n",
       "    </tr>\n",
       "    <tr>\n",
       "      <td>61</td>\n",
       "      <td>2013-03-17 01:02:00</td>\n",
       "      <td>541.0667</td>\n",
       "      <td>34.2</td>\n",
       "      <td>8.9</td>\n",
       "      <td>86.066667</td>\n",
       "      <td>8.9</td>\n",
       "      <td>6.006667</td>\n",
       "      <td>18.933333</td>\n",
       "      <td>1017.286667</td>\n",
       "    </tr>\n",
       "    <tr>\n",
       "      <td>62</td>\n",
       "      <td>2013-03-17 01:03:00</td>\n",
       "      <td>541.2000</td>\n",
       "      <td>33.8</td>\n",
       "      <td>8.9</td>\n",
       "      <td>86.100000</td>\n",
       "      <td>8.9</td>\n",
       "      <td>6.010000</td>\n",
       "      <td>18.900000</td>\n",
       "      <td>1017.280000</td>\n",
       "    </tr>\n",
       "    <tr>\n",
       "      <td>63</td>\n",
       "      <td>2013-03-17 01:04:00</td>\n",
       "      <td>540.5000</td>\n",
       "      <td>33.4</td>\n",
       "      <td>8.9</td>\n",
       "      <td>86.133333</td>\n",
       "      <td>8.9</td>\n",
       "      <td>6.013333</td>\n",
       "      <td>18.866667</td>\n",
       "      <td>1017.273333</td>\n",
       "    </tr>\n",
       "    <tr>\n",
       "      <td>64</td>\n",
       "      <td>2013-03-17 01:05:00</td>\n",
       "      <td>540.8000</td>\n",
       "      <td>33.0</td>\n",
       "      <td>8.9</td>\n",
       "      <td>86.166667</td>\n",
       "      <td>8.9</td>\n",
       "      <td>6.016667</td>\n",
       "      <td>18.833333</td>\n",
       "      <td>1017.266667</td>\n",
       "    </tr>\n",
       "    <tr>\n",
       "      <td>65</td>\n",
       "      <td>2013-03-17 01:06:00</td>\n",
       "      <td>540.5000</td>\n",
       "      <td>32.6</td>\n",
       "      <td>8.9</td>\n",
       "      <td>86.200000</td>\n",
       "      <td>8.9</td>\n",
       "      <td>6.020000</td>\n",
       "      <td>18.800000</td>\n",
       "      <td>1017.260000</td>\n",
       "    </tr>\n",
       "    <tr>\n",
       "      <td>66</td>\n",
       "      <td>2013-03-17 01:07:00</td>\n",
       "      <td>543.6000</td>\n",
       "      <td>32.2</td>\n",
       "      <td>8.9</td>\n",
       "      <td>86.233333</td>\n",
       "      <td>8.9</td>\n",
       "      <td>6.023333</td>\n",
       "      <td>18.766667</td>\n",
       "      <td>1017.253333</td>\n",
       "    </tr>\n",
       "    <tr>\n",
       "      <td>67</td>\n",
       "      <td>2013-03-17 01:08:00</td>\n",
       "      <td>548.5000</td>\n",
       "      <td>31.8</td>\n",
       "      <td>8.9</td>\n",
       "      <td>86.266667</td>\n",
       "      <td>8.9</td>\n",
       "      <td>6.026667</td>\n",
       "      <td>18.733333</td>\n",
       "      <td>1017.246667</td>\n",
       "    </tr>\n",
       "    <tr>\n",
       "      <td>68</td>\n",
       "      <td>2013-03-17 01:09:00</td>\n",
       "      <td>542.8000</td>\n",
       "      <td>31.4</td>\n",
       "      <td>8.9</td>\n",
       "      <td>86.300000</td>\n",
       "      <td>8.9</td>\n",
       "      <td>6.030000</td>\n",
       "      <td>18.700000</td>\n",
       "      <td>1017.240000</td>\n",
       "    </tr>\n",
       "    <tr>\n",
       "      <td>69</td>\n",
       "      <td>2013-03-17 01:10:00</td>\n",
       "      <td>542.3000</td>\n",
       "      <td>31.0</td>\n",
       "      <td>8.9</td>\n",
       "      <td>86.333333</td>\n",
       "      <td>8.9</td>\n",
       "      <td>6.033333</td>\n",
       "      <td>18.666667</td>\n",
       "      <td>1017.233333</td>\n",
       "    </tr>\n",
       "    <tr>\n",
       "      <td>70</td>\n",
       "      <td>2013-03-17 01:11:00</td>\n",
       "      <td>542.7000</td>\n",
       "      <td>30.6</td>\n",
       "      <td>8.9</td>\n",
       "      <td>86.366667</td>\n",
       "      <td>8.9</td>\n",
       "      <td>6.036667</td>\n",
       "      <td>18.633333</td>\n",
       "      <td>1017.226667</td>\n",
       "    </tr>\n",
       "    <tr>\n",
       "      <td>71</td>\n",
       "      <td>2013-03-17 01:12:00</td>\n",
       "      <td>542.7000</td>\n",
       "      <td>30.2</td>\n",
       "      <td>8.9</td>\n",
       "      <td>86.400000</td>\n",
       "      <td>8.9</td>\n",
       "      <td>6.040000</td>\n",
       "      <td>18.600000</td>\n",
       "      <td>1017.220000</td>\n",
       "    </tr>\n",
       "    <tr>\n",
       "      <td>72</td>\n",
       "      <td>2013-03-17 01:13:00</td>\n",
       "      <td>543.7000</td>\n",
       "      <td>29.8</td>\n",
       "      <td>8.9</td>\n",
       "      <td>86.433333</td>\n",
       "      <td>8.9</td>\n",
       "      <td>6.043333</td>\n",
       "      <td>18.566667</td>\n",
       "      <td>1017.213333</td>\n",
       "    </tr>\n",
       "    <tr>\n",
       "      <td>73</td>\n",
       "      <td>2013-03-17 01:14:00</td>\n",
       "      <td>542.2000</td>\n",
       "      <td>29.4</td>\n",
       "      <td>8.9</td>\n",
       "      <td>86.466667</td>\n",
       "      <td>8.9</td>\n",
       "      <td>6.046667</td>\n",
       "      <td>18.533333</td>\n",
       "      <td>1017.206667</td>\n",
       "    </tr>\n",
       "    <tr>\n",
       "      <td>74</td>\n",
       "      <td>2013-03-17 01:15:00</td>\n",
       "      <td>539.5000</td>\n",
       "      <td>29.0</td>\n",
       "      <td>8.9</td>\n",
       "      <td>86.500000</td>\n",
       "      <td>8.9</td>\n",
       "      <td>6.050000</td>\n",
       "      <td>18.500000</td>\n",
       "      <td>1017.200000</td>\n",
       "    </tr>\n",
       "    <tr>\n",
       "      <td>75</td>\n",
       "      <td>2013-03-17 01:16:00</td>\n",
       "      <td>540.2000</td>\n",
       "      <td>28.6</td>\n",
       "      <td>8.9</td>\n",
       "      <td>86.533333</td>\n",
       "      <td>8.9</td>\n",
       "      <td>6.053333</td>\n",
       "      <td>18.466667</td>\n",
       "      <td>1017.193333</td>\n",
       "    </tr>\n",
       "    <tr>\n",
       "      <td>76</td>\n",
       "      <td>2013-03-17 01:17:00</td>\n",
       "      <td>539.3636</td>\n",
       "      <td>28.2</td>\n",
       "      <td>8.9</td>\n",
       "      <td>86.566667</td>\n",
       "      <td>8.9</td>\n",
       "      <td>6.056667</td>\n",
       "      <td>18.433333</td>\n",
       "      <td>1017.186667</td>\n",
       "    </tr>\n",
       "    <tr>\n",
       "      <td>77</td>\n",
       "      <td>2013-03-17 01:18:00</td>\n",
       "      <td>538.6111</td>\n",
       "      <td>27.8</td>\n",
       "      <td>8.9</td>\n",
       "      <td>86.600000</td>\n",
       "      <td>8.9</td>\n",
       "      <td>6.060000</td>\n",
       "      <td>18.400000</td>\n",
       "      <td>1017.180000</td>\n",
       "    </tr>\n",
       "    <tr>\n",
       "      <td>78</td>\n",
       "      <td>2013-03-17 01:19:00</td>\n",
       "      <td>527.5000</td>\n",
       "      <td>27.4</td>\n",
       "      <td>8.9</td>\n",
       "      <td>86.633333</td>\n",
       "      <td>8.9</td>\n",
       "      <td>6.063333</td>\n",
       "      <td>18.366667</td>\n",
       "      <td>1017.173333</td>\n",
       "    </tr>\n",
       "    <tr>\n",
       "      <td>79</td>\n",
       "      <td>2013-03-17 01:20:00</td>\n",
       "      <td>528.2000</td>\n",
       "      <td>27.0</td>\n",
       "      <td>8.9</td>\n",
       "      <td>86.666667</td>\n",
       "      <td>8.9</td>\n",
       "      <td>6.066667</td>\n",
       "      <td>18.333333</td>\n",
       "      <td>1017.166667</td>\n",
       "    </tr>\n",
       "  </tbody>\n",
       "</table>\n",
       "</div>"
      ],
      "text/plain": [
       "             time_step  consumption  visibility  temperature   humidity  \\\n",
       "50 2013-03-17 00:51:00     596.9306        35.0          8.9  86.000000   \n",
       "51 2013-03-17 00:52:00     604.4273        35.0          8.9  86.000000   \n",
       "52 2013-03-17 00:53:00     604.0000        35.0          8.9  86.000000   \n",
       "53 2013-03-17 00:54:00     602.4040        35.0          8.9  86.000000   \n",
       "54 2013-03-17 00:55:00     668.0111        35.0          8.9  86.000000   \n",
       "55 2013-03-17 00:56:00     642.6060        35.0          8.9  86.000000   \n",
       "56 2013-03-17 00:57:00     601.3000        35.0          8.9  86.000000   \n",
       "57 2013-03-17 00:58:00     594.9556        35.0          8.9  86.000000   \n",
       "58 2013-03-17 00:59:00     586.2000        35.0          8.9  86.000000   \n",
       "59 2013-03-17 01:00:00     586.9000        35.0          8.9  86.000000   \n",
       "60 2013-03-17 01:01:00     616.5000        34.6          8.9  86.033333   \n",
       "61 2013-03-17 01:02:00     541.0667        34.2          8.9  86.066667   \n",
       "62 2013-03-17 01:03:00     541.2000        33.8          8.9  86.100000   \n",
       "63 2013-03-17 01:04:00     540.5000        33.4          8.9  86.133333   \n",
       "64 2013-03-17 01:05:00     540.8000        33.0          8.9  86.166667   \n",
       "65 2013-03-17 01:06:00     540.5000        32.6          8.9  86.200000   \n",
       "66 2013-03-17 01:07:00     543.6000        32.2          8.9  86.233333   \n",
       "67 2013-03-17 01:08:00     548.5000        31.8          8.9  86.266667   \n",
       "68 2013-03-17 01:09:00     542.8000        31.4          8.9  86.300000   \n",
       "69 2013-03-17 01:10:00     542.3000        31.0          8.9  86.333333   \n",
       "70 2013-03-17 01:11:00     542.7000        30.6          8.9  86.366667   \n",
       "71 2013-03-17 01:12:00     542.7000        30.2          8.9  86.400000   \n",
       "72 2013-03-17 01:13:00     543.7000        29.8          8.9  86.433333   \n",
       "73 2013-03-17 01:14:00     542.2000        29.4          8.9  86.466667   \n",
       "74 2013-03-17 01:15:00     539.5000        29.0          8.9  86.500000   \n",
       "75 2013-03-17 01:16:00     540.2000        28.6          8.9  86.533333   \n",
       "76 2013-03-17 01:17:00     539.3636        28.2          8.9  86.566667   \n",
       "77 2013-03-17 01:18:00     538.6111        27.8          8.9  86.600000   \n",
       "78 2013-03-17 01:19:00     527.5000        27.4          8.9  86.633333   \n",
       "79 2013-03-17 01:20:00     528.2000        27.0          8.9  86.666667   \n",
       "\n",
       "    humidex  windchill       wind     pressure  \n",
       "50      8.9   6.000000  19.000000  1017.300000  \n",
       "51      8.9   6.000000  19.000000  1017.300000  \n",
       "52      8.9   6.000000  19.000000  1017.300000  \n",
       "53      8.9   6.000000  19.000000  1017.300000  \n",
       "54      8.9   6.000000  19.000000  1017.300000  \n",
       "55      8.9   6.000000  19.000000  1017.300000  \n",
       "56      8.9   6.000000  19.000000  1017.300000  \n",
       "57      8.9   6.000000  19.000000  1017.300000  \n",
       "58      8.9   6.000000  19.000000  1017.300000  \n",
       "59      8.9   6.000000  19.000000  1017.300000  \n",
       "60      8.9   6.003333  18.966667  1017.293333  \n",
       "61      8.9   6.006667  18.933333  1017.286667  \n",
       "62      8.9   6.010000  18.900000  1017.280000  \n",
       "63      8.9   6.013333  18.866667  1017.273333  \n",
       "64      8.9   6.016667  18.833333  1017.266667  \n",
       "65      8.9   6.020000  18.800000  1017.260000  \n",
       "66      8.9   6.023333  18.766667  1017.253333  \n",
       "67      8.9   6.026667  18.733333  1017.246667  \n",
       "68      8.9   6.030000  18.700000  1017.240000  \n",
       "69      8.9   6.033333  18.666667  1017.233333  \n",
       "70      8.9   6.036667  18.633333  1017.226667  \n",
       "71      8.9   6.040000  18.600000  1017.220000  \n",
       "72      8.9   6.043333  18.566667  1017.213333  \n",
       "73      8.9   6.046667  18.533333  1017.206667  \n",
       "74      8.9   6.050000  18.500000  1017.200000  \n",
       "75      8.9   6.053333  18.466667  1017.193333  \n",
       "76      8.9   6.056667  18.433333  1017.186667  \n",
       "77      8.9   6.060000  18.400000  1017.180000  \n",
       "78      8.9   6.063333  18.366667  1017.173333  \n",
       "79      8.9   6.066667  18.333333  1017.166667  "
      ]
     },
     "execution_count": 11,
     "metadata": {},
     "output_type": "execute_result"
    }
   ],
   "source": [
    "# Imputation of missing weather data with interpolation method\n",
    "\n",
    "to_interpolate = input_train.columns[-7:] # selects weather features\n",
    "input_train[to_interpolate] = pd.Series.interpolate(input_train[to_interpolate],\n",
    "                                                    method='linear', limit=None, \n",
    "                                                    limit_direction='both')\n",
    "\n",
    "input_train[50:80]"
   ]
  },
  {
   "cell_type": "code",
   "execution_count": 12,
   "metadata": {},
   "outputs": [
    {
     "data": {
      "text/plain": [
       "time_step          0\n",
       "consumption    10231\n",
       "visibility         0\n",
       "temperature        0\n",
       "humidity           0\n",
       "humidex            0\n",
       "windchill          0\n",
       "wind               0\n",
       "pressure           0\n",
       "dtype: int64"
      ]
     },
     "execution_count": 12,
     "metadata": {},
     "output_type": "execute_result"
    }
   ],
   "source": [
    "input_train.isna().sum()"
   ]
  },
  {
   "cell_type": "code",
   "execution_count": 13,
   "metadata": {},
   "outputs": [
    {
     "data": {
      "text/html": [
       "<div>\n",
       "<style scoped>\n",
       "    .dataframe tbody tr th:only-of-type {\n",
       "        vertical-align: middle;\n",
       "    }\n",
       "\n",
       "    .dataframe tbody tr th {\n",
       "        vertical-align: top;\n",
       "    }\n",
       "\n",
       "    .dataframe thead th {\n",
       "        text-align: right;\n",
       "    }\n",
       "</style>\n",
       "<table border=\"1\" class=\"dataframe\">\n",
       "  <thead>\n",
       "    <tr style=\"text-align: right;\">\n",
       "      <th></th>\n",
       "      <th>time_step</th>\n",
       "      <th>consumption</th>\n",
       "      <th>visibility</th>\n",
       "      <th>temperature</th>\n",
       "      <th>humidity</th>\n",
       "      <th>humidex</th>\n",
       "      <th>windchill</th>\n",
       "      <th>wind</th>\n",
       "      <th>pressure</th>\n",
       "    </tr>\n",
       "  </thead>\n",
       "  <tbody>\n",
       "    <tr>\n",
       "      <td>0</td>\n",
       "      <td>2013-03-17 00:01:00</td>\n",
       "      <td>550.4000</td>\n",
       "      <td>35.0</td>\n",
       "      <td>8.9</td>\n",
       "      <td>86.0</td>\n",
       "      <td>8.9</td>\n",
       "      <td>6.0</td>\n",
       "      <td>19.0</td>\n",
       "      <td>1017.3</td>\n",
       "    </tr>\n",
       "    <tr>\n",
       "      <td>1</td>\n",
       "      <td>2013-03-17 00:02:00</td>\n",
       "      <td>548.6000</td>\n",
       "      <td>35.0</td>\n",
       "      <td>8.9</td>\n",
       "      <td>86.0</td>\n",
       "      <td>8.9</td>\n",
       "      <td>6.0</td>\n",
       "      <td>19.0</td>\n",
       "      <td>1017.3</td>\n",
       "    </tr>\n",
       "    <tr>\n",
       "      <td>2</td>\n",
       "      <td>2013-03-17 00:03:00</td>\n",
       "      <td>549.3000</td>\n",
       "      <td>35.0</td>\n",
       "      <td>8.9</td>\n",
       "      <td>86.0</td>\n",
       "      <td>8.9</td>\n",
       "      <td>6.0</td>\n",
       "      <td>19.0</td>\n",
       "      <td>1017.3</td>\n",
       "    </tr>\n",
       "    <tr>\n",
       "      <td>3</td>\n",
       "      <td>2013-03-17 00:04:00</td>\n",
       "      <td>549.3667</td>\n",
       "      <td>35.0</td>\n",
       "      <td>8.9</td>\n",
       "      <td>86.0</td>\n",
       "      <td>8.9</td>\n",
       "      <td>6.0</td>\n",
       "      <td>19.0</td>\n",
       "      <td>1017.3</td>\n",
       "    </tr>\n",
       "    <tr>\n",
       "      <td>4</td>\n",
       "      <td>2013-03-17 00:05:00</td>\n",
       "      <td>548.8909</td>\n",
       "      <td>35.0</td>\n",
       "      <td>8.9</td>\n",
       "      <td>86.0</td>\n",
       "      <td>8.9</td>\n",
       "      <td>6.0</td>\n",
       "      <td>19.0</td>\n",
       "      <td>1017.3</td>\n",
       "    </tr>\n",
       "  </tbody>\n",
       "</table>\n",
       "</div>"
      ],
      "text/plain": [
       "            time_step  consumption  visibility  temperature  humidity  \\\n",
       "0 2013-03-17 00:01:00     550.4000        35.0          8.9      86.0   \n",
       "1 2013-03-17 00:02:00     548.6000        35.0          8.9      86.0   \n",
       "2 2013-03-17 00:03:00     549.3000        35.0          8.9      86.0   \n",
       "3 2013-03-17 00:04:00     549.3667        35.0          8.9      86.0   \n",
       "4 2013-03-17 00:05:00     548.8909        35.0          8.9      86.0   \n",
       "\n",
       "   humidex  windchill  wind  pressure  \n",
       "0      8.9        6.0  19.0    1017.3  \n",
       "1      8.9        6.0  19.0    1017.3  \n",
       "2      8.9        6.0  19.0    1017.3  \n",
       "3      8.9        6.0  19.0    1017.3  \n",
       "4      8.9        6.0  19.0    1017.3  "
      ]
     },
     "execution_count": 13,
     "metadata": {},
     "output_type": "execute_result"
    }
   ],
   "source": [
    "input_train.head()"
   ]
  },
  {
   "cell_type": "code",
   "execution_count": 14,
   "metadata": {},
   "outputs": [
    {
     "data": {
      "text/plain": [
       "<matplotlib.axes._subplots.AxesSubplot at 0x1a1aeff7f0>"
      ]
     },
     "execution_count": 14,
     "metadata": {},
     "output_type": "execute_result"
    },
    {
     "data": {
      "image/png": "[encoded data removed]",
      "text/plain": [
       "<Figure size 1296x432 with 1 Axes>"
      ]
     },
     "metadata": {
      "needs_background": "light"
     },
     "output_type": "display_data"
    }
   ],
   "source": [
    "# Plot the imputed visibility feature in the first 10h\n",
    "\n",
    "input_train['visibility'][:600].plot()"
   ]
  },
  {
   "cell_type": "markdown",
   "metadata": {},
   "source": [
    "We used a linear method to fill in the missing values between each hourly measurement."
   ]
  },
  {
   "cell_type": "markdown",
   "metadata": {},
   "source": [
    "Let's now print the rows with missing `consumption` values to see if we can spot a pattern."
   ]
  },
  {
   "cell_type": "code",
   "execution_count": 15,
   "metadata": {},
   "outputs": [
    {
     "name": "stdout",
     "output_type": "stream",
     "text": [
      "                 time_step  consumption  visibility  temperature    humidity  \\\n",
      "433    2013-03-17 07:14:00          NaN   29.300000     9.523333   81.066667   \n",
      "613    2013-03-17 10:14:00          NaN   21.133333     9.176667   88.466667   \n",
      "614    2013-03-17 10:15:00          NaN   21.000000     9.175000   88.500000   \n",
      "615    2013-03-17 10:16:00          NaN   20.866667     9.173333   88.533333   \n",
      "617    2013-03-17 10:18:00          NaN   20.600000     9.170000   88.600000   \n",
      "...                    ...          ...         ...          ...         ...   \n",
      "405868 2013-12-23 20:29:00          NaN   22.916667     4.735000   90.550000   \n",
      "414108 2013-12-29 13:49:00          NaN    0.100000    -0.900000  100.000000   \n",
      "414690 2013-12-29 23:31:00          NaN    7.933333    -0.038333  100.000000   \n",
      "415189 2013-12-30 07:50:00          NaN   14.666667     5.383333   99.166667   \n",
      "417516 2013-12-31 22:37:00          NaN   12.216667     9.906667   90.850000   \n",
      "\n",
      "          humidex  windchill       wind     pressure  \n",
      "433      9.523333   6.023333  28.000000  1015.276667  \n",
      "613      9.300000   6.506667  17.466667  1015.823333  \n",
      "614      9.300000   6.500000  17.500000  1015.825000  \n",
      "615      9.300000   6.493333  17.533333  1015.826667  \n",
      "617      9.300000   6.480000  17.600000  1015.830000  \n",
      "...           ...        ...        ...          ...  \n",
      "405868   4.735000   2.733333  10.283333  1004.200000  \n",
      "414108  -0.900000  -0.900000   0.366667  1038.691667  \n",
      "414690  -0.038333  -2.293333   6.516667  1036.593333  \n",
      "415189   5.383333   2.816667  11.333333  1033.250000  \n",
      "417516  10.445000   6.121667  33.000000  1016.023333  \n",
      "\n",
      "[10231 rows x 9 columns]\n"
     ]
    }
   ],
   "source": [
    "print(input_train[input_train.isna().any(axis=1)])"
   ]
  },
  {
   "cell_type": "markdown",
   "metadata": {},
   "source": [
    "There doesn't seem to be any logic in missing `consumption` values. We will juste impute them using the same linear interpolation method as for weather data."
   ]
  },
  {
   "cell_type": "code",
   "execution_count": 16,
   "metadata": {},
   "outputs": [],
   "source": [
    "# Interpolate missing consumption values\n",
    "\n",
    "pd.Series.interpolate(input_train['consumption'], method='linear',\n",
    "                      limit=None, limit_direction='both', inplace=True)"
   ]
  },
  {
   "cell_type": "code",
   "execution_count": 17,
   "metadata": {},
   "outputs": [
    {
     "data": {
      "text/plain": [
       "time_step      0\n",
       "consumption    0\n",
       "visibility     0\n",
       "temperature    0\n",
       "humidity       0\n",
       "humidex        0\n",
       "windchill      0\n",
       "wind           0\n",
       "pressure       0\n",
       "dtype: int64"
      ]
     },
     "execution_count": 17,
     "metadata": {},
     "output_type": "execute_result"
    }
   ],
   "source": [
    "input_train.isna().sum()"
   ]
  },
  {
   "cell_type": "markdown",
   "metadata": {},
   "source": [
    "We observe that the missing `consumption` values are also missing in `output_train` for the 4 appliances. We therefore use the same method to impute these missing values."
   ]
  },
  {
   "cell_type": "code",
   "execution_count": 18,
   "metadata": {},
   "outputs": [
    {
     "data": {
      "text/plain": [
       "time_step              0\n",
       "washing_machine    10231\n",
       "fridge_freezer     10231\n",
       "TV                 10231\n",
       "kettle             10231\n",
       "dtype: int64"
      ]
     },
     "execution_count": 18,
     "metadata": {},
     "output_type": "execute_result"
    }
   ],
   "source": [
    "output_train.isna().sum()"
   ]
  },
  {
   "cell_type": "code",
   "execution_count": 19,
   "metadata": {
    "scrolled": true
   },
   "outputs": [],
   "source": [
    "to_interpolate = output_train.columns[-4:]\n",
    "output_train[to_interpolate] = pd.Series.interpolate(output_train[to_interpolate],\n",
    "                                                    method='linear', limit=None, \n",
    "                                                    limit_direction='both')"
   ]
  },
  {
   "cell_type": "code",
   "execution_count": 20,
   "metadata": {},
   "outputs": [
    {
     "data": {
      "text/plain": [
       "time_step          0\n",
       "washing_machine    0\n",
       "fridge_freezer     0\n",
       "TV                 0\n",
       "kettle             0\n",
       "dtype: int64"
      ]
     },
     "execution_count": 20,
     "metadata": {},
     "output_type": "execute_result"
    }
   ],
   "source": [
    "output_train.isna().sum()"
   ]
  },
  {
   "cell_type": "markdown",
   "metadata": {},
   "source": [
    "**Remark**: we chose here to impute the missing energy consumption values, and to train our models on a full dataset. We could also have chosen to drop these 10231 missing measurements and to train our models without them."
   ]
  },
  {
   "cell_type": "markdown",
   "metadata": {},
   "source": [
    "### Feature encoding"
   ]
  },
  {
   "cell_type": "code",
   "execution_count": 21,
   "metadata": {},
   "outputs": [],
   "source": [
    "# One-hot encoding and circular time encoding\n",
    "\n",
    "input_train['weekend'] = ((pd.DatetimeIndex(input_train['time_step']).dayofweek) // 5 == 1).astype(float)\n",
    "input_train['weekday'] = input_train['time_step'].dt.weekday\n",
    "input_train = input_train.join(pd.get_dummies(input_train['weekday'], prefix='wd'))\n",
    "\n",
    "input_train['sin_time'] = np.sin(2*np.pi*input_train['time_step'].dt.hour/24)\n",
    "input_train['cos_time'] = np.cos(2*np.pi*input_train['time_step'].dt.hour/24)\n",
    "\n",
    "input_train.drop(['time_step','weekday'], axis=1, inplace=True)\n",
    "output_train.drop(['time_step'], axis=1, inplace=True)"
   ]
  },
  {
   "cell_type": "code",
   "execution_count": 22,
   "metadata": {},
   "outputs": [
    {
     "data": {
      "text/html": [
       "<div>\n",
       "<style scoped>\n",
       "    .dataframe tbody tr th:only-of-type {\n",
       "        vertical-align: middle;\n",
       "    }\n",
       "\n",
       "    .dataframe tbody tr th {\n",
       "        vertical-align: top;\n",
       "    }\n",
       "\n",
       "    .dataframe thead th {\n",
       "        text-align: right;\n",
       "    }\n",
       "</style>\n",
       "<table border=\"1\" class=\"dataframe\">\n",
       "  <thead>\n",
       "    <tr style=\"text-align: right;\">\n",
       "      <th></th>\n",
       "      <th>consumption</th>\n",
       "      <th>visibility</th>\n",
       "      <th>temperature</th>\n",
       "      <th>humidity</th>\n",
       "      <th>humidex</th>\n",
       "      <th>windchill</th>\n",
       "      <th>wind</th>\n",
       "      <th>pressure</th>\n",
       "      <th>weekend</th>\n",
       "      <th>wd_0</th>\n",
       "      <th>wd_1</th>\n",
       "      <th>wd_2</th>\n",
       "      <th>wd_3</th>\n",
       "      <th>wd_4</th>\n",
       "      <th>wd_5</th>\n",
       "      <th>wd_6</th>\n",
       "      <th>sin_time</th>\n",
       "      <th>cos_time</th>\n",
       "    </tr>\n",
       "  </thead>\n",
       "  <tbody>\n",
       "    <tr>\n",
       "      <td>0</td>\n",
       "      <td>550.4000</td>\n",
       "      <td>35.0</td>\n",
       "      <td>8.9</td>\n",
       "      <td>86.0</td>\n",
       "      <td>8.9</td>\n",
       "      <td>6.0</td>\n",
       "      <td>19.0</td>\n",
       "      <td>1017.3</td>\n",
       "      <td>1.0</td>\n",
       "      <td>0</td>\n",
       "      <td>0</td>\n",
       "      <td>0</td>\n",
       "      <td>0</td>\n",
       "      <td>0</td>\n",
       "      <td>0</td>\n",
       "      <td>1</td>\n",
       "      <td>0.0</td>\n",
       "      <td>1.0</td>\n",
       "    </tr>\n",
       "    <tr>\n",
       "      <td>1</td>\n",
       "      <td>548.6000</td>\n",
       "      <td>35.0</td>\n",
       "      <td>8.9</td>\n",
       "      <td>86.0</td>\n",
       "      <td>8.9</td>\n",
       "      <td>6.0</td>\n",
       "      <td>19.0</td>\n",
       "      <td>1017.3</td>\n",
       "      <td>1.0</td>\n",
       "      <td>0</td>\n",
       "      <td>0</td>\n",
       "      <td>0</td>\n",
       "      <td>0</td>\n",
       "      <td>0</td>\n",
       "      <td>0</td>\n",
       "      <td>1</td>\n",
       "      <td>0.0</td>\n",
       "      <td>1.0</td>\n",
       "    </tr>\n",
       "    <tr>\n",
       "      <td>2</td>\n",
       "      <td>549.3000</td>\n",
       "      <td>35.0</td>\n",
       "      <td>8.9</td>\n",
       "      <td>86.0</td>\n",
       "      <td>8.9</td>\n",
       "      <td>6.0</td>\n",
       "      <td>19.0</td>\n",
       "      <td>1017.3</td>\n",
       "      <td>1.0</td>\n",
       "      <td>0</td>\n",
       "      <td>0</td>\n",
       "      <td>0</td>\n",
       "      <td>0</td>\n",
       "      <td>0</td>\n",
       "      <td>0</td>\n",
       "      <td>1</td>\n",
       "      <td>0.0</td>\n",
       "      <td>1.0</td>\n",
       "    </tr>\n",
       "    <tr>\n",
       "      <td>3</td>\n",
       "      <td>549.3667</td>\n",
       "      <td>35.0</td>\n",
       "      <td>8.9</td>\n",
       "      <td>86.0</td>\n",
       "      <td>8.9</td>\n",
       "      <td>6.0</td>\n",
       "      <td>19.0</td>\n",
       "      <td>1017.3</td>\n",
       "      <td>1.0</td>\n",
       "      <td>0</td>\n",
       "      <td>0</td>\n",
       "      <td>0</td>\n",
       "      <td>0</td>\n",
       "      <td>0</td>\n",
       "      <td>0</td>\n",
       "      <td>1</td>\n",
       "      <td>0.0</td>\n",
       "      <td>1.0</td>\n",
       "    </tr>\n",
       "    <tr>\n",
       "      <td>4</td>\n",
       "      <td>548.8909</td>\n",
       "      <td>35.0</td>\n",
       "      <td>8.9</td>\n",
       "      <td>86.0</td>\n",
       "      <td>8.9</td>\n",
       "      <td>6.0</td>\n",
       "      <td>19.0</td>\n",
       "      <td>1017.3</td>\n",
       "      <td>1.0</td>\n",
       "      <td>0</td>\n",
       "      <td>0</td>\n",
       "      <td>0</td>\n",
       "      <td>0</td>\n",
       "      <td>0</td>\n",
       "      <td>0</td>\n",
       "      <td>1</td>\n",
       "      <td>0.0</td>\n",
       "      <td>1.0</td>\n",
       "    </tr>\n",
       "  </tbody>\n",
       "</table>\n",
       "</div>"
      ],
      "text/plain": [
       "   consumption  visibility  temperature  humidity  humidex  windchill  wind  \\\n",
       "0     550.4000        35.0          8.9      86.0      8.9        6.0  19.0   \n",
       "1     548.6000        35.0          8.9      86.0      8.9        6.0  19.0   \n",
       "2     549.3000        35.0          8.9      86.0      8.9        6.0  19.0   \n",
       "3     549.3667        35.0          8.9      86.0      8.9        6.0  19.0   \n",
       "4     548.8909        35.0          8.9      86.0      8.9        6.0  19.0   \n",
       "\n",
       "   pressure  weekend  wd_0  wd_1  wd_2  wd_3  wd_4  wd_5  wd_6  sin_time  \\\n",
       "0    1017.3      1.0     0     0     0     0     0     0     1       0.0   \n",
       "1    1017.3      1.0     0     0     0     0     0     0     1       0.0   \n",
       "2    1017.3      1.0     0     0     0     0     0     0     1       0.0   \n",
       "3    1017.3      1.0     0     0     0     0     0     0     1       0.0   \n",
       "4    1017.3      1.0     0     0     0     0     0     0     1       0.0   \n",
       "\n",
       "   cos_time  \n",
       "0       1.0  \n",
       "1       1.0  \n",
       "2       1.0  \n",
       "3       1.0  \n",
       "4       1.0  "
      ]
     },
     "execution_count": 22,
     "metadata": {},
     "output_type": "execute_result"
    }
   ],
   "source": [
    "input_train.head()"
   ]
  },
  {
   "cell_type": "code",
   "execution_count": 23,
   "metadata": {
    "scrolled": true
   },
   "outputs": [
    {
     "data": {
      "text/html": [
       "<div>\n",
       "<style scoped>\n",
       "    .dataframe tbody tr th:only-of-type {\n",
       "        vertical-align: middle;\n",
       "    }\n",
       "\n",
       "    .dataframe tbody tr th {\n",
       "        vertical-align: top;\n",
       "    }\n",
       "\n",
       "    .dataframe thead th {\n",
       "        text-align: right;\n",
       "    }\n",
       "</style>\n",
       "<table border=\"1\" class=\"dataframe\">\n",
       "  <thead>\n",
       "    <tr style=\"text-align: right;\">\n",
       "      <th></th>\n",
       "      <th>washing_machine</th>\n",
       "      <th>fridge_freezer</th>\n",
       "      <th>TV</th>\n",
       "      <th>kettle</th>\n",
       "    </tr>\n",
       "  </thead>\n",
       "  <tbody>\n",
       "    <tr>\n",
       "      <td>0</td>\n",
       "      <td>0.0</td>\n",
       "      <td>79.2000</td>\n",
       "      <td>7.0</td>\n",
       "      <td>0.0</td>\n",
       "    </tr>\n",
       "    <tr>\n",
       "      <td>1</td>\n",
       "      <td>0.0</td>\n",
       "      <td>78.0000</td>\n",
       "      <td>7.0</td>\n",
       "      <td>0.0</td>\n",
       "    </tr>\n",
       "    <tr>\n",
       "      <td>2</td>\n",
       "      <td>0.0</td>\n",
       "      <td>76.9000</td>\n",
       "      <td>7.0</td>\n",
       "      <td>0.0</td>\n",
       "    </tr>\n",
       "    <tr>\n",
       "      <td>3</td>\n",
       "      <td>0.0</td>\n",
       "      <td>76.1111</td>\n",
       "      <td>7.0</td>\n",
       "      <td>0.0</td>\n",
       "    </tr>\n",
       "    <tr>\n",
       "      <td>4</td>\n",
       "      <td>0.0</td>\n",
       "      <td>75.2727</td>\n",
       "      <td>7.0</td>\n",
       "      <td>0.0</td>\n",
       "    </tr>\n",
       "  </tbody>\n",
       "</table>\n",
       "</div>"
      ],
      "text/plain": [
       "   washing_machine  fridge_freezer   TV  kettle\n",
       "0              0.0         79.2000  7.0     0.0\n",
       "1              0.0         78.0000  7.0     0.0\n",
       "2              0.0         76.9000  7.0     0.0\n",
       "3              0.0         76.1111  7.0     0.0\n",
       "4              0.0         75.2727  7.0     0.0"
      ]
     },
     "execution_count": 23,
     "metadata": {},
     "output_type": "execute_result"
    }
   ],
   "source": [
    "output_train.head()"
   ]
  },
  {
   "cell_type": "markdown",
   "metadata": {},
   "source": [
    "## Modeling"
   ]
  },
  {
   "cell_type": "markdown",
   "metadata": {},
   "source": [
    "We want to predict, for each minute, the power used by the washing_machine, the fridge, the TV and the kettle. This is a multi-output regression."
   ]
  },
  {
   "cell_type": "code",
   "execution_count": 24,
   "metadata": {},
   "outputs": [],
   "source": [
    "from sklearn.linear_model import LinearRegression, Lasso\n",
    "from sklearn.ensemble import RandomForestRegressor"
   ]
  },
  {
   "cell_type": "code",
   "execution_count": 25,
   "metadata": {},
   "outputs": [],
   "source": [
    "def rmse(y_true, y_pred):\n",
    "    return np.sqrt(np.mean(np.square(y_true - y_pred)))"
   ]
  },
  {
   "cell_type": "markdown",
   "metadata": {},
   "source": [
    "### Baseline models: 4 univariate regressions"
   ]
  },
  {
   "cell_type": "markdown",
   "metadata": {},
   "source": [
    "#### Linear regressions"
   ]
  },
  {
   "cell_type": "markdown",
   "metadata": {},
   "source": [
    "The benchmark is 4 univariate linear regressions (one per appliance). The inputs are consumption of the household, the day of the week (7 booleans), the weekend (1 boolean), and the circular hour of the day (sine and cosine)."
   ]
  },
  {
   "cell_type": "code",
   "execution_count": 23,
   "metadata": {},
   "outputs": [
    {
     "data": {
      "text/plain": [
       "55.79165715770449"
      ]
     },
     "execution_count": 23,
     "metadata": {},
     "output_type": "execute_result"
    }
   ],
   "source": [
    "LR1 = LinearRegression().fit(input_train, output_train[\"washing_machine\"])\n",
    "pred_LR1 = LR1.predict(input_train)\n",
    "score_LR1 = rmse(output_train[\"washing_machine\"], pred_LR1)\n",
    "score_LR1"
   ]
  },
  {
   "cell_type": "code",
   "execution_count": 24,
   "metadata": {},
   "outputs": [
    {
     "data": {
      "text/plain": [
       "52.02240353234363"
      ]
     },
     "execution_count": 24,
     "metadata": {},
     "output_type": "execute_result"
    }
   ],
   "source": [
    "LR2 = LinearRegression().fit(input_train, output_train[\"fridge_freezer\"])\n",
    "pred_LR2 = LR2.predict(input_train)\n",
    "score_LR2 = rmse(output_train[\"fridge_freezer\"], pred_LR2)\n",
    "score_LR2"
   ]
  },
  {
   "cell_type": "code",
   "execution_count": 25,
   "metadata": {},
   "outputs": [
    {
     "data": {
      "text/plain": [
       "16.763389665084404"
      ]
     },
     "execution_count": 25,
     "metadata": {},
     "output_type": "execute_result"
    }
   ],
   "source": [
    "LR3 = LinearRegression().fit(input_train, output_train[\"TV\"])\n",
    "pred_LR3 = LR3.predict(input_train)\n",
    "score_LR3 = rmse(output_train[\"TV\"], pred_LR3)\n",
    "score_LR3"
   ]
  },
  {
   "cell_type": "code",
   "execution_count": 26,
   "metadata": {
    "scrolled": true
   },
   "outputs": [
    {
     "data": {
      "text/plain": [
       "96.28425496283775"
      ]
     },
     "execution_count": 26,
     "metadata": {},
     "output_type": "execute_result"
    }
   ],
   "source": [
    "LR4 = LinearRegression().fit(input_train, output_train[\"kettle\"])\n",
    "pred_LR4 = LR4.predict(input_train)\n",
    "score_LR4 = rmse(output_train[\"kettle\"], pred_LR4)\n",
    "score_LR4"
   ]
  },
  {
   "cell_type": "markdown",
   "metadata": {},
   "source": [
    "#### Random forests"
   ]
  },
  {
   "cell_type": "code",
   "execution_count": 28,
   "metadata": {},
   "outputs": [
    {
     "name": "stderr",
     "output_type": "stream",
     "text": [
      "/Users/Thomas/anaconda3/lib/python3.7/site-packages/sklearn/ensemble/forest.py:245: FutureWarning: The default value of n_estimators will change from 10 in version 0.20 to 100 in 0.22.\n",
      "  \"10 in version 0.20 to 100 in 0.22.\", FutureWarning)\n"
     ]
    },
    {
     "data": {
      "text/plain": [
       "12.970160247153926"
      ]
     },
     "execution_count": 28,
     "metadata": {},
     "output_type": "execute_result"
    }
   ],
   "source": [
    "RF1 = RandomForestRegressor().fit(input_train, output_train[\"washing_machine\"])\n",
    "pred_RF1 = RF1.predict(input_train)\n",
    "score_RF1 = rmse(output_train[\"washing_machine\"], pred_RF1)\n",
    "score_RF1"
   ]
  },
  {
   "cell_type": "code",
   "execution_count": 29,
   "metadata": {},
   "outputs": [
    {
     "name": "stderr",
     "output_type": "stream",
     "text": [
      "/Users/Thomas/anaconda3/lib/python3.7/site-packages/sklearn/ensemble/forest.py:245: FutureWarning: The default value of n_estimators will change from 10 in version 0.20 to 100 in 0.22.\n",
      "  \"10 in version 0.20 to 100 in 0.22.\", FutureWarning)\n"
     ]
    },
    {
     "data": {
      "text/plain": [
       "6.784656958592309"
      ]
     },
     "execution_count": 29,
     "metadata": {},
     "output_type": "execute_result"
    }
   ],
   "source": [
    "RF2 = RandomForestRegressor().fit(input_train, output_train[\"fridge_freezer\"])\n",
    "pred_RF2 = RF2.predict(input_train)\n",
    "score_RF2 = rmse(output_train[\"fridge_freezer\"], pred_RF2)\n",
    "score_RF2"
   ]
  },
  {
   "cell_type": "code",
   "execution_count": 30,
   "metadata": {},
   "outputs": [
    {
     "name": "stderr",
     "output_type": "stream",
     "text": [
      "/Users/Thomas/anaconda3/lib/python3.7/site-packages/sklearn/ensemble/forest.py:245: FutureWarning: The default value of n_estimators will change from 10 in version 0.20 to 100 in 0.22.\n",
      "  \"10 in version 0.20 to 100 in 0.22.\", FutureWarning)\n"
     ]
    },
    {
     "data": {
      "text/plain": [
       "1.2477486858870022"
      ]
     },
     "execution_count": 30,
     "metadata": {},
     "output_type": "execute_result"
    }
   ],
   "source": [
    "RF3 = RandomForestRegressor().fit(input_train, output_train[\"TV\"])\n",
    "pred_RF3 = RF3.predict(input_train)\n",
    "score_RF3 = rmse(output_train[\"TV\"], pred_RF3)\n",
    "score_RF3"
   ]
  },
  {
   "cell_type": "code",
   "execution_count": 31,
   "metadata": {},
   "outputs": [
    {
     "name": "stderr",
     "output_type": "stream",
     "text": [
      "/Users/Thomas/anaconda3/lib/python3.7/site-packages/sklearn/ensemble/forest.py:245: FutureWarning: The default value of n_estimators will change from 10 in version 0.20 to 100 in 0.22.\n",
      "  \"10 in version 0.20 to 100 in 0.22.\", FutureWarning)\n"
     ]
    },
    {
     "data": {
      "text/plain": [
       "28.4190565888662"
      ]
     },
     "execution_count": 31,
     "metadata": {},
     "output_type": "execute_result"
    }
   ],
   "source": [
    "RF4 = RandomForestRegressor().fit(input_train, output_train[\"kettle\"])\n",
    "pred_RF4 = RF4.predict(input_train)\n",
    "score_RF4 = rmse(output_train[\"kettle\"], pred_RF4)\n",
    "score_RF4"
   ]
  },
  {
   "cell_type": "code",
   "execution_count": 32,
   "metadata": {
    "scrolled": true
   },
   "outputs": [
    {
     "data": {
      "image/png": "[encoded data removed]",
      "text/plain": [
       "<Figure size 1080x360 with 1 Axes>"
      ]
     },
     "metadata": {
      "needs_background": "light"
     },
     "output_type": "display_data"
    }
   ],
   "source": [
    "# Feature importance graph\n",
    "\n",
    "X_columns=input_train.columns\n",
    "plt.figure(figsize=(15, 5))\n",
    "\n",
    "ordering = np.argsort(RF1.feature_importances_)[::-1]\n",
    "\n",
    "importances = RF1.feature_importances_[ordering]\n",
    "feature_names = X_columns[ordering]\n",
    "\n",
    "x = np.arange(len(feature_names))\n",
    "plt.bar(x, importances)\n",
    "plt.xticks(x, feature_names, rotation=90, fontsize=15);\n",
    "#plots showing how important each column is in the prediction"
   ]
  },
  {
   "cell_type": "markdown",
   "metadata": {},
   "source": [
    "For submission:"
   ]
  },
  {
   "cell_type": "code",
   "execution_count": 41,
   "metadata": {},
   "outputs": [],
   "source": [
    "# create functions doing all previous steps\n",
    "\n",
    "def preprocess(X):\n",
    "    X.drop([\"Unnamed: 9\"], axis=1, inplace=True)\n",
    "    to_interpolate = X.columns[-7:]\n",
    "    X[to_interpolate] = pd.Series.interpolate(X[to_interpolate], method='linear', \n",
    "                                              limit=None, limit_direction='both')\n",
    "    X.rename(columns = {X.columns[0]:'time_step'}, inplace=True)\n",
    "    X['time_step'] = pd.to_datetime(X['time_step'])\n",
    "    X['weekend'] = ((pd.DatetimeIndex(X['time_step']).dayofweek) // 5 == 1).astype(float)\n",
    "    X['weekday'] = X['time_step'].dt.weekday\n",
    "    X = X.join(pd.get_dummies(X['weekday'], prefix='wd'))\n",
    "    X['sin_time'] = np.sin(2*np.pi*X['time_step'].dt.hour/24)\n",
    "    X['cos_time'] = np.cos(2*np.pi*X['time_step'].dt.hour/24)\n",
    "    X.drop(['weekday'], axis=1, inplace=True)\n",
    "    return X"
   ]
  },
  {
   "cell_type": "code",
   "execution_count": null,
   "metadata": {},
   "outputs": [],
   "source": [
    "# the predict function below also writes the submission file\n",
    "\n",
    "def predict(X, model_1, model_2, model_3, model_4):\n",
    "    X.rename(columns = {X.columns[0]:'time_step'}, inplace=True)\n",
    "    full_timesteps = pd.DataFrame(X['time_step'], columns=['time_step'])\n",
    "    X = X.dropna() # need to remove all NaN to predict\n",
    "    partial_timesteps = X['time_step']\n",
    "    X.drop(['time_step'], axis=1, inplace=True)\n",
    "    pred_1 = model_1.predict(X)\n",
    "    pred_2 = model_2.predict(X)\n",
    "    pred_3 = model_3.predict(X)\n",
    "    pred_4 = model_4.predict(X)\n",
    "    pred = pd.DataFrame(np.transpose([partial_timesteps, pred_1, pred_2, pred_3, pred_4]),\n",
    "                   columns=['time_step', 'washing_machine', 'fridge_freezer', 'TV', 'kettle'])\n",
    "    pred.set_index(pred['time_step'], inplace=True)\n",
    "    full_timesteps.set_index(full_timesteps['time_step'], inplace=True)\n",
    "    pred = pred.merge(full_timesteps, left_index=True, right_index=True, how='outer')\n",
    "    pred.drop(['time_step_x', 'time_step_y'], axis=1, inplace=True)\n",
    "    pred.reset_index(inplace=True)\n",
    "    pred = pred[['time_step', 'washing_machine', 'fridge_freezer', 'TV', 'kettle']].round(3)\n",
    "    \n",
    "    pred.time_step = pd.to_datetime(pred.time_step)\n",
    "    pred.time_step = pred.time_step.apply(lambda x: x.strftime(\"%Y-%m-%dT%H:%M:%S.0\"))\n",
    "    \n",
    "    return pred\n",
    "\n",
    "# apply these functions to y_test.csv\n",
    "input_test = pd.read_csv('X_test.csv')\n",
    "X_test = preprocess(input_test)\n",
    "Y_test_RF = predict(X_test, RF1, RF2, RF3, RF4)\n",
    "\n",
    "# checks\n",
    "print(input_test.shape)\n",
    "print(X_test.shape)\n",
    "print(Y_test_RF.shape)\n",
    "print(Y_test_RF.head())\n",
    "\n",
    "# write to csv for upload on website\n",
    "Y_test_RF.to_csv('Y_test_RF.csv', index=False)"
   ]
  },
  {
   "cell_type": "code",
   "execution_count": 36,
   "metadata": {
    "scrolled": false
   },
   "outputs": [
    {
     "data": {
      "text/html": [
       "<div>\n",
       "<style scoped>\n",
       "    .dataframe tbody tr th:only-of-type {\n",
       "        vertical-align: middle;\n",
       "    }\n",
       "\n",
       "    .dataframe tbody tr th {\n",
       "        vertical-align: top;\n",
       "    }\n",
       "\n",
       "    .dataframe thead th {\n",
       "        text-align: right;\n",
       "    }\n",
       "</style>\n",
       "<table border=\"1\" class=\"dataframe\">\n",
       "  <thead>\n",
       "    <tr style=\"text-align: right;\">\n",
       "      <th></th>\n",
       "      <th>time_step</th>\n",
       "      <th>washing_machine</th>\n",
       "      <th>fridge_freezer</th>\n",
       "      <th>TV</th>\n",
       "      <th>kettle</th>\n",
       "    </tr>\n",
       "  </thead>\n",
       "  <tbody>\n",
       "    <tr>\n",
       "      <th>0</th>\n",
       "      <td>2014-01-01 00:00:00</td>\n",
       "      <td>58.96500</td>\n",
       "      <td>34.60555</td>\n",
       "      <td>7.0</td>\n",
       "      <td>0.0</td>\n",
       "    </tr>\n",
       "    <tr>\n",
       "      <th>1</th>\n",
       "      <td>2014-01-01 00:01:00</td>\n",
       "      <td>52.90929</td>\n",
       "      <td>42.58333</td>\n",
       "      <td>7.0</td>\n",
       "      <td>0.0</td>\n",
       "    </tr>\n",
       "    <tr>\n",
       "      <th>2</th>\n",
       "      <td>2014-01-01 00:02:00</td>\n",
       "      <td>60.98072</td>\n",
       "      <td>42.20555</td>\n",
       "      <td>7.0</td>\n",
       "      <td>0.0</td>\n",
       "    </tr>\n",
       "    <tr>\n",
       "      <th>3</th>\n",
       "      <td>2014-01-01 00:03:00</td>\n",
       "      <td>46.66821</td>\n",
       "      <td>34.60555</td>\n",
       "      <td>7.0</td>\n",
       "      <td>0.0</td>\n",
       "    </tr>\n",
       "    <tr>\n",
       "      <th>4</th>\n",
       "      <td>2014-01-01 00:04:00</td>\n",
       "      <td>52.99321</td>\n",
       "      <td>34.60555</td>\n",
       "      <td>7.0</td>\n",
       "      <td>0.0</td>\n",
       "    </tr>\n",
       "  </tbody>\n",
       "</table>\n",
       "</div>"
      ],
      "text/plain": [
       "             time_step  washing_machine  fridge_freezer   TV  kettle\n",
       "0  2014-01-01 00:00:00         58.96500        34.60555  7.0     0.0\n",
       "1  2014-01-01 00:01:00         52.90929        42.58333  7.0     0.0\n",
       "2  2014-01-01 00:02:00         60.98072        42.20555  7.0     0.0\n",
       "3  2014-01-01 00:03:00         46.66821        34.60555  7.0     0.0\n",
       "4  2014-01-01 00:04:00         52.99321        34.60555  7.0     0.0"
      ]
     },
     "execution_count": 36,
     "metadata": {},
     "output_type": "execute_result"
    }
   ],
   "source": [
    "a = pd.read_csv('Y_test_RF.csv')\n",
    "a.head()"
   ]
  },
  {
   "cell_type": "markdown",
   "metadata": {},
   "source": [
    "Both the linear models and the random forests do not efficiently take into account the time nature of data. We need to find other models."
   ]
  },
  {
   "cell_type": "markdown",
   "metadata": {},
   "source": [
    "### Multi-output regressor"
   ]
  },
  {
   "cell_type": "code",
   "execution_count": null,
   "metadata": {},
   "outputs": [],
   "source": [
    "from sklearn.datasets import load_linnerud\n",
    "from sklearn.ensemble import GradientBoostingRegressor\n",
    "from sklearn.multioutput import MultiOutputRegressor\n",
    "\n",
    "def train(X, y):\n",
    "    model = MultiOutputRegressor(GradientBoostingRegressor(), n_jobs=-1).fit(X, y)\n",
    "    return model\n",
    "\n",
    "model_MTR = train(input_train, output_train)"
   ]
  },
  {
   "cell_type": "code",
   "execution_count": null,
   "metadata": {},
   "outputs": [],
   "source": [
    "def predict(X, model):\n",
    "    \n",
    "    X.rename(columns = {X.columns[0]:'time_step'}, inplace=True)\n",
    "    full_timesteps = pd.DataFrame(X['time_step'], columns=['time_step'])\n",
    "    \n",
    "    X = X.dropna() # need to remove all NaN to predict\n",
    "    partial_timesteps = X['time_step']\n",
    "    X.drop(['time_step'], axis=1, inplace=True)\n",
    "    \n",
    "    pred = model.predict(X)\n",
    "\n",
    "    pred = pd.DataFrame(np.transpose([partial_timesteps, pred[:,0], pred[:,1], pred[:,2], pred[:,3]]),\n",
    "                   columns=['time_step', 'washing_machine', 'fridge_freezer', 'TV', 'kettle'])\n",
    "\n",
    "    pred.set_index(pred['time_step'], inplace=True)\n",
    "    full_timesteps.set_index(full_timesteps['time_step'], inplace=True)\n",
    "    pred = pred.merge(full_timesteps, left_index=True, right_index=True, how='outer')\n",
    "    pred.drop(['time_step_x', 'time_step_y'], axis=1, inplace=True)\n",
    "    pred.reset_index(inplace=True)\n",
    "    pred = pred[['time_step', 'washing_machine', 'fridge_freezer', 'TV', 'kettle']].round(3)\n",
    "    \n",
    "    pred.time_step = pd.to_datetime(pred.time_step)\n",
    "    pred.time_step = pred.time_step.apply(lambda x: x.strftime(\"%Y-%m-%dT%H:%M:%S.0\"))\n",
    "    \n",
    "    return pred\n",
    "\n",
    "# apply these functions to y_test.csv\n",
    "input_test = pd.read_csv('X_test.csv')\n",
    "X_test = preprocess(input_test)\n",
    "Y_test_MTR = predict(X_test, model_MTR)\n",
    "Y_test_MTR.to_csv('Y_test_MTR.csv', index=False)\n",
    "Y_test_MTR.head()"
   ]
  },
  {
   "cell_type": "markdown",
   "metadata": {},
   "source": [
    "### Vanilla NN"
   ]
  },
  {
   "cell_type": "code",
   "execution_count": 139,
   "metadata": {},
   "outputs": [
    {
     "name": "stdout",
     "output_type": "stream",
     "text": [
      "_________________________________________________________________\n",
      "Layer (type)                 Output Shape              Param #   \n",
      "=================================================================\n",
      "dense_23 (Dense)             (None, 32)                608       \n",
      "_________________________________________________________________\n",
      "dense_24 (Dense)             (None, 16)                528       \n",
      "_________________________________________________________________\n",
      "dense_25 (Dense)             (None, 4)                 68        \n",
      "=================================================================\n",
      "Total params: 1,204\n",
      "Trainable params: 1,204\n",
      "Non-trainable params: 0\n",
      "_________________________________________________________________\n"
     ]
    }
   ],
   "source": [
    "from keras.models import Sequential\n",
    "from keras.layers import Dense, Activation\n",
    "\n",
    "ann = Sequential()\n",
    "ann.add(Dense(32, input_dim=input_train.shape[1], activation='relu'))\n",
    "ann.add(Dense(16, activation='relu'))\n",
    "ann.add(Dense(4, activation='linear'))\n",
    "ann.compile(loss='mean_squared_error',optimizer='adam')\n",
    "\n",
    "ann.summary()"
   ]
  },
  {
   "cell_type": "code",
   "execution_count": 140,
   "metadata": {},
   "outputs": [
    {
     "name": "stdout",
     "output_type": "stream",
     "text": [
      "Epoch 1/6\n",
      "417599/417599 [==============================] - 40s 97us/step - loss: 3472.0391\n",
      "Epoch 2/6\n",
      "417599/417599 [==============================] - 38s 90us/step - loss: 3327.8071\n",
      "Epoch 3/6\n",
      "417599/417599 [==============================] - 37s 90us/step - loss: 3272.0372\n",
      "Epoch 4/6\n",
      "417599/417599 [==============================] - 35s 85us/step - loss: 3252.6488\n",
      "Epoch 5/6\n",
      "417599/417599 [==============================] - 36s 85us/step - loss: 3225.4750\n",
      "Epoch 6/6\n",
      "417599/417599 [==============================] - 36s 86us/step - loss: 3206.4768\n"
     ]
    },
    {
     "data": {
      "text/plain": [
       "<keras.callbacks.History at 0x1a5b038cf8>"
      ]
     },
     "execution_count": 140,
     "metadata": {},
     "output_type": "execute_result"
    }
   ],
   "source": [
    "ann.fit(input_train, output_train, batch_size=32, epochs=6, verbose=1)"
   ]
  },
  {
   "cell_type": "code",
   "execution_count": 141,
   "metadata": {},
   "outputs": [],
   "source": [
    "def predict_ann(X, model):\n",
    "    X.rename(columns = {X.columns[0]:'time_step'}, inplace=True)\n",
    "    full_timesteps = pd.DataFrame(X['time_step'], columns=['time_step'])\n",
    "    X = X.dropna() # need to remove all NaN to predict\n",
    "    partial_timesteps = X['time_step']\n",
    "    X.drop(['time_step'], axis=1, inplace=True)\n",
    "    pred = model.predict(X)\n",
    "    pred = pd.DataFrame(np.transpose([partial_timesteps, pred[:,0], pred[:,1], pred[:,2], pred[:,3]]),\n",
    "                   columns=['time_step', 'washing_machine', 'fridge_freezer', 'TV', 'kettle'])\n",
    "    pred.set_index(pred['time_step'], inplace=True)\n",
    "    full_timesteps.set_index(full_timesteps['time_step'], inplace=True)\n",
    "    pred = pred.merge(full_timesteps, left_index=True, right_index=True, how='outer')\n",
    "    pred.drop(['time_step_x', 'time_step_y'], axis=1, inplace=True)\n",
    "    pred.reset_index(inplace=True)\n",
    "    pred = pred[['time_step', 'washing_machine', 'fridge_freezer', 'TV', 'kettle']].round(3)\n",
    "    pred.time_step = pd.to_datetime(pred.time_step)\n",
    "    pred.time_step = pred.time_step.apply(lambda x: x.strftime(\"%Y-%m-%dT%H:%M:%S.0\"))\n",
    "    pred[['washing_machine', 'fridge_freezer', 'TV', 'kettle']] = pred[['washing_machine', 'fridge_freezer', 'TV', 'kettle']].clip(lower=0)\n",
    "    return pred"
   ]
  },
  {
   "cell_type": "code",
   "execution_count": 142,
   "metadata": {
    "scrolled": true
   },
   "outputs": [
    {
     "name": "stderr",
     "output_type": "stream",
     "text": [
      "/Users/Thomas/anaconda3/lib/python3.7/site-packages/pandas/core/frame.py:4102: SettingWithCopyWarning: \n",
      "A value is trying to be set on a copy of a slice from a DataFrame\n",
      "\n",
      "See the caveats in the documentation: http://pandas.pydata.org/pandas-docs/stable/user_guide/indexing.html#returning-a-view-versus-a-copy\n",
      "  errors=errors,\n"
     ]
    },
    {
     "name": "stdout",
     "output_type": "stream",
     "text": [
      "(226081, 11)\n",
      "(226081, 19)\n",
      "(226081, 5)\n",
      "               time_step washing_machine fridge_freezer       TV   kettle\n",
      "0  2014-01-01T00:00:00.0         6.23833        63.2574  22.4506  2.32221\n",
      "1  2014-01-01T00:01:00.0         6.63791        63.0588  22.4877  2.39006\n",
      "2  2014-01-01T00:02:00.0           6.439        63.1392  22.4628  2.34716\n",
      "3  2014-01-01T00:03:00.0         6.33173        63.1769  22.4474   2.3212\n",
      "4  2014-01-01T00:04:00.0         6.29969        63.1795  22.4398  2.30918\n"
     ]
    }
   ],
   "source": [
    "input_test = pd.read_csv('X_test.csv')\n",
    "X_test = preprocess(input_test)\n",
    "Y_test_ann = predict_ann(X_test, ann)\n",
    "\n",
    "# checks\n",
    "print(input_test.shape)\n",
    "print(X_test.shape)\n",
    "print(Y_test_ann.shape)\n",
    "print(Y_test_ann.head())\n",
    "\n",
    "# write to csv for upload on website\n",
    "Y_test_ann.to_csv('Y_test_ann.csv', index=False)"
   ]
  },
  {
   "cell_type": "markdown",
   "metadata": {},
   "source": [
    "### CNN"
   ]
  },
  {
   "cell_type": "code",
   "execution_count": 78,
   "metadata": {},
   "outputs": [
    {
     "name": "stdout",
     "output_type": "stream",
     "text": [
      "(417599, 18)\n",
      "(417599, 1, 18)\n",
      "[[[ 5.50400000e+02  3.50000000e+01  8.90000000e+00 ...  1.00000000e+00\n",
      "    0.00000000e+00  1.00000000e+00]]\n",
      "\n",
      " [[ 5.48600000e+02  3.50000000e+01  8.90000000e+00 ...  1.00000000e+00\n",
      "    0.00000000e+00  1.00000000e+00]]\n",
      "\n",
      " [[ 5.49300000e+02  3.50000000e+01  8.90000000e+00 ...  1.00000000e+00\n",
      "    0.00000000e+00  1.00000000e+00]]\n",
      "\n",
      " ...\n",
      "\n",
      " [[ 3.10500000e+02  8.00000000e+00  9.60000000e+00 ...  0.00000000e+00\n",
      "   -2.58819045e-01  9.65925826e-01]]\n",
      "\n",
      " [[ 3.12000000e+02  8.00000000e+00  9.60000000e+00 ...  0.00000000e+00\n",
      "   -2.58819045e-01  9.65925826e-01]]\n",
      "\n",
      " [[ 3.10444400e+02  8.00000000e+00  9.60000000e+00 ...  0.00000000e+00\n",
      "   -2.58819045e-01  9.65925826e-01]]]\n"
     ]
    }
   ],
   "source": [
    "print(input_train.values.shape)\n",
    "input_train_cnn = input_train.values.reshape((input_train.shape[0], 1, input_train.shape[1]))\n",
    "print(input_train_cnn.shape)\n",
    "print(input_train_cnn)"
   ]
  },
  {
   "cell_type": "code",
   "execution_count": 93,
   "metadata": {},
   "outputs": [
    {
     "name": "stdout",
     "output_type": "stream",
     "text": [
      "_________________________________________________________________\n",
      "Layer (type)                 Output Shape              Param #   \n",
      "=================================================================\n",
      "conv1d_13 (Conv1D)           (None, 1, 64)             2368      \n",
      "_________________________________________________________________\n",
      "global_max_pooling1d_12 (Glo (None, 64)                0         \n",
      "_________________________________________________________________\n",
      "dense_15 (Dense)             (None, 64)                4160      \n",
      "_________________________________________________________________\n",
      "dense_16 (Dense)             (None, 4)                 260       \n",
      "=================================================================\n",
      "Total params: 6,788\n",
      "Trainable params: 6,788\n",
      "Non-trainable params: 0\n",
      "_________________________________________________________________\n"
     ]
    }
   ],
   "source": [
    "from keras.models import Sequential\n",
    "from keras.layers import MaxPooling1D, GlobalMaxPooling1D, Dropout, Dense, Activation, Flatten\n",
    "from keras.layers.convolutional import Conv1D\n",
    "from keras.layers.normalization import BatchNormalization\n",
    "\n",
    "cnn = Sequential()\n",
    "\n",
    "cnn.add(Conv1D(64,input_shape=(1, 18),kernel_size=2,padding='same',activation='relu',strides=1))\n",
    "cnn.add(GlobalMaxPooling1D())\n",
    "#cnn.add(BatchNormalization())\n",
    "#cnn.add(Flatten())\n",
    "cnn.add(Dense(64,activation='relu'))\n",
    "#cnn.add(Dropout(0.2))\n",
    "cnn.add(Dense(4, activation='linear'))\n",
    "cnn.compile(loss='mean_squared_error',optimizer='adam')\n",
    "\n",
    "cnn.summary()"
   ]
  },
  {
   "cell_type": "code",
   "execution_count": 67,
   "metadata": {},
   "outputs": [
    {
     "name": "stdout",
     "output_type": "stream",
     "text": [
      "Epoch 1/6\n",
      "417599/417599 [==============================] - 68s 164us/step - loss: 3464.9813\n",
      "Epoch 2/6\n",
      "417599/417599 [==============================] - 62s 149us/step - loss: 3334.5564\n",
      "Epoch 3/6\n",
      "417599/417599 [==============================] - 64s 152us/step - loss: 3270.4168\n",
      "Epoch 4/6\n",
      "417599/417599 [==============================] - 63s 151us/step - loss: 3249.3705\n",
      "Epoch 5/6\n",
      "417599/417599 [==============================] - 60s 144us/step - loss: 3214.8151\n",
      "Epoch 6/6\n",
      "417599/417599 [==============================] - 62s 149us/step - loss: 3205.7839\n"
     ]
    },
    {
     "data": {
      "text/plain": [
       "<keras.callbacks.History at 0x1a2de3e828>"
      ]
     },
     "execution_count": 67,
     "metadata": {},
     "output_type": "execute_result"
    }
   ],
   "source": [
    "cnn.fit(input_train_cnn, output_train, batch_size=32, epochs=6, verbose=1)"
   ]
  },
  {
   "cell_type": "code",
   "execution_count": 68,
   "metadata": {},
   "outputs": [],
   "source": [
    "def predict_cnn(X, model):\n",
    "    X.rename(columns = {X.columns[0]:'time_step'}, inplace=True)\n",
    "    full_timesteps = pd.DataFrame(X['time_step'], columns=['time_step'])\n",
    "    X = X.dropna() # need to remove all NaN to predict\n",
    "    partial_timesteps = X['time_step']\n",
    "    X.drop(['time_step'], axis=1, inplace=True)\n",
    "    X = X.values.reshape((X.shape[0], 1, input_train.shape[1]))\n",
    "    pred = model.predict(X)\n",
    "    pred = pd.DataFrame(np.transpose([partial_timesteps, pred[:,0], pred[:,1], pred[:,2], pred[:,3]]),\n",
    "                   columns=['time_step', 'washing_machine', 'fridge_freezer', 'TV', 'kettle'])\n",
    "    pred.set_index(pred['time_step'], inplace=True)\n",
    "    full_timesteps.set_index(full_timesteps['time_step'], inplace=True)\n",
    "    pred = pred.merge(full_timesteps, left_index=True, right_index=True, how='outer')\n",
    "    pred.drop(['time_step_x', 'time_step_y'], axis=1, inplace=True)\n",
    "    pred.reset_index(inplace=True)\n",
    "    pred = pred[['time_step', 'washing_machine', 'fridge_freezer', 'TV', 'kettle']].round(3)\n",
    "    pred.time_step = pd.to_datetime(pred.time_step)\n",
    "    pred.time_step = pred.time_step.apply(lambda x: x.strftime(\"%Y-%m-%dT%H:%M:%S.0\"))\n",
    "    return pred"
   ]
  },
  {
   "cell_type": "code",
   "execution_count": 69,
   "metadata": {
    "scrolled": true
   },
   "outputs": [
    {
     "name": "stderr",
     "output_type": "stream",
     "text": [
      "/Users/Thomas/anaconda3/lib/python3.7/site-packages/pandas/core/frame.py:4102: SettingWithCopyWarning: \n",
      "A value is trying to be set on a copy of a slice from a DataFrame\n",
      "\n",
      "See the caveats in the documentation: http://pandas.pydata.org/pandas-docs/stable/user_guide/indexing.html#returning-a-view-versus-a-copy\n",
      "  errors=errors,\n"
     ]
    },
    {
     "name": "stdout",
     "output_type": "stream",
     "text": [
      "(226081, 11)\n",
      "(226081, 19)\n",
      "(226081, 5)\n",
      "               time_step washing_machine fridge_freezer       TV   kettle\n",
      "0  2014-01-01T00:00:00.0         12.5457        63.8768  23.5212   4.6542\n",
      "1  2014-01-01T00:01:00.0         14.5687        61.8632  23.6768   4.7606\n",
      "2  2014-01-01T00:02:00.0         13.2311        63.2621  23.6087  4.69059\n",
      "3  2014-01-01T00:03:00.0         12.4081        64.1383  23.5749  4.64759\n",
      "4  2014-01-01T00:04:00.0         12.0075        64.5856  23.5692  4.62677\n"
     ]
    }
   ],
   "source": [
    "input_test = pd.read_csv('X_test.csv')\n",
    "X_test = preprocess(input_test)\n",
    "Y_test_cnn = predict_cnn(X_test, cnn)\n",
    "\n",
    "# checks\n",
    "print(input_test.shape)\n",
    "print(X_test.shape)\n",
    "print(Y_test_cnn.shape)\n",
    "print(Y_test_cnn.head())\n",
    "\n",
    "# write to csv for upload on website\n",
    "Y_test_cnn.to_csv('Y_test_cnn.csv', index=False)"
   ]
  },
  {
   "cell_type": "markdown",
   "metadata": {},
   "source": [
    "Another try with each input spanning over 4 time steps:"
   ]
  },
  {
   "cell_type": "code",
   "execution_count": 116,
   "metadata": {},
   "outputs": [],
   "source": [
    "def split_sequence(sequence, n_steps):\n",
    "    X = list()\n",
    "    for i in range(len(sequence)):\n",
    "        # find the end of this pattern\n",
    "        end_ix = i + n_steps\n",
    "        # check if we are beyond the dataset\n",
    "        if end_ix > len(sequence):\n",
    "            break\n",
    "        # gather input and output parts of the pattern\n",
    "        seq_x = sequence[i:end_ix,]\n",
    "        X.append(seq_x)\n",
    "    return np.asarray(X)"
   ]
  },
  {
   "cell_type": "code",
   "execution_count": 111,
   "metadata": {},
   "outputs": [
    {
     "name": "stdout",
     "output_type": "stream",
     "text": [
      "(417596, 4, 18)\n",
      "[[[ 5.50400000e+02  3.50000000e+01  8.90000000e+00 ...  1.00000000e+00\n",
      "    0.00000000e+00  1.00000000e+00]\n",
      "  [ 5.48600000e+02  3.50000000e+01  8.90000000e+00 ...  1.00000000e+00\n",
      "    0.00000000e+00  1.00000000e+00]\n",
      "  [ 5.49300000e+02  3.50000000e+01  8.90000000e+00 ...  1.00000000e+00\n",
      "    0.00000000e+00  1.00000000e+00]\n",
      "  [ 5.49366700e+02  3.50000000e+01  8.90000000e+00 ...  1.00000000e+00\n",
      "    0.00000000e+00  1.00000000e+00]]\n",
      "\n",
      " [[ 5.48600000e+02  3.50000000e+01  8.90000000e+00 ...  1.00000000e+00\n",
      "    0.00000000e+00  1.00000000e+00]\n",
      "  [ 5.49300000e+02  3.50000000e+01  8.90000000e+00 ...  1.00000000e+00\n",
      "    0.00000000e+00  1.00000000e+00]\n",
      "  [ 5.49366700e+02  3.50000000e+01  8.90000000e+00 ...  1.00000000e+00\n",
      "    0.00000000e+00  1.00000000e+00]\n",
      "  [ 5.48890900e+02  3.50000000e+01  8.90000000e+00 ...  1.00000000e+00\n",
      "    0.00000000e+00  1.00000000e+00]]\n",
      "\n",
      " [[ 5.49300000e+02  3.50000000e+01  8.90000000e+00 ...  1.00000000e+00\n",
      "    0.00000000e+00  1.00000000e+00]\n",
      "  [ 5.49366700e+02  3.50000000e+01  8.90000000e+00 ...  1.00000000e+00\n",
      "    0.00000000e+00  1.00000000e+00]\n",
      "  [ 5.48890900e+02  3.50000000e+01  8.90000000e+00 ...  1.00000000e+00\n",
      "    0.00000000e+00  1.00000000e+00]\n",
      "  [ 5.49633300e+02  3.50000000e+01  8.90000000e+00 ...  1.00000000e+00\n",
      "    0.00000000e+00  1.00000000e+00]]\n",
      "\n",
      " ...\n",
      "\n",
      " [[ 4.07875000e+02  8.00000000e+00  9.60000000e+00 ...  0.00000000e+00\n",
      "   -2.58819045e-01  9.65925826e-01]\n",
      "  [ 3.42666700e+02  8.00000000e+00  9.60000000e+00 ...  0.00000000e+00\n",
      "   -2.58819045e-01  9.65925826e-01]\n",
      "  [ 3.11555600e+02  8.00000000e+00  9.60000000e+00 ...  0.00000000e+00\n",
      "   -2.58819045e-01  9.65925826e-01]\n",
      "  [ 3.10500000e+02  8.00000000e+00  9.60000000e+00 ...  0.00000000e+00\n",
      "   -2.58819045e-01  9.65925826e-01]]\n",
      "\n",
      " [[ 3.42666700e+02  8.00000000e+00  9.60000000e+00 ...  0.00000000e+00\n",
      "   -2.58819045e-01  9.65925826e-01]\n",
      "  [ 3.11555600e+02  8.00000000e+00  9.60000000e+00 ...  0.00000000e+00\n",
      "   -2.58819045e-01  9.65925826e-01]\n",
      "  [ 3.10500000e+02  8.00000000e+00  9.60000000e+00 ...  0.00000000e+00\n",
      "   -2.58819045e-01  9.65925826e-01]\n",
      "  [ 3.12000000e+02  8.00000000e+00  9.60000000e+00 ...  0.00000000e+00\n",
      "   -2.58819045e-01  9.65925826e-01]]\n",
      "\n",
      " [[ 3.11555600e+02  8.00000000e+00  9.60000000e+00 ...  0.00000000e+00\n",
      "   -2.58819045e-01  9.65925826e-01]\n",
      "  [ 3.10500000e+02  8.00000000e+00  9.60000000e+00 ...  0.00000000e+00\n",
      "   -2.58819045e-01  9.65925826e-01]\n",
      "  [ 3.12000000e+02  8.00000000e+00  9.60000000e+00 ...  0.00000000e+00\n",
      "   -2.58819045e-01  9.65925826e-01]\n",
      "  [ 3.10444400e+02  8.00000000e+00  9.60000000e+00 ...  0.00000000e+00\n",
      "   -2.58819045e-01  9.65925826e-01]]]\n",
      "(417596, 4)\n",
      "[[ 0.     76.1111  7.      0.    ]\n",
      " [ 0.     75.2727  7.      0.    ]\n",
      " [ 0.     75.      7.      0.    ]\n",
      " ...\n",
      " [ 0.      0.     65.5     0.    ]\n",
      " [ 0.      0.     65.7778  0.    ]\n",
      " [ 0.      0.     65.3333  0.    ]]\n"
     ]
    }
   ],
   "source": [
    "def split_sequences(input_train, output_train, n_steps):\n",
    "    sequences = np.hstack((input_train, output_train))\n",
    "    X = list()\n",
    "    y = list()\n",
    "    for i in range(len(sequences)):\n",
    "        # find the end of this pattern\n",
    "        end_ix = i + n_steps\n",
    "        # check if we are beyond the dataset\n",
    "        if end_ix > len(sequences):\n",
    "            break\n",
    "        # gather input and output parts of the pattern\n",
    "        seq_x, seq_y = sequences[i:end_ix, :-4], sequences[end_ix-1, -4:]\n",
    "        X.append(seq_x)\n",
    "        y.append(seq_y)\n",
    "    return np.asarray(X), np.asarray(y)\n",
    "\n",
    "input_train_cnn2, output_train_cnn2 = split_sequence(input_train.values, output_train.values, 4)\n",
    "\n",
    "print(input_train_cnn2.shape)\n",
    "print(input_train_cnn2)\n",
    "print(output_train_cnn2.shape)\n",
    "print(output_train_cnn2)"
   ]
  },
  {
   "cell_type": "code",
   "execution_count": 98,
   "metadata": {
    "scrolled": false
   },
   "outputs": [
    {
     "name": "stdout",
     "output_type": "stream",
     "text": [
      "_________________________________________________________________\n",
      "Layer (type)                 Output Shape              Param #   \n",
      "=================================================================\n",
      "conv1d_16 (Conv1D)           (None, 4, 64)             2368      \n",
      "_________________________________________________________________\n",
      "max_pooling1d_3 (MaxPooling1 (None, 2, 64)             0         \n",
      "_________________________________________________________________\n",
      "flatten_4 (Flatten)          (None, 128)               0         \n",
      "_________________________________________________________________\n",
      "dense_21 (Dense)             (None, 64)                8256      \n",
      "_________________________________________________________________\n",
      "dense_22 (Dense)             (None, 4)                 260       \n",
      "=================================================================\n",
      "Total params: 10,884\n",
      "Trainable params: 10,884\n",
      "Non-trainable params: 0\n",
      "_________________________________________________________________\n"
     ]
    }
   ],
   "source": [
    "cnn2 = Sequential()\n",
    "\n",
    "cnn2.add(Conv1D(64,input_shape=(4, 18),kernel_size=2,padding='same',activation='relu',strides=1))\n",
    "cnn2.add(MaxPooling1D(pool_size=2))\n",
    "#cnn.add(BatchNormalization())\n",
    "cnn2.add(Flatten())\n",
    "cnn2.add(Dense(64,activation='relu'))\n",
    "#cnn.add(Dropout(0.2))\n",
    "cnn2.add(Dense(4, activation='linear'))\n",
    "cnn2.compile(loss='mean_squared_error',optimizer='adam')\n",
    "\n",
    "cnn2.summary()"
   ]
  },
  {
   "cell_type": "code",
   "execution_count": 113,
   "metadata": {},
   "outputs": [
    {
     "name": "stdout",
     "output_type": "stream",
     "text": [
      "Epoch 1/6\n",
      "417596/417596 [==============================] - 84s 202us/step - loss: 3248.7593\n",
      "Epoch 2/6\n",
      "417596/417596 [==============================] - 82s 196us/step - loss: 3051.2971\n",
      "Epoch 3/6\n",
      "417596/417596 [==============================] - 75s 181us/step - loss: 2962.6953\n",
      "Epoch 4/6\n",
      "417596/417596 [==============================] - 78s 187us/step - loss: 2890.2702\n",
      "Epoch 5/6\n",
      "417596/417596 [==============================] - 78s 188us/step - loss: 2804.8703\n",
      "Epoch 6/6\n",
      "417596/417596 [==============================] - 79s 188us/step - loss: 2761.2325\n"
     ]
    },
    {
     "data": {
      "text/plain": [
       "<keras.callbacks.History at 0x1a60f05710>"
      ]
     },
     "execution_count": 113,
     "metadata": {},
     "output_type": "execute_result"
    }
   ],
   "source": [
    "cnn2.fit(input_train_cnn2, output_train_cnn2, batch_size=32, epochs=6, verbose=1)"
   ]
  },
  {
   "cell_type": "code",
   "execution_count": 137,
   "metadata": {},
   "outputs": [],
   "source": [
    "def predict_cnn2(X, model):\n",
    "    X.rename(columns = {X.columns[0]:'time_step'}, inplace=True)\n",
    "    full_timesteps = pd.DataFrame(X['time_step'], columns=['time_step'])\n",
    "    X = X.dropna() # need to remove all NaN to predict\n",
    "    partial_timesteps = X['time_step'][3:]\n",
    "    X.drop(['time_step'], axis=1, inplace=True)\n",
    "    X = split_sequence(X.values, 4)\n",
    "    pred = model.predict(X)\n",
    "    pred = pd.DataFrame(np.transpose([partial_timesteps, pred[:,0], pred[:,1], pred[:,2], pred[:,3]]),\n",
    "                   columns=['time_step', 'washing_machine', 'fridge_freezer', 'TV', 'kettle'])\n",
    "    pred.set_index(pred['time_step'], inplace=True)\n",
    "    full_timesteps.set_index(full_timesteps['time_step'], inplace=True)\n",
    "    pred = pred.merge(full_timesteps, left_index=True, right_index=True, how='outer')\n",
    "    pred.drop(['time_step_x', 'time_step_y'], axis=1, inplace=True)\n",
    "    pred.reset_index(inplace=True)\n",
    "    pred = pred[['time_step', 'washing_machine', 'fridge_freezer', 'TV', 'kettle']].round(3)\n",
    "    pred.time_step = pd.to_datetime(pred.time_step)\n",
    "    pred.time_step = pred.time_step.apply(lambda x: x.strftime(\"%Y-%m-%dT%H:%M:%S.0\"))\n",
    "    pred['washing_machine'][0:3] = pred['washing_machine'][3]\n",
    "    pred['fridge_freezer'][0:3] = pred['fridge_freezer'][3]\n",
    "    pred['TV'][0:3] = pred['TV'][3]\n",
    "    pred['kettle'][0:3] = pred['kettle'][3]\n",
    "    pred[['washing_machine', 'fridge_freezer', 'TV', 'kettle']] = pred[['washing_machine', 'fridge_freezer', 'TV', 'kettle']].clip(lower=0)\n",
    "    return pred"
   ]
  },
  {
   "cell_type": "code",
   "execution_count": 138,
   "metadata": {
    "scrolled": true
   },
   "outputs": [
    {
     "name": "stderr",
     "output_type": "stream",
     "text": [
      "/Users/Thomas/anaconda3/lib/python3.7/site-packages/pandas/core/frame.py:4102: SettingWithCopyWarning: \n",
      "A value is trying to be set on a copy of a slice from a DataFrame\n",
      "\n",
      "See the caveats in the documentation: http://pandas.pydata.org/pandas-docs/stable/user_guide/indexing.html#returning-a-view-versus-a-copy\n",
      "  errors=errors,\n"
     ]
    },
    {
     "name": "stdout",
     "output_type": "stream",
     "text": [
      "(226081, 11)\n",
      "(226081, 19)\n",
      "(226081, 5)\n",
      "               time_step washing_machine fridge_freezer TV kettle\n",
      "0  2014-01-01T00:00:00.0         212.216        87.1869  0      0\n",
      "1  2014-01-01T00:01:00.0         212.216        87.1869  0      0\n",
      "2  2014-01-01T00:02:00.0         212.216        87.1869  0      0\n",
      "3  2014-01-01T00:03:00.0         212.216        87.1869  0      0\n",
      "4  2014-01-01T00:04:00.0         212.476        87.1566  0      0\n"
     ]
    }
   ],
   "source": [
    "input_test = pd.read_csv('X_test.csv')\n",
    "X_test = preprocess(input_test)\n",
    "Y_test_cnn2 = predict_cnn2(X_test, cnn)\n",
    "\n",
    "# checks\n",
    "print(input_test.shape)\n",
    "print(X_test.shape)\n",
    "print(Y_test_cnn2.shape)\n",
    "print(Y_test_cnn2.head())\n",
    "\n",
    "# write to csv for upload on website\n",
    "Y_test_cnn2.to_csv('Y_test_cnn2.csv', index=False)"
   ]
  },
  {
   "cell_type": "markdown",
   "metadata": {},
   "source": [
    "### NILM disaggregation algorithms"
   ]
  },
  {
   "cell_type": "markdown",
   "metadata": {},
   "source": [
    "**LOTS OF WORK REQUIRED TO ADAPT TO THIS LIBRARY...**"
   ]
  },
  {
   "cell_type": "markdown",
   "metadata": {},
   "source": [
    "We tried to use tools provided by the [NILMTK](https://github.com/nilmtk/nilmtk) library (Non Intrusive Load Monitoring Toolkit). See from documentation: [disaggregation and metrics](https://github.com/nilmtk/nilmtk/blob/master/docs/manual/user_guide/disaggregation_and_metrics.ipynb), [data grouping and basic statistics](https://github.com/nilmtk/nilmtk/blob/master/docs/manual/user_guide/elecmeter_and_metergroup.ipynb)."
   ]
  },
  {
   "cell_type": "markdown",
   "metadata": {},
   "source": [
    "Disaggegration algorithms in NILMTK are implemented as python classes, with **_4 algorithms_** provided: **Combinatorial optimisation (CO)**, **FHMM - factorial hidden Markov model** (using exact inference), an implementation of **George Hart's 1985 disaggregation algorithm**, and a **Maximum Likelihood Estimation** algorithm.\n",
    "\n",
    "**_Training_**  \n",
    "The disaggregation algorithm is trained either from appliance-level data from the building which will be disaggregated (\"supervised\" method) or from other buildings (\"unsupervised\" method). The `train()` method expects a `MeterGroup` object to be passed as a parameter containing a list of `ElecMeter` objects. Algorithms should specify if a `site_meter` is also required to be present in the `MeterGroup` object. Training iterates over chunks of data, passing each chunk to the `train_on_chunk()` method. Successive calls to `train_on_chunk()` update the existing model. The models learned via `train()` are held in volatile memory, and therefore will be lost once the disaggregator object has been destroyed. Persistent models can be implemented via the `import_model()` and `export_model()` methods, which will load a model from disk (replacing any in-memory model) and save an in-memory model to disk respectively. This allows learned models to be applied to large numbers of buildings without repeating the training process.\n",
    "\n",
    "**_Prediction (disaggregation)_**  \n",
    "The `disaggregate()` method uses a learned model to separate a `site_meter`'s load into individual appliances. As with training, the `disaggregate()` method should iterate over chunks of aggregate data, calling `disaggregate_chunk()` on each chunk. The `disaggregate_chunk()` method returns a pandas dataframe, where the columns correspond to individual appliances and the rows correspond to instants in time. The returned dataframe's indexes should exactly match that of the dataframe received as a parameter. The `disaggregate()` method saves each disaggregated chunk to disk via the `datastore.append()` method, along with the required metadata."
   ]
  },
  {
   "cell_type": "code",
   "execution_count": 27,
   "metadata": {},
   "outputs": [],
   "source": [
    "from __future__ import print_function, division\n",
    "import time\n",
    "from six import iteritems\n",
    "\n",
    "# to first install nilmtk, in terminal :\n",
    "# conda config --add channels conda-forge\n",
    "# conda install -c nilmtk nilmtk\n",
    "\n",
    "import nilmtk\n",
    "from nilmtk import DataSet, TimeFrame, MeterGroup, HDFDataStore\n",
    "from nilmtk.legacy.disaggregate import CombinatorialOptimisation, FHMM\n",
    "import nilmtk.utils"
   ]
  },
  {
   "cell_type": "markdown",
   "metadata": {},
   "source": [
    "A function to disaggregate the total data to constituent appliances and return the predictions:"
   ]
  },
  {
   "cell_type": "code",
   "execution_count": 69,
   "metadata": {},
   "outputs": [],
   "source": [
    "def predict(clf, test_elec, sample_period, timezone):\n",
    "    pred = {}\n",
    "    gt= {}\n",
    "    \n",
    "    # \"ac_type\" varies according to the dataset used. \n",
    "    # Make sure to use the correct ac_type before using the default parameters in this code.    \n",
    "    for i, chunk in enumerate(test_elec.mains().load(physical_quantity = 'power', ac_type = 'apparent', sample_period=sample_period)):\n",
    "        chunk_drop_na = chunk.dropna()\n",
    "        pred[i] = clf.disaggregate_chunk(chunk_drop_na)\n",
    "        gt[i]={}\n",
    "\n",
    "        for meter in test_elec.submeters().meters:\n",
    "            # Only use the meters that we trained on (this saves time!)    \n",
    "            gt[i][meter] = next(meter.load(physical_quantity = 'power', ac_type = 'active', sample_period=sample_period))\n",
    "        gt[i] = pd.DataFrame({k:v.squeeze() for k,v in iteritems(gt[i]) if len(v)}, index=next(iter(gt[i].values())).index).dropna()\n",
    "        \n",
    "    # If everything can fit in memory\n",
    "    gt_overall = pd.concat(gt)\n",
    "    gt_overall.index = gt_overall.index.droplevel()\n",
    "    pred_overall = pd.concat(pred)\n",
    "    pred_overall.index = pred_overall.index.droplevel()\n",
    "\n",
    "    # Having the same order of columns\n",
    "    gt_overall = gt_overall[pred_overall.columns]\n",
    "    \n",
    "    #Intersection of index\n",
    "    gt_index_utc = gt_overall.index.tz_convert(\"UTC\")\n",
    "    pred_index_utc = pred_overall.index.tz_convert(\"UTC\")\n",
    "    common_index_utc = gt_index_utc.intersection(pred_index_utc)\n",
    "    \n",
    "    common_index_local = common_index_utc.tz_convert(timezone)\n",
    "    gt_overall = gt_overall.loc[common_index_local]\n",
    "    pred_overall = pred_overall.loc[common_index_local]\n",
    "    appliance_labels = [m for m in gt_overall.columns.values]\n",
    "    gt_overall.columns = appliance_labels\n",
    "    pred_overall.columns = appliance_labels\n",
    "    return gt_overall, pred_overall\n",
    "\n",
    "#gt, predictions[clf_name] = predict(clf, test_elec, sample_period, None)"
   ]
  },
  {
   "cell_type": "markdown",
   "metadata": {},
   "source": [
    "Train using 2 benchmarking algorithms - Combinatorial Optimisation (CO) and Factorial Hidden Markov Model (FHMM):"
   ]
  },
  {
   "cell_type": "code",
   "execution_count": 70,
   "metadata": {},
   "outputs": [
    {
     "name": "stdout",
     "output_type": "stream",
     "text": [
      "********************\n",
      "CO\n",
      "********************\n"
     ]
    },
    {
     "ename": "AttributeError",
     "evalue": "'DataFrame' object has no attribute 'meters'",
     "output_type": "error",
     "traceback": [
      "\u001b[0;31m---------------------------------------------------------------------------\u001b[0m",
      "\u001b[0;31mAttributeError\u001b[0m                            Traceback (most recent call last)",
      "\u001b[0;32m<ipython-input-70-34c3ed3eeeb7>\u001b[0m in \u001b[0;36m<module>\u001b[0;34m\u001b[0m\n\u001b[1;32m     10\u001b[0m     \u001b[0;31m# If instead of top_5 we wanted to train on all appliance, we would write\u001b[0m\u001b[0;34m\u001b[0m\u001b[0;34m\u001b[0m\u001b[0;34m\u001b[0m\u001b[0m\n\u001b[1;32m     11\u001b[0m     \u001b[0;31m# fhmm.train(train_elec, sample_period=60)\u001b[0m\u001b[0;34m\u001b[0m\u001b[0;34m\u001b[0m\u001b[0;34m\u001b[0m\u001b[0m\n\u001b[0;32m---> 12\u001b[0;31m     \u001b[0mclf\u001b[0m\u001b[0;34m.\u001b[0m\u001b[0mtrain\u001b[0m\u001b[0;34m(\u001b[0m\u001b[0moutput_train\u001b[0m\u001b[0;34m,\u001b[0m \u001b[0msample_period\u001b[0m\u001b[0;34m=\u001b[0m\u001b[0msample_period\u001b[0m\u001b[0;34m)\u001b[0m\u001b[0;34m\u001b[0m\u001b[0;34m\u001b[0m\u001b[0m\n\u001b[0m\u001b[1;32m     13\u001b[0m     \u001b[0mend\u001b[0m \u001b[0;34m=\u001b[0m \u001b[0mtime\u001b[0m\u001b[0;34m.\u001b[0m\u001b[0mtime\u001b[0m\u001b[0;34m(\u001b[0m\u001b[0;34m)\u001b[0m\u001b[0;34m\u001b[0m\u001b[0;34m\u001b[0m\u001b[0m\n\u001b[1;32m     14\u001b[0m     \u001b[0mprint\u001b[0m\u001b[0;34m(\u001b[0m\u001b[0;34m\"Runtime =\"\u001b[0m\u001b[0;34m,\u001b[0m \u001b[0mend\u001b[0m\u001b[0;34m-\u001b[0m\u001b[0mstart\u001b[0m\u001b[0;34m,\u001b[0m \u001b[0;34m\"seconds.\"\u001b[0m\u001b[0;34m)\u001b[0m\u001b[0;34m\u001b[0m\u001b[0;34m\u001b[0m\u001b[0m\n",
      "\u001b[0;32m~/anaconda3/lib/python3.7/site-packages/nilmtk/legacy/disaggregate/combinatorial_optimisation.py\u001b[0m in \u001b[0;36mtrain\u001b[0;34m(self, metergroup, num_states_dict, **load_kwargs)\u001b[0m\n\u001b[1;32m     63\u001b[0m                 \" does not support multiple calls to `train`.\")\n\u001b[1;32m     64\u001b[0m \u001b[0;34m\u001b[0m\u001b[0m\n\u001b[0;32m---> 65\u001b[0;31m         \u001b[0mnum_meters\u001b[0m \u001b[0;34m=\u001b[0m \u001b[0mlen\u001b[0m\u001b[0;34m(\u001b[0m\u001b[0mmetergroup\u001b[0m\u001b[0;34m.\u001b[0m\u001b[0mmeters\u001b[0m\u001b[0;34m)\u001b[0m\u001b[0;34m\u001b[0m\u001b[0;34m\u001b[0m\u001b[0m\n\u001b[0m\u001b[1;32m     66\u001b[0m         \u001b[0;32mif\u001b[0m \u001b[0mnum_meters\u001b[0m \u001b[0;34m>\u001b[0m \u001b[0;36m12\u001b[0m\u001b[0;34m:\u001b[0m\u001b[0;34m\u001b[0m\u001b[0;34m\u001b[0m\u001b[0m\n\u001b[1;32m     67\u001b[0m             \u001b[0mmax_num_clusters\u001b[0m \u001b[0;34m=\u001b[0m \u001b[0;36m2\u001b[0m\u001b[0;34m\u001b[0m\u001b[0;34m\u001b[0m\u001b[0m\n",
      "\u001b[0;32m~/anaconda3/lib/python3.7/site-packages/pandas/core/generic.py\u001b[0m in \u001b[0;36m__getattr__\u001b[0;34m(self, name)\u001b[0m\n\u001b[1;32m   5177\u001b[0m             \u001b[0;32mif\u001b[0m \u001b[0mself\u001b[0m\u001b[0;34m.\u001b[0m\u001b[0m_info_axis\u001b[0m\u001b[0;34m.\u001b[0m\u001b[0m_can_hold_identifiers_and_holds_name\u001b[0m\u001b[0;34m(\u001b[0m\u001b[0mname\u001b[0m\u001b[0;34m)\u001b[0m\u001b[0;34m:\u001b[0m\u001b[0;34m\u001b[0m\u001b[0;34m\u001b[0m\u001b[0m\n\u001b[1;32m   5178\u001b[0m                 \u001b[0;32mreturn\u001b[0m \u001b[0mself\u001b[0m\u001b[0;34m[\u001b[0m\u001b[0mname\u001b[0m\u001b[0;34m]\u001b[0m\u001b[0;34m\u001b[0m\u001b[0;34m\u001b[0m\u001b[0m\n\u001b[0;32m-> 5179\u001b[0;31m             \u001b[0;32mreturn\u001b[0m \u001b[0mobject\u001b[0m\u001b[0;34m.\u001b[0m\u001b[0m__getattribute__\u001b[0m\u001b[0;34m(\u001b[0m\u001b[0mself\u001b[0m\u001b[0;34m,\u001b[0m \u001b[0mname\u001b[0m\u001b[0;34m)\u001b[0m\u001b[0;34m\u001b[0m\u001b[0;34m\u001b[0m\u001b[0m\n\u001b[0m\u001b[1;32m   5180\u001b[0m \u001b[0;34m\u001b[0m\u001b[0m\n\u001b[1;32m   5181\u001b[0m     \u001b[0;32mdef\u001b[0m \u001b[0m__setattr__\u001b[0m\u001b[0;34m(\u001b[0m\u001b[0mself\u001b[0m\u001b[0;34m,\u001b[0m \u001b[0mname\u001b[0m\u001b[0;34m,\u001b[0m \u001b[0mvalue\u001b[0m\u001b[0;34m)\u001b[0m\u001b[0;34m:\u001b[0m\u001b[0;34m\u001b[0m\u001b[0;34m\u001b[0m\u001b[0m\n",
      "\u001b[0;31mAttributeError\u001b[0m: 'DataFrame' object has no attribute 'meters'"
     ]
    }
   ],
   "source": [
    "classifiers = {'CO':CombinatorialOptimisation(), 'FHMM':FHMM()}\n",
    "predictions = {}\n",
    "sample_period = 120\n",
    "for clf_name, clf in classifiers.items():\n",
    "    print(\"*\"*20)\n",
    "    print(clf_name)\n",
    "    print(\"*\" *20)\n",
    "    # Note that we have given the sample period to downsample the data to 1 minute. \n",
    "    # If instead of top_5 we wanted to train on all appliance, we would write \n",
    "    # fhmm.train(train_elec, sample_period=60)\n",
    "    clf.train(output_train, sample_period=sample_period)"
   ]
  },
  {
   "cell_type": "code",
   "execution_count": null,
   "metadata": {},
   "outputs": [],
   "source": []
  },
  {
   "cell_type": "code",
   "execution_count": null,
   "metadata": {},
   "outputs": [],
   "source": []
  },
  {
   "cell_type": "markdown",
   "metadata": {},
   "source": [
    "### Our final model: xxx"
   ]
  },
  {
   "cell_type": "code",
   "execution_count": null,
   "metadata": {},
   "outputs": [],
   "source": []
  },
  {
   "cell_type": "markdown",
   "metadata": {},
   "source": [
    "## Test metric"
   ]
  },
  {
   "cell_type": "markdown",
   "metadata": {},
   "source": [
    "The metric we will use is (Wh) :\n",
    "$$\n",
    "\\mathcal{L}(\\widehat{y}, y) = \\frac{1}{\\sum_{j \\: in \\: appliances} \\alpha_j} \\sum_{j \\: in \\: appliances} \\alpha_j \\sqrt{\\frac{\\sum_{i=1}^{N} (\\widehat{y}_{i}^{(j)}-y_{i}^{(j)})^2)}{N}}\n",
    "$$\n",
    "\n",
    "Where\n",
    "* N = 201362 : number of data known in test set\n",
    "* appliances = \\{washing_machine, fridge_freezer, TV, kettle\\}\n",
    "* $\\alpha_j = E(y_{i}^{(j)})$ : mean of power of the appliance j on training set\n",
    "     * $\\alpha_{washing\\_machine} = 5.55$\n",
    "     * $\\alpha_{fridge_freezer} = 49.79$\n",
    "     * $\\alpha_{TV} = 14.57$\n",
    "     * $\\alpha_{kettle} = 4.95$"
   ]
  },
  {
   "cell_type": "code",
   "execution_count": null,
   "metadata": {},
   "outputs": [],
   "source": [
    "import pandas as pd\n",
    "import datetime as dt\n",
    "import math as mt\n",
    "\n",
    "def metric_nilm(dataframe_y_true, dataframe_y_pred):\n",
    "    score = 0.0\n",
    "    test = dataframe_y_true[~dataframe_y_true['washing_machine'].isna()]['washing_machine']\n",
    "    pred = dataframe_y_pred[~dataframe_y_true['washing_machine'].isna()]['washing_machine']\n",
    "    score += mt.sqrt(sum((pred - test)**2)/len(test))*5.55\n",
    "    test = dataframe_y_true[~dataframe_y_true['fridge_freezer'].isna()]['fridge_freezer']\n",
    "    pred = dataframe_y_pred[~dataframe_y_true['fridge_freezer'].isna()]['fridge_freezer']\n",
    "    score += mt.sqrt(sum((pred - test)**2)/len(test))*49.79\n",
    "    test = dataframe_y_true[~dataframe_y_true['TV'].isna()]['TV']\n",
    "    pred = dataframe_y_pred[~dataframe_y_true['TV'].isna()]['TV']\n",
    "    score += mt.sqrt(sum((pred - test)**2)/len(test))*14.57\n",
    "    test = dataframe_y_true[~dataframe_y_true['kettle'].isna()]['kettle']\n",
    "    pred = dataframe_y_pred[~dataframe_y_true['kettle'].isna()]['kettle']\n",
    "    score += mt.sqrt(sum((pred - test)**2)/len(test))*4.95\n",
    "    score /= 74.86\n",
    "    return score\n",
    "\n",
    "if __name__ == '__main__':\n",
    "    import pandas as pd\n",
    "    CSV_FILE_Y_TRUE = 'y_test.csv'\n",
    "    CSV_FILE_Y_PRED = 'y_pred.csv'\n",
    "    df_y_true = pd.read_csv(CSV_FILE_Y_TRUE, index_col=0, sep=',')\n",
    "    df_y_pred = pd.read_csv(CSV_FILE_Y_PRED, index_col=0, sep=',')\n",
    "    if df_y_true.shape[0] == df_y_pred.shape[0] :\n",
    "        df_y_true = df_y_true.sort_values(by=['time_step'])\n",
    "        df_y_pred = df_y_pred.sort_values(by=['time_step'])\n",
    "        if (df_y_true.index[0]== df_y_pred.index[0]) & (df_y_true.index[df_y_true.shape[0]-1]== df_y_pred.index[df_y_pred.shape[0]-1]) :\n",
    "            df_y_true['washing_machine'] = pd.to_numeric(df_y_true['washing_machine'], errors = 'nan')\n",
    "            df_y_true['fridge_freezer'] = pd.to_numeric(df_y_true['fridge_freezer'], errors = 'nan')\n",
    "            df_y_true['TV'] = pd.to_numeric(df_y_true['TV'], errors = 'nan')\n",
    "            df_y_true['kettle'] = pd.to_numeric(df_y_true['kettle'], errors = 'nan')\n",
    "            df_y_pred['washing_machine'] = pd.to_numeric(df_y_pred['washing_machine'], errors = 'nan')\n",
    "            df_y_pred['fridge_freezer'] = pd.to_numeric(df_y_pred['fridge_freezer'], errors = 'nan')\n",
    "            df_y_pred['TV'] = pd.to_numeric(df_y_pred['TV'], errors = 'nan')\n",
    "            df_y_pred['kettle'] = pd.to_numeric(df_y_pred['kettle'], errors = 'nan')\n",
    "            print(metric_nilm(df_y_true, df_y_pred))\n",
    "        else :\n",
    "            print('nan')\n",
    "    else :\n",
    "            print('nan')"
   ]
  }
 ],
 "metadata": {
  "kernelspec": {
   "display_name": "Python 3",
   "language": "python",
   "name": "python3"
  },
  "language_info": {
   "codemirror_mode": {
    "name": "ipython",
    "version": 3
   },
   "file_extension": ".py",
   "mimetype": "text/x-python",
   "name": "python",
   "nbconvert_exporter": "python",
   "pygments_lexer": "ipython3",
   "version": "3.7.3"
  },
  "toc": {
   "base_numbering": 1,
   "nav_menu": {},
   "number_sections": true,
   "sideBar": true,
   "skip_h1_title": false,
   "title_cell": "Table of Contents",
   "title_sidebar": "Contents",
   "toc_cell": false,
   "toc_position": {},
   "toc_section_display": true,
   "toc_window_display": true
  },
  "varInspector": {
   "cols": {
    "lenName": 16,
    "lenType": 16,
    "lenVar": 40
   },
   "kernels_config": {
    "python": {
     "delete_cmd_postfix": "",
     "delete_cmd_prefix": "del ",
     "library": "var_list.py",
     "varRefreshCmd": "print(var_dic_list())"
    },
    "r": {
     "delete_cmd_postfix": ") ",
     "delete_cmd_prefix": "rm(",
     "library": "var_list.r",
     "varRefreshCmd": "cat(var_dic_list()) "
    }
   },
   "types_to_exclude": [
    "module",
    "function",
    "builtin_function_or_method",
    "instance",
    "_Feature"
   ],
   "window_display": false
  }
 },
 "nbformat": 4,
 "nbformat_minor": 2
}
