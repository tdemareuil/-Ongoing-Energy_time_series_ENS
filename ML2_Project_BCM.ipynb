{
 "cells": [
  {
   "cell_type": "markdown",
   "metadata": {},
   "source": [
    "# Machine Learning II Data Challenge  \n",
    "Time series analysis to predict house electricity consumption.\n",
    "\n",
    "- Thomas de Mareuil\n",
    "- Constantin Vodé\n",
    "- Tommy Tran"
   ]
  },
  {
   "cell_type": "markdown",
   "metadata": {},
   "source": [
    "## Introduction\n",
    "### Challenge context\n",
    "\n",
    "BCM Energy is a start-up based in Lyon and created in 2015. BCM operates on the whole value chain of renewable electricity, from production assets management on electricity markets (Epexspot, EEX) to electricity supply to final consumers through the brand Planète OUI:\n",
    "\n",
    "BCM Energy is active continuously on the electricity markets,\n",
    "BCM Energy is responsible of its own balancing perimeter,\n",
    "BCM Energy also manages capacity certificates within its own certification perimeter and guarantees of origin in its register.\n",
    "The diverse priority areas of growth are supported by a trading team with more than fifteen years of experience of the various electricity markets, developing state-of-the-art financial analysis modeling. Planète OUI, created in 2007, is one of the first French green electricity supplier. The company supplies tens of thousands of homes and professionals and covers more than 95 % of metropolitan France (Enedis network). Planète OUI promotes an ecology constructive and made available for all. It has integrated BCM Energy’s perimeter in 2017. The supplier has to offer green electricity supply with prices adapted to the consumption profiles of its clients. Indeed, the information of disaggregation consumption could help reduce electricity consumption and so reduce the electricity bill with customized advice or control of appliances of our clients (with their agreement)."
   ]
  },
  {
   "cell_type": "markdown",
   "metadata": {},
   "source": [
    "### Challenge goals\n",
    "The goal is to train an algorithm to replace many monitoring systems which are too intrusive and too expensive. This challenge is known as NILM (Nonintrusive load monitoring) or NIALM (Nonintrusive appliance load monitoring). The aim of the challenge is to find the part of electric consumption in one household dedicated to 4 appliances (washing machine, fridge_freezer, TV, kettle). There are no time constraints. The past and the future are known."
   ]
  },
  {
   "cell_type": "markdown",
   "metadata": {},
   "source": [
    "### Data description\n",
    "The first line of the input contains the header, the columns are separated by ',', and decimals by decimal point. The columns are:\n",
    "\n",
    "- the “time_step”: date measured each minute (format yyyy-MM-ddTHH :mm :ss.Z)\n",
    "- the “consumption”: household consumption (W) measured each minute\n",
    "- the “visibility”: distance at which it is possible to clearly distinguish an object (km) measured once per hour\n",
    "- the “temperature”: temperature (°C) measured once per hour\n",
    "- the “humidity”: presence of water in the air (%) measured once per hour\n",
    "- the “humidex”: index used to integrate the combined effects of heat and humidity measured once per hour\n",
    "- the “windchill”: an index that expresses the subjective feeling of cold or heat as a function of measured temperature, wind and humidity (°C) measured once per hour\n",
    "- the “wind”: wind speed (km/h) measured once per hour\n",
    "- the “pressure”: applied perpendicular to the surface of an object per unit area (Pa) measured once per hour\n",
    "\n",
    "\n",
    "The first line of the output contains the header, the columns are separated by ',', and decimals by decimal point. The columns are:\n",
    "\n",
    "- the “time_step”: date measured each minute (format yyyy-MM-ddTHH :mm :ss.Z)\n",
    "- the “washing_machine”: washing machine power (W) measured each minute\n",
    "- the “fridge_freezer”: fridge freezer power (W) measured each minute\n",
    "- the “TV”: TV power (W) measured each minute\n",
    "- the “kettle”: kettle power (W) measured each minute\n",
    "\n",
    "- The train set contains 417 599 values with 10 231 missing values (2,44%) for “consumption”, “washing_machine”, “fridge_freezer”, “TV”, “kettle” and the test set contains 226 081 values with 24 719 missing values (10,93%)."
   ]
  },
  {
   "cell_type": "markdown",
   "metadata": {},
   "source": [
    "## Data exploration"
   ]
  },
  {
   "cell_type": "code",
   "execution_count": 176,
   "metadata": {},
   "outputs": [],
   "source": [
    "import pandas as pd\n",
    "import numpy as np\n",
    "import matplotlib.pyplot as plt\n",
    "%matplotlib inline\n",
    "from sklearn.multioutput import MultiOutputRegressor\n",
    "# https://scikit-learn.org/stable/auto_examples/tree/plot_tree_regression_multioutput.html"
   ]
  },
  {
   "cell_type": "code",
   "execution_count": 177,
   "metadata": {},
   "outputs": [],
   "source": [
    "input_train = pd.read_csv('X_train.csv')\n",
    "input_train = input_train.drop('Unnamed: 9', axis=1)\n",
    "output_train = pd.read_csv('y_train.csv')"
   ]
  },
  {
   "cell_type": "code",
   "execution_count": 178,
   "metadata": {
    "scrolled": false
   },
   "outputs": [
    {
     "data": {
      "text/html": [
       "<div>\n",
       "<style scoped>\n",
       "    .dataframe tbody tr th:only-of-type {\n",
       "        vertical-align: middle;\n",
       "    }\n",
       "\n",
       "    .dataframe tbody tr th {\n",
       "        vertical-align: top;\n",
       "    }\n",
       "\n",
       "    .dataframe thead th {\n",
       "        text-align: right;\n",
       "    }\n",
       "</style>\n",
       "<table border=\"1\" class=\"dataframe\">\n",
       "  <thead>\n",
       "    <tr style=\"text-align: right;\">\n",
       "      <th></th>\n",
       "      <th>time_step</th>\n",
       "      <th>consumption</th>\n",
       "      <th>visibility</th>\n",
       "      <th>temperature</th>\n",
       "      <th>humidity</th>\n",
       "      <th>humidex</th>\n",
       "      <th>windchill</th>\n",
       "      <th>wind</th>\n",
       "      <th>pressure</th>\n",
       "    </tr>\n",
       "  </thead>\n",
       "  <tbody>\n",
       "    <tr>\n",
       "      <th>0</th>\n",
       "      <td>2013-03-17T00:01:00.0</td>\n",
       "      <td>550.4000</td>\n",
       "      <td>NaN</td>\n",
       "      <td>NaN</td>\n",
       "      <td>NaN</td>\n",
       "      <td>NaN</td>\n",
       "      <td>NaN</td>\n",
       "      <td>NaN</td>\n",
       "      <td>NaN</td>\n",
       "    </tr>\n",
       "    <tr>\n",
       "      <th>1</th>\n",
       "      <td>2013-03-17T00:02:00.0</td>\n",
       "      <td>548.6000</td>\n",
       "      <td>NaN</td>\n",
       "      <td>NaN</td>\n",
       "      <td>NaN</td>\n",
       "      <td>NaN</td>\n",
       "      <td>NaN</td>\n",
       "      <td>NaN</td>\n",
       "      <td>NaN</td>\n",
       "    </tr>\n",
       "    <tr>\n",
       "      <th>2</th>\n",
       "      <td>2013-03-17T00:03:00.0</td>\n",
       "      <td>549.3000</td>\n",
       "      <td>NaN</td>\n",
       "      <td>NaN</td>\n",
       "      <td>NaN</td>\n",
       "      <td>NaN</td>\n",
       "      <td>NaN</td>\n",
       "      <td>NaN</td>\n",
       "      <td>NaN</td>\n",
       "    </tr>\n",
       "    <tr>\n",
       "      <th>3</th>\n",
       "      <td>2013-03-17T00:04:00.0</td>\n",
       "      <td>549.3667</td>\n",
       "      <td>NaN</td>\n",
       "      <td>NaN</td>\n",
       "      <td>NaN</td>\n",
       "      <td>NaN</td>\n",
       "      <td>NaN</td>\n",
       "      <td>NaN</td>\n",
       "      <td>NaN</td>\n",
       "    </tr>\n",
       "    <tr>\n",
       "      <th>4</th>\n",
       "      <td>2013-03-17T00:05:00.0</td>\n",
       "      <td>548.8909</td>\n",
       "      <td>NaN</td>\n",
       "      <td>NaN</td>\n",
       "      <td>NaN</td>\n",
       "      <td>NaN</td>\n",
       "      <td>NaN</td>\n",
       "      <td>NaN</td>\n",
       "      <td>NaN</td>\n",
       "    </tr>\n",
       "  </tbody>\n",
       "</table>\n",
       "</div>"
      ],
      "text/plain": [
       "               time_step  consumption  visibility  temperature  humidity  \\\n",
       "0  2013-03-17T00:01:00.0     550.4000         NaN          NaN       NaN   \n",
       "1  2013-03-17T00:02:00.0     548.6000         NaN          NaN       NaN   \n",
       "2  2013-03-17T00:03:00.0     549.3000         NaN          NaN       NaN   \n",
       "3  2013-03-17T00:04:00.0     549.3667         NaN          NaN       NaN   \n",
       "4  2013-03-17T00:05:00.0     548.8909         NaN          NaN       NaN   \n",
       "\n",
       "   humidex  windchill  wind  pressure  \n",
       "0      NaN        NaN   NaN       NaN  \n",
       "1      NaN        NaN   NaN       NaN  \n",
       "2      NaN        NaN   NaN       NaN  \n",
       "3      NaN        NaN   NaN       NaN  \n",
       "4      NaN        NaN   NaN       NaN  "
      ]
     },
     "execution_count": 178,
     "metadata": {},
     "output_type": "execute_result"
    }
   ],
   "source": [
    "input_train.head()"
   ]
  },
  {
   "cell_type": "code",
   "execution_count": 179,
   "metadata": {},
   "outputs": [
    {
     "data": {
      "text/html": [
       "<div>\n",
       "<style scoped>\n",
       "    .dataframe tbody tr th:only-of-type {\n",
       "        vertical-align: middle;\n",
       "    }\n",
       "\n",
       "    .dataframe tbody tr th {\n",
       "        vertical-align: top;\n",
       "    }\n",
       "\n",
       "    .dataframe thead th {\n",
       "        text-align: right;\n",
       "    }\n",
       "</style>\n",
       "<table border=\"1\" class=\"dataframe\">\n",
       "  <thead>\n",
       "    <tr style=\"text-align: right;\">\n",
       "      <th></th>\n",
       "      <th>time_step</th>\n",
       "      <th>washing_machine</th>\n",
       "      <th>fridge_freezer</th>\n",
       "      <th>TV</th>\n",
       "      <th>kettle</th>\n",
       "    </tr>\n",
       "  </thead>\n",
       "  <tbody>\n",
       "    <tr>\n",
       "      <th>0</th>\n",
       "      <td>2013-03-17T00:01:00.0</td>\n",
       "      <td>0.0</td>\n",
       "      <td>79.2000</td>\n",
       "      <td>7.0</td>\n",
       "      <td>0.0</td>\n",
       "    </tr>\n",
       "    <tr>\n",
       "      <th>1</th>\n",
       "      <td>2013-03-17T00:02:00.0</td>\n",
       "      <td>0.0</td>\n",
       "      <td>78.0000</td>\n",
       "      <td>7.0</td>\n",
       "      <td>0.0</td>\n",
       "    </tr>\n",
       "    <tr>\n",
       "      <th>2</th>\n",
       "      <td>2013-03-17T00:03:00.0</td>\n",
       "      <td>0.0</td>\n",
       "      <td>76.9000</td>\n",
       "      <td>7.0</td>\n",
       "      <td>0.0</td>\n",
       "    </tr>\n",
       "    <tr>\n",
       "      <th>3</th>\n",
       "      <td>2013-03-17T00:04:00.0</td>\n",
       "      <td>0.0</td>\n",
       "      <td>76.1111</td>\n",
       "      <td>7.0</td>\n",
       "      <td>0.0</td>\n",
       "    </tr>\n",
       "    <tr>\n",
       "      <th>4</th>\n",
       "      <td>2013-03-17T00:05:00.0</td>\n",
       "      <td>0.0</td>\n",
       "      <td>75.2727</td>\n",
       "      <td>7.0</td>\n",
       "      <td>0.0</td>\n",
       "    </tr>\n",
       "  </tbody>\n",
       "</table>\n",
       "</div>"
      ],
      "text/plain": [
       "               time_step  washing_machine  fridge_freezer   TV  kettle\n",
       "0  2013-03-17T00:01:00.0              0.0         79.2000  7.0     0.0\n",
       "1  2013-03-17T00:02:00.0              0.0         78.0000  7.0     0.0\n",
       "2  2013-03-17T00:03:00.0              0.0         76.9000  7.0     0.0\n",
       "3  2013-03-17T00:04:00.0              0.0         76.1111  7.0     0.0\n",
       "4  2013-03-17T00:05:00.0              0.0         75.2727  7.0     0.0"
      ]
     },
     "execution_count": 179,
     "metadata": {},
     "output_type": "execute_result"
    }
   ],
   "source": [
    "output_train.head()"
   ]
  },
  {
   "cell_type": "code",
   "execution_count": 180,
   "metadata": {},
   "outputs": [
    {
     "name": "stdout",
     "output_type": "stream",
     "text": [
      "datetime64[ns]\n",
      "datetime64[ns]\n"
     ]
    }
   ],
   "source": [
    "# Convert the time_step feature into datetime in the input and output datasets\n",
    "\n",
    "input_train['time_step'] = pd.to_datetime(input_train['time_step'])\n",
    "output_train['time_step'] = pd.to_datetime(output_train['time_step'])\n",
    "\n",
    "# Check data type\n",
    "print(input_train['time_step'].dtype)\n",
    "print(output_train['time_step'].dtype)"
   ]
  },
  {
   "cell_type": "markdown",
   "metadata": {},
   "source": [
    "### Missing values"
   ]
  },
  {
   "cell_type": "code",
   "execution_count": 181,
   "metadata": {},
   "outputs": [
    {
     "name": "stdout",
     "output_type": "stream",
     "text": [
      "time_step      0.000000\n",
      "consumption    0.024500\n",
      "visibility     0.983391\n",
      "temperature    0.983364\n",
      "humidity       0.983391\n",
      "humidex        0.983391\n",
      "windchill      0.983410\n",
      "wind           0.983391\n",
      "pressure       0.983400\n",
      "dtype: float64\n"
     ]
    },
    {
     "data": {
      "image/png": "[encoded data removed]",
      "text/plain": [
       "<Figure size 1080x288 with 1 Axes>"
      ]
     },
     "metadata": {
      "needs_background": "light"
     },
     "output_type": "display_data"
    }
   ],
   "source": [
    "# Show % of missing values in the input_train dataset\n",
    "\n",
    "missing = input_train.isna().sum()\n",
    "missing = missing/len(input_train)\n",
    "print(missing)\n",
    "\n",
    "\n",
    "ax = missing.plot(kind='bar',figsize=(15,4),width = 0.8,edgecolor=None)\n",
    "plt.title(\"% of missing values in the input_train dataset\",fontsize= 16)\n",
    "\n",
    "for p in ax.patches:\n",
    "    width, height = p.get_width(), p.get_height()\n",
    "    x, y = p.get_xy() \n",
    "    ax.annotate('{:.0%}'.format(height), (p.get_x()+.5*width, p.get_y()+.5*height), ha = 'center')"
   ]
  },
  {
   "cell_type": "code",
   "execution_count": 182,
   "metadata": {
    "scrolled": true
   },
   "outputs": [
    {
     "data": {
      "text/plain": [
       "<matplotlib.axes._subplots.AxesSubplot at 0x1a24d06fd0>"
      ]
     },
     "execution_count": 182,
     "metadata": {},
     "output_type": "execute_result"
    },
    {
     "data": {
      "image/png": "[encoded data removed]",
      "text/plain": [
       "<Figure size 1800x720 with 2 Axes>"
      ]
     },
     "metadata": {
      "needs_background": "light"
     },
     "output_type": "display_data"
    }
   ],
   "source": [
    "# Visualize missing values repartition in the first 10h of the dataset\n",
    "\n",
    "import missingno as msno\n",
    "msno.matrix(input_train[:600])"
   ]
  },
  {
   "cell_type": "markdown",
   "metadata": {},
   "source": [
    "We can see that all meteorological features are measured once per hour (i.e. 10 values/lines are visible on the graph above, for the 10 first hours of the dataset), which explains the high proportion of missing values.\n",
    "\n",
    "To impute these missing values in-between the measurements, we will use the [backward interpolation] method. (why?)"
   ]
  },
  {
   "cell_type": "code",
   "execution_count": 183,
   "metadata": {
    "scrolled": true
   },
   "outputs": [
    {
     "data": {
      "text/html": [
       "<div>\n",
       "<style scoped>\n",
       "    .dataframe tbody tr th:only-of-type {\n",
       "        vertical-align: middle;\n",
       "    }\n",
       "\n",
       "    .dataframe tbody tr th {\n",
       "        vertical-align: top;\n",
       "    }\n",
       "\n",
       "    .dataframe thead th {\n",
       "        text-align: right;\n",
       "    }\n",
       "</style>\n",
       "<table border=\"1\" class=\"dataframe\">\n",
       "  <thead>\n",
       "    <tr style=\"text-align: right;\">\n",
       "      <th></th>\n",
       "      <th>time_step</th>\n",
       "      <th>consumption</th>\n",
       "      <th>visibility</th>\n",
       "      <th>temperature</th>\n",
       "      <th>humidity</th>\n",
       "      <th>humidex</th>\n",
       "      <th>windchill</th>\n",
       "      <th>wind</th>\n",
       "      <th>pressure</th>\n",
       "    </tr>\n",
       "  </thead>\n",
       "  <tbody>\n",
       "    <tr>\n",
       "      <th>50</th>\n",
       "      <td>2013-03-17 00:51:00</td>\n",
       "      <td>596.9306</td>\n",
       "      <td>35.0</td>\n",
       "      <td>8.9</td>\n",
       "      <td>86.000000</td>\n",
       "      <td>8.9</td>\n",
       "      <td>6.000000</td>\n",
       "      <td>19.000000</td>\n",
       "      <td>1017.300000</td>\n",
       "    </tr>\n",
       "    <tr>\n",
       "      <th>51</th>\n",
       "      <td>2013-03-17 00:52:00</td>\n",
       "      <td>604.4273</td>\n",
       "      <td>35.0</td>\n",
       "      <td>8.9</td>\n",
       "      <td>86.000000</td>\n",
       "      <td>8.9</td>\n",
       "      <td>6.000000</td>\n",
       "      <td>19.000000</td>\n",
       "      <td>1017.300000</td>\n",
       "    </tr>\n",
       "    <tr>\n",
       "      <th>52</th>\n",
       "      <td>2013-03-17 00:53:00</td>\n",
       "      <td>604.0000</td>\n",
       "      <td>35.0</td>\n",
       "      <td>8.9</td>\n",
       "      <td>86.000000</td>\n",
       "      <td>8.9</td>\n",
       "      <td>6.000000</td>\n",
       "      <td>19.000000</td>\n",
       "      <td>1017.300000</td>\n",
       "    </tr>\n",
       "    <tr>\n",
       "      <th>53</th>\n",
       "      <td>2013-03-17 00:54:00</td>\n",
       "      <td>602.4040</td>\n",
       "      <td>35.0</td>\n",
       "      <td>8.9</td>\n",
       "      <td>86.000000</td>\n",
       "      <td>8.9</td>\n",
       "      <td>6.000000</td>\n",
       "      <td>19.000000</td>\n",
       "      <td>1017.300000</td>\n",
       "    </tr>\n",
       "    <tr>\n",
       "      <th>54</th>\n",
       "      <td>2013-03-17 00:55:00</td>\n",
       "      <td>668.0111</td>\n",
       "      <td>35.0</td>\n",
       "      <td>8.9</td>\n",
       "      <td>86.000000</td>\n",
       "      <td>8.9</td>\n",
       "      <td>6.000000</td>\n",
       "      <td>19.000000</td>\n",
       "      <td>1017.300000</td>\n",
       "    </tr>\n",
       "    <tr>\n",
       "      <th>55</th>\n",
       "      <td>2013-03-17 00:56:00</td>\n",
       "      <td>642.6060</td>\n",
       "      <td>35.0</td>\n",
       "      <td>8.9</td>\n",
       "      <td>86.000000</td>\n",
       "      <td>8.9</td>\n",
       "      <td>6.000000</td>\n",
       "      <td>19.000000</td>\n",
       "      <td>1017.300000</td>\n",
       "    </tr>\n",
       "    <tr>\n",
       "      <th>56</th>\n",
       "      <td>2013-03-17 00:57:00</td>\n",
       "      <td>601.3000</td>\n",
       "      <td>35.0</td>\n",
       "      <td>8.9</td>\n",
       "      <td>86.000000</td>\n",
       "      <td>8.9</td>\n",
       "      <td>6.000000</td>\n",
       "      <td>19.000000</td>\n",
       "      <td>1017.300000</td>\n",
       "    </tr>\n",
       "    <tr>\n",
       "      <th>57</th>\n",
       "      <td>2013-03-17 00:58:00</td>\n",
       "      <td>594.9556</td>\n",
       "      <td>35.0</td>\n",
       "      <td>8.9</td>\n",
       "      <td>86.000000</td>\n",
       "      <td>8.9</td>\n",
       "      <td>6.000000</td>\n",
       "      <td>19.000000</td>\n",
       "      <td>1017.300000</td>\n",
       "    </tr>\n",
       "    <tr>\n",
       "      <th>58</th>\n",
       "      <td>2013-03-17 00:59:00</td>\n",
       "      <td>586.2000</td>\n",
       "      <td>35.0</td>\n",
       "      <td>8.9</td>\n",
       "      <td>86.000000</td>\n",
       "      <td>8.9</td>\n",
       "      <td>6.000000</td>\n",
       "      <td>19.000000</td>\n",
       "      <td>1017.300000</td>\n",
       "    </tr>\n",
       "    <tr>\n",
       "      <th>59</th>\n",
       "      <td>2013-03-17 01:00:00</td>\n",
       "      <td>586.9000</td>\n",
       "      <td>35.0</td>\n",
       "      <td>8.9</td>\n",
       "      <td>86.000000</td>\n",
       "      <td>8.9</td>\n",
       "      <td>6.000000</td>\n",
       "      <td>19.000000</td>\n",
       "      <td>1017.300000</td>\n",
       "    </tr>\n",
       "    <tr>\n",
       "      <th>60</th>\n",
       "      <td>2013-03-17 01:01:00</td>\n",
       "      <td>616.5000</td>\n",
       "      <td>34.6</td>\n",
       "      <td>8.9</td>\n",
       "      <td>86.033333</td>\n",
       "      <td>8.9</td>\n",
       "      <td>6.003333</td>\n",
       "      <td>18.966667</td>\n",
       "      <td>1017.293333</td>\n",
       "    </tr>\n",
       "    <tr>\n",
       "      <th>61</th>\n",
       "      <td>2013-03-17 01:02:00</td>\n",
       "      <td>541.0667</td>\n",
       "      <td>34.2</td>\n",
       "      <td>8.9</td>\n",
       "      <td>86.066667</td>\n",
       "      <td>8.9</td>\n",
       "      <td>6.006667</td>\n",
       "      <td>18.933333</td>\n",
       "      <td>1017.286667</td>\n",
       "    </tr>\n",
       "    <tr>\n",
       "      <th>62</th>\n",
       "      <td>2013-03-17 01:03:00</td>\n",
       "      <td>541.2000</td>\n",
       "      <td>33.8</td>\n",
       "      <td>8.9</td>\n",
       "      <td>86.100000</td>\n",
       "      <td>8.9</td>\n",
       "      <td>6.010000</td>\n",
       "      <td>18.900000</td>\n",
       "      <td>1017.280000</td>\n",
       "    </tr>\n",
       "    <tr>\n",
       "      <th>63</th>\n",
       "      <td>2013-03-17 01:04:00</td>\n",
       "      <td>540.5000</td>\n",
       "      <td>33.4</td>\n",
       "      <td>8.9</td>\n",
       "      <td>86.133333</td>\n",
       "      <td>8.9</td>\n",
       "      <td>6.013333</td>\n",
       "      <td>18.866667</td>\n",
       "      <td>1017.273333</td>\n",
       "    </tr>\n",
       "    <tr>\n",
       "      <th>64</th>\n",
       "      <td>2013-03-17 01:05:00</td>\n",
       "      <td>540.8000</td>\n",
       "      <td>33.0</td>\n",
       "      <td>8.9</td>\n",
       "      <td>86.166667</td>\n",
       "      <td>8.9</td>\n",
       "      <td>6.016667</td>\n",
       "      <td>18.833333</td>\n",
       "      <td>1017.266667</td>\n",
       "    </tr>\n",
       "    <tr>\n",
       "      <th>65</th>\n",
       "      <td>2013-03-17 01:06:00</td>\n",
       "      <td>540.5000</td>\n",
       "      <td>32.6</td>\n",
       "      <td>8.9</td>\n",
       "      <td>86.200000</td>\n",
       "      <td>8.9</td>\n",
       "      <td>6.020000</td>\n",
       "      <td>18.800000</td>\n",
       "      <td>1017.260000</td>\n",
       "    </tr>\n",
       "    <tr>\n",
       "      <th>66</th>\n",
       "      <td>2013-03-17 01:07:00</td>\n",
       "      <td>543.6000</td>\n",
       "      <td>32.2</td>\n",
       "      <td>8.9</td>\n",
       "      <td>86.233333</td>\n",
       "      <td>8.9</td>\n",
       "      <td>6.023333</td>\n",
       "      <td>18.766667</td>\n",
       "      <td>1017.253333</td>\n",
       "    </tr>\n",
       "    <tr>\n",
       "      <th>67</th>\n",
       "      <td>2013-03-17 01:08:00</td>\n",
       "      <td>548.5000</td>\n",
       "      <td>31.8</td>\n",
       "      <td>8.9</td>\n",
       "      <td>86.266667</td>\n",
       "      <td>8.9</td>\n",
       "      <td>6.026667</td>\n",
       "      <td>18.733333</td>\n",
       "      <td>1017.246667</td>\n",
       "    </tr>\n",
       "    <tr>\n",
       "      <th>68</th>\n",
       "      <td>2013-03-17 01:09:00</td>\n",
       "      <td>542.8000</td>\n",
       "      <td>31.4</td>\n",
       "      <td>8.9</td>\n",
       "      <td>86.300000</td>\n",
       "      <td>8.9</td>\n",
       "      <td>6.030000</td>\n",
       "      <td>18.700000</td>\n",
       "      <td>1017.240000</td>\n",
       "    </tr>\n",
       "    <tr>\n",
       "      <th>69</th>\n",
       "      <td>2013-03-17 01:10:00</td>\n",
       "      <td>542.3000</td>\n",
       "      <td>31.0</td>\n",
       "      <td>8.9</td>\n",
       "      <td>86.333333</td>\n",
       "      <td>8.9</td>\n",
       "      <td>6.033333</td>\n",
       "      <td>18.666667</td>\n",
       "      <td>1017.233333</td>\n",
       "    </tr>\n",
       "    <tr>\n",
       "      <th>70</th>\n",
       "      <td>2013-03-17 01:11:00</td>\n",
       "      <td>542.7000</td>\n",
       "      <td>30.6</td>\n",
       "      <td>8.9</td>\n",
       "      <td>86.366667</td>\n",
       "      <td>8.9</td>\n",
       "      <td>6.036667</td>\n",
       "      <td>18.633333</td>\n",
       "      <td>1017.226667</td>\n",
       "    </tr>\n",
       "    <tr>\n",
       "      <th>71</th>\n",
       "      <td>2013-03-17 01:12:00</td>\n",
       "      <td>542.7000</td>\n",
       "      <td>30.2</td>\n",
       "      <td>8.9</td>\n",
       "      <td>86.400000</td>\n",
       "      <td>8.9</td>\n",
       "      <td>6.040000</td>\n",
       "      <td>18.600000</td>\n",
       "      <td>1017.220000</td>\n",
       "    </tr>\n",
       "    <tr>\n",
       "      <th>72</th>\n",
       "      <td>2013-03-17 01:13:00</td>\n",
       "      <td>543.7000</td>\n",
       "      <td>29.8</td>\n",
       "      <td>8.9</td>\n",
       "      <td>86.433333</td>\n",
       "      <td>8.9</td>\n",
       "      <td>6.043333</td>\n",
       "      <td>18.566667</td>\n",
       "      <td>1017.213333</td>\n",
       "    </tr>\n",
       "    <tr>\n",
       "      <th>73</th>\n",
       "      <td>2013-03-17 01:14:00</td>\n",
       "      <td>542.2000</td>\n",
       "      <td>29.4</td>\n",
       "      <td>8.9</td>\n",
       "      <td>86.466667</td>\n",
       "      <td>8.9</td>\n",
       "      <td>6.046667</td>\n",
       "      <td>18.533333</td>\n",
       "      <td>1017.206667</td>\n",
       "    </tr>\n",
       "    <tr>\n",
       "      <th>74</th>\n",
       "      <td>2013-03-17 01:15:00</td>\n",
       "      <td>539.5000</td>\n",
       "      <td>29.0</td>\n",
       "      <td>8.9</td>\n",
       "      <td>86.500000</td>\n",
       "      <td>8.9</td>\n",
       "      <td>6.050000</td>\n",
       "      <td>18.500000</td>\n",
       "      <td>1017.200000</td>\n",
       "    </tr>\n",
       "    <tr>\n",
       "      <th>75</th>\n",
       "      <td>2013-03-17 01:16:00</td>\n",
       "      <td>540.2000</td>\n",
       "      <td>28.6</td>\n",
       "      <td>8.9</td>\n",
       "      <td>86.533333</td>\n",
       "      <td>8.9</td>\n",
       "      <td>6.053333</td>\n",
       "      <td>18.466667</td>\n",
       "      <td>1017.193333</td>\n",
       "    </tr>\n",
       "    <tr>\n",
       "      <th>76</th>\n",
       "      <td>2013-03-17 01:17:00</td>\n",
       "      <td>539.3636</td>\n",
       "      <td>28.2</td>\n",
       "      <td>8.9</td>\n",
       "      <td>86.566667</td>\n",
       "      <td>8.9</td>\n",
       "      <td>6.056667</td>\n",
       "      <td>18.433333</td>\n",
       "      <td>1017.186667</td>\n",
       "    </tr>\n",
       "    <tr>\n",
       "      <th>77</th>\n",
       "      <td>2013-03-17 01:18:00</td>\n",
       "      <td>538.6111</td>\n",
       "      <td>27.8</td>\n",
       "      <td>8.9</td>\n",
       "      <td>86.600000</td>\n",
       "      <td>8.9</td>\n",
       "      <td>6.060000</td>\n",
       "      <td>18.400000</td>\n",
       "      <td>1017.180000</td>\n",
       "    </tr>\n",
       "    <tr>\n",
       "      <th>78</th>\n",
       "      <td>2013-03-17 01:19:00</td>\n",
       "      <td>527.5000</td>\n",
       "      <td>27.4</td>\n",
       "      <td>8.9</td>\n",
       "      <td>86.633333</td>\n",
       "      <td>8.9</td>\n",
       "      <td>6.063333</td>\n",
       "      <td>18.366667</td>\n",
       "      <td>1017.173333</td>\n",
       "    </tr>\n",
       "    <tr>\n",
       "      <th>79</th>\n",
       "      <td>2013-03-17 01:20:00</td>\n",
       "      <td>528.2000</td>\n",
       "      <td>27.0</td>\n",
       "      <td>8.9</td>\n",
       "      <td>86.666667</td>\n",
       "      <td>8.9</td>\n",
       "      <td>6.066667</td>\n",
       "      <td>18.333333</td>\n",
       "      <td>1017.166667</td>\n",
       "    </tr>\n",
       "  </tbody>\n",
       "</table>\n",
       "</div>"
      ],
      "text/plain": [
       "             time_step  consumption  visibility  temperature   humidity  \\\n",
       "50 2013-03-17 00:51:00     596.9306        35.0          8.9  86.000000   \n",
       "51 2013-03-17 00:52:00     604.4273        35.0          8.9  86.000000   \n",
       "52 2013-03-17 00:53:00     604.0000        35.0          8.9  86.000000   \n",
       "53 2013-03-17 00:54:00     602.4040        35.0          8.9  86.000000   \n",
       "54 2013-03-17 00:55:00     668.0111        35.0          8.9  86.000000   \n",
       "55 2013-03-17 00:56:00     642.6060        35.0          8.9  86.000000   \n",
       "56 2013-03-17 00:57:00     601.3000        35.0          8.9  86.000000   \n",
       "57 2013-03-17 00:58:00     594.9556        35.0          8.9  86.000000   \n",
       "58 2013-03-17 00:59:00     586.2000        35.0          8.9  86.000000   \n",
       "59 2013-03-17 01:00:00     586.9000        35.0          8.9  86.000000   \n",
       "60 2013-03-17 01:01:00     616.5000        34.6          8.9  86.033333   \n",
       "61 2013-03-17 01:02:00     541.0667        34.2          8.9  86.066667   \n",
       "62 2013-03-17 01:03:00     541.2000        33.8          8.9  86.100000   \n",
       "63 2013-03-17 01:04:00     540.5000        33.4          8.9  86.133333   \n",
       "64 2013-03-17 01:05:00     540.8000        33.0          8.9  86.166667   \n",
       "65 2013-03-17 01:06:00     540.5000        32.6          8.9  86.200000   \n",
       "66 2013-03-17 01:07:00     543.6000        32.2          8.9  86.233333   \n",
       "67 2013-03-17 01:08:00     548.5000        31.8          8.9  86.266667   \n",
       "68 2013-03-17 01:09:00     542.8000        31.4          8.9  86.300000   \n",
       "69 2013-03-17 01:10:00     542.3000        31.0          8.9  86.333333   \n",
       "70 2013-03-17 01:11:00     542.7000        30.6          8.9  86.366667   \n",
       "71 2013-03-17 01:12:00     542.7000        30.2          8.9  86.400000   \n",
       "72 2013-03-17 01:13:00     543.7000        29.8          8.9  86.433333   \n",
       "73 2013-03-17 01:14:00     542.2000        29.4          8.9  86.466667   \n",
       "74 2013-03-17 01:15:00     539.5000        29.0          8.9  86.500000   \n",
       "75 2013-03-17 01:16:00     540.2000        28.6          8.9  86.533333   \n",
       "76 2013-03-17 01:17:00     539.3636        28.2          8.9  86.566667   \n",
       "77 2013-03-17 01:18:00     538.6111        27.8          8.9  86.600000   \n",
       "78 2013-03-17 01:19:00     527.5000        27.4          8.9  86.633333   \n",
       "79 2013-03-17 01:20:00     528.2000        27.0          8.9  86.666667   \n",
       "\n",
       "    humidex  windchill       wind     pressure  \n",
       "50      8.9   6.000000  19.000000  1017.300000  \n",
       "51      8.9   6.000000  19.000000  1017.300000  \n",
       "52      8.9   6.000000  19.000000  1017.300000  \n",
       "53      8.9   6.000000  19.000000  1017.300000  \n",
       "54      8.9   6.000000  19.000000  1017.300000  \n",
       "55      8.9   6.000000  19.000000  1017.300000  \n",
       "56      8.9   6.000000  19.000000  1017.300000  \n",
       "57      8.9   6.000000  19.000000  1017.300000  \n",
       "58      8.9   6.000000  19.000000  1017.300000  \n",
       "59      8.9   6.000000  19.000000  1017.300000  \n",
       "60      8.9   6.003333  18.966667  1017.293333  \n",
       "61      8.9   6.006667  18.933333  1017.286667  \n",
       "62      8.9   6.010000  18.900000  1017.280000  \n",
       "63      8.9   6.013333  18.866667  1017.273333  \n",
       "64      8.9   6.016667  18.833333  1017.266667  \n",
       "65      8.9   6.020000  18.800000  1017.260000  \n",
       "66      8.9   6.023333  18.766667  1017.253333  \n",
       "67      8.9   6.026667  18.733333  1017.246667  \n",
       "68      8.9   6.030000  18.700000  1017.240000  \n",
       "69      8.9   6.033333  18.666667  1017.233333  \n",
       "70      8.9   6.036667  18.633333  1017.226667  \n",
       "71      8.9   6.040000  18.600000  1017.220000  \n",
       "72      8.9   6.043333  18.566667  1017.213333  \n",
       "73      8.9   6.046667  18.533333  1017.206667  \n",
       "74      8.9   6.050000  18.500000  1017.200000  \n",
       "75      8.9   6.053333  18.466667  1017.193333  \n",
       "76      8.9   6.056667  18.433333  1017.186667  \n",
       "77      8.9   6.060000  18.400000  1017.180000  \n",
       "78      8.9   6.063333  18.366667  1017.173333  \n",
       "79      8.9   6.066667  18.333333  1017.166667  "
      ]
     },
     "execution_count": 183,
     "metadata": {},
     "output_type": "execute_result"
    }
   ],
   "source": [
    "# Imputation of missing weather data with interpolation method\n",
    "\n",
    "to_interpolate = input_train.columns[-7:] # selects weather features\n",
    "input_train[to_interpolate] = pd.Series.interpolate(input_train[to_interpolate],\n",
    "                                                    method='linear', limit=None, \n",
    "                                                    limit_direction='both')\n",
    "\n",
    "input_train[50:80]"
   ]
  },
  {
   "cell_type": "code",
   "execution_count": 184,
   "metadata": {},
   "outputs": [
    {
     "data": {
      "text/plain": [
       "time_step          0\n",
       "consumption    10231\n",
       "visibility         0\n",
       "temperature        0\n",
       "humidity           0\n",
       "humidex            0\n",
       "windchill          0\n",
       "wind               0\n",
       "pressure           0\n",
       "dtype: int64"
      ]
     },
     "execution_count": 184,
     "metadata": {},
     "output_type": "execute_result"
    }
   ],
   "source": [
    "input_train.isna().sum()"
   ]
  },
  {
   "cell_type": "code",
   "execution_count": 185,
   "metadata": {},
   "outputs": [
    {
     "data": {
      "text/html": [
       "<div>\n",
       "<style scoped>\n",
       "    .dataframe tbody tr th:only-of-type {\n",
       "        vertical-align: middle;\n",
       "    }\n",
       "\n",
       "    .dataframe tbody tr th {\n",
       "        vertical-align: top;\n",
       "    }\n",
       "\n",
       "    .dataframe thead th {\n",
       "        text-align: right;\n",
       "    }\n",
       "</style>\n",
       "<table border=\"1\" class=\"dataframe\">\n",
       "  <thead>\n",
       "    <tr style=\"text-align: right;\">\n",
       "      <th></th>\n",
       "      <th>time_step</th>\n",
       "      <th>consumption</th>\n",
       "      <th>visibility</th>\n",
       "      <th>temperature</th>\n",
       "      <th>humidity</th>\n",
       "      <th>humidex</th>\n",
       "      <th>windchill</th>\n",
       "      <th>wind</th>\n",
       "      <th>pressure</th>\n",
       "    </tr>\n",
       "  </thead>\n",
       "  <tbody>\n",
       "    <tr>\n",
       "      <th>0</th>\n",
       "      <td>2013-03-17 00:01:00</td>\n",
       "      <td>550.4000</td>\n",
       "      <td>35.0</td>\n",
       "      <td>8.9</td>\n",
       "      <td>86.0</td>\n",
       "      <td>8.9</td>\n",
       "      <td>6.0</td>\n",
       "      <td>19.0</td>\n",
       "      <td>1017.3</td>\n",
       "    </tr>\n",
       "    <tr>\n",
       "      <th>1</th>\n",
       "      <td>2013-03-17 00:02:00</td>\n",
       "      <td>548.6000</td>\n",
       "      <td>35.0</td>\n",
       "      <td>8.9</td>\n",
       "      <td>86.0</td>\n",
       "      <td>8.9</td>\n",
       "      <td>6.0</td>\n",
       "      <td>19.0</td>\n",
       "      <td>1017.3</td>\n",
       "    </tr>\n",
       "    <tr>\n",
       "      <th>2</th>\n",
       "      <td>2013-03-17 00:03:00</td>\n",
       "      <td>549.3000</td>\n",
       "      <td>35.0</td>\n",
       "      <td>8.9</td>\n",
       "      <td>86.0</td>\n",
       "      <td>8.9</td>\n",
       "      <td>6.0</td>\n",
       "      <td>19.0</td>\n",
       "      <td>1017.3</td>\n",
       "    </tr>\n",
       "    <tr>\n",
       "      <th>3</th>\n",
       "      <td>2013-03-17 00:04:00</td>\n",
       "      <td>549.3667</td>\n",
       "      <td>35.0</td>\n",
       "      <td>8.9</td>\n",
       "      <td>86.0</td>\n",
       "      <td>8.9</td>\n",
       "      <td>6.0</td>\n",
       "      <td>19.0</td>\n",
       "      <td>1017.3</td>\n",
       "    </tr>\n",
       "    <tr>\n",
       "      <th>4</th>\n",
       "      <td>2013-03-17 00:05:00</td>\n",
       "      <td>548.8909</td>\n",
       "      <td>35.0</td>\n",
       "      <td>8.9</td>\n",
       "      <td>86.0</td>\n",
       "      <td>8.9</td>\n",
       "      <td>6.0</td>\n",
       "      <td>19.0</td>\n",
       "      <td>1017.3</td>\n",
       "    </tr>\n",
       "  </tbody>\n",
       "</table>\n",
       "</div>"
      ],
      "text/plain": [
       "            time_step  consumption  visibility  temperature  humidity  \\\n",
       "0 2013-03-17 00:01:00     550.4000        35.0          8.9      86.0   \n",
       "1 2013-03-17 00:02:00     548.6000        35.0          8.9      86.0   \n",
       "2 2013-03-17 00:03:00     549.3000        35.0          8.9      86.0   \n",
       "3 2013-03-17 00:04:00     549.3667        35.0          8.9      86.0   \n",
       "4 2013-03-17 00:05:00     548.8909        35.0          8.9      86.0   \n",
       "\n",
       "   humidex  windchill  wind  pressure  \n",
       "0      8.9        6.0  19.0    1017.3  \n",
       "1      8.9        6.0  19.0    1017.3  \n",
       "2      8.9        6.0  19.0    1017.3  \n",
       "3      8.9        6.0  19.0    1017.3  \n",
       "4      8.9        6.0  19.0    1017.3  "
      ]
     },
     "execution_count": 185,
     "metadata": {},
     "output_type": "execute_result"
    }
   ],
   "source": [
    "input_train.head()"
   ]
  },
  {
   "cell_type": "code",
   "execution_count": 186,
   "metadata": {},
   "outputs": [
    {
     "data": {
      "text/plain": [
       "<matplotlib.axes._subplots.AxesSubplot at 0x1a24f32390>"
      ]
     },
     "execution_count": 186,
     "metadata": {},
     "output_type": "execute_result"
    },
    {
     "data": {
      "image/png": "[encoded data removed]",
      "text/plain": [
       "<Figure size 432x288 with 1 Axes>"
      ]
     },
     "metadata": {
      "needs_background": "light"
     },
     "output_type": "display_data"
    }
   ],
   "source": [
    "# Plot the imputed visibility feature in the first 10h\n",
    "\n",
    "input_train['visibility'][:600].plot()"
   ]
  },
  {
   "cell_type": "markdown",
   "metadata": {},
   "source": [
    "We used a linear method to fill in the missing values between each hourly measurement."
   ]
  },
  {
   "cell_type": "markdown",
   "metadata": {},
   "source": [
    "Let's now print the rows with missing `consumption` values to see if we can spot a pattern."
   ]
  },
  {
   "cell_type": "code",
   "execution_count": 187,
   "metadata": {},
   "outputs": [
    {
     "name": "stdout",
     "output_type": "stream",
     "text": [
      "                 time_step  consumption  visibility  temperature    humidity  \\\n",
      "433    2013-03-17 07:14:00          NaN   29.300000     9.523333   81.066667   \n",
      "613    2013-03-17 10:14:00          NaN   21.133333     9.176667   88.466667   \n",
      "614    2013-03-17 10:15:00          NaN   21.000000     9.175000   88.500000   \n",
      "615    2013-03-17 10:16:00          NaN   20.866667     9.173333   88.533333   \n",
      "617    2013-03-17 10:18:00          NaN   20.600000     9.170000   88.600000   \n",
      "618    2013-03-17 10:19:00          NaN   20.466667     9.168333   88.633333   \n",
      "619    2013-03-17 10:20:00          NaN   20.333333     9.166667   88.666667   \n",
      "667    2013-03-17 11:08:00          NaN   15.666667     9.193333   89.733333   \n",
      "753    2013-03-17 12:34:00          NaN   18.300000    10.083333   86.300000   \n",
      "954    2013-03-17 15:55:00          NaN   29.750000    11.108333   63.500000   \n",
      "1540   2013-03-18 01:41:00          NaN   29.316667     6.663333   83.366667   \n",
      "1541   2013-03-18 01:42:00          NaN   29.300000     6.660000   83.400000   \n",
      "1561   2013-03-18 02:02:00          NaN   28.733333     6.590000   84.166667   \n",
      "1562   2013-03-18 02:03:00          NaN   28.600000     6.585000   84.250000   \n",
      "1892   2013-03-18 07:33:00          NaN    8.900000     6.555000   94.550000   \n",
      "2237   2013-03-18 13:18:00          NaN   42.000000     9.520000   83.300000   \n",
      "2238   2013-03-18 13:19:00          NaN   41.833333     9.543333   83.150000   \n",
      "2317   2013-03-18 14:38:00          NaN   41.333333    10.373333   76.366667   \n",
      "2339   2013-03-18 15:00:00          NaN   45.000000    10.300000   76.000000   \n",
      "2365   2013-03-18 15:26:00          NaN   40.666667    10.473333   76.000000   \n",
      "2366   2013-03-18 15:27:00          NaN   40.500000    10.480000   76.000000   \n",
      "2367   2013-03-18 15:28:00          NaN   40.333333    10.486667   76.000000   \n",
      "2368   2013-03-18 15:29:00          NaN   40.166667    10.493333   76.000000   \n",
      "2369   2013-03-18 15:30:00          NaN   40.000000    10.500000   76.000000   \n",
      "2370   2013-03-18 15:31:00          NaN   39.833333    10.506667   76.000000   \n",
      "2371   2013-03-18 15:32:00          NaN   39.666667    10.513333   76.000000   \n",
      "2372   2013-03-18 15:33:00          NaN   39.500000    10.520000   76.000000   \n",
      "2373   2013-03-18 15:34:00          NaN   39.333333    10.526667   76.000000   \n",
      "2374   2013-03-18 15:35:00          NaN   39.166667    10.533333   76.000000   \n",
      "4777   2013-03-20 07:38:00          NaN    9.766667     8.356667   88.066667   \n",
      "...                    ...          ...         ...          ...         ...   \n",
      "399820 2013-12-19 15:41:00          NaN   33.416667     6.041667   67.633333   \n",
      "401158 2013-12-20 13:59:00          NaN   35.083333     6.298333   83.966667   \n",
      "404957 2013-12-23 05:18:00          NaN   11.800000     6.680000   91.600000   \n",
      "405452 2013-12-23 13:33:00          NaN   40.000000     6.565000   90.450000   \n",
      "405731 2013-12-23 18:12:00          NaN   35.000000     5.040000   92.200000   \n",
      "405732 2013-12-23 18:13:00          NaN   35.000000     5.035000   92.216667   \n",
      "405733 2013-12-23 18:14:00          NaN   35.000000     5.030000   92.233333   \n",
      "405734 2013-12-23 18:15:00          NaN   35.000000     5.025000   92.250000   \n",
      "405735 2013-12-23 18:16:00          NaN   35.000000     5.020000   92.266667   \n",
      "405736 2013-12-23 18:17:00          NaN   35.000000     5.015000   92.283333   \n",
      "405737 2013-12-23 18:18:00          NaN   35.000000     5.010000   92.300000   \n",
      "405738 2013-12-23 18:19:00          NaN   35.000000     5.005000   92.316667   \n",
      "405739 2013-12-23 18:20:00          NaN   35.000000     5.000000   92.333333   \n",
      "405740 2013-12-23 18:21:00          NaN   35.000000     4.995000   92.350000   \n",
      "405741 2013-12-23 18:22:00          NaN   35.000000     4.990000   92.366667   \n",
      "405742 2013-12-23 18:23:00          NaN   35.000000     4.985000   92.383333   \n",
      "405743 2013-12-23 18:24:00          NaN   35.000000     4.980000   92.400000   \n",
      "405744 2013-12-23 18:25:00          NaN   35.000000     4.975000   92.416667   \n",
      "405745 2013-12-23 18:26:00          NaN   35.000000     4.970000   92.433333   \n",
      "405749 2013-12-23 18:30:00          NaN   35.000000     4.950000   92.500000   \n",
      "405757 2013-12-23 18:38:00          NaN   35.000000     4.910000   92.633333   \n",
      "405764 2013-12-23 18:45:00          NaN   35.000000     4.875000   92.750000   \n",
      "405775 2013-12-23 18:56:00          NaN   35.000000     4.820000   92.933333   \n",
      "405782 2013-12-23 19:03:00          NaN   35.000000     4.775000   92.950000   \n",
      "405788 2013-12-23 19:09:00          NaN   35.000000     4.725000   92.850000   \n",
      "405868 2013-12-23 20:29:00          NaN   22.916667     4.735000   90.550000   \n",
      "414108 2013-12-29 13:49:00          NaN    0.100000    -0.900000  100.000000   \n",
      "414690 2013-12-29 23:31:00          NaN    7.933333    -0.038333  100.000000   \n",
      "415189 2013-12-30 07:50:00          NaN   14.666667     5.383333   99.166667   \n",
      "417516 2013-12-31 22:37:00          NaN   12.216667     9.906667   90.850000   \n",
      "\n",
      "          humidex  windchill       wind     pressure  \n",
      "433      9.523333   6.023333  28.000000  1015.276667  \n",
      "613      9.300000   6.506667  17.466667  1015.823333  \n",
      "614      9.300000   6.500000  17.500000  1015.825000  \n",
      "615      9.300000   6.493333  17.533333  1015.826667  \n",
      "617      9.300000   6.480000  17.600000  1015.830000  \n",
      "618      9.300000   6.473333  17.633333  1015.831667  \n",
      "619      9.300000   6.466667  17.666667  1015.833333  \n",
      "667      9.406667   6.266667  19.666667  1015.886667  \n",
      "753     10.383333   6.926667  25.133333  1015.630000  \n",
      "954     11.108333   8.050000  27.500000  1014.266667  \n",
      "1540     6.663333   4.521667  10.366667  1011.121667  \n",
      "1541     6.660000   4.510000  10.400000  1011.110000  \n",
      "1561     6.590000   4.290000  11.000000  1010.870000  \n",
      "1562     6.585000   4.285000  11.000000  1010.855000  \n",
      "1892     6.555000   2.755000  22.000000  1004.850000  \n",
      "2237     9.520000   6.360000  23.800000  1003.160000  \n",
      "2238     9.543333   6.380000  23.900000  1003.163333  \n",
      "2317    10.373333   7.390000  24.200000  1003.806667  \n",
      "2339    10.300000   7.500000  22.000000  1004.100000  \n",
      "2365    10.473333   7.326667  27.633333  1004.620000  \n",
      "2366    10.480000   7.320000  27.850000  1004.640000  \n",
      "2367    10.486667   7.313333  28.066667  1004.660000  \n",
      "2368    10.493333   7.306667  28.283333  1004.680000  \n",
      "2369    10.500000   7.300000  28.500000  1004.700000  \n",
      "2370    10.506667   7.293333  28.716667  1004.720000  \n",
      "2371    10.513333   7.286667  28.933333  1004.740000  \n",
      "2372    10.520000   7.280000  29.150000  1004.760000  \n",
      "2373    10.526667   7.273333  29.366667  1004.780000  \n",
      "2374    10.533333   7.266667  29.583333  1004.800000  \n",
      "4777     8.356667   3.583333  41.566667   992.856667  \n",
      "...           ...        ...        ...          ...  \n",
      "399820   6.041667   1.310000  30.683333  1005.141667  \n",
      "401158   6.298333   3.283333  15.116667  1020.590000  \n",
      "404957   6.680000   3.330000  18.500000  1003.670000  \n",
      "405452   6.565000   3.755000  14.100000  1004.525000  \n",
      "405731   5.040000   3.420000   7.000000  1004.360000  \n",
      "405732   5.035000   3.413333   7.000000  1004.356667  \n",
      "405733   5.030000   3.406667   7.000000  1004.353333  \n",
      "405734   5.025000   3.400000   7.000000  1004.350000  \n",
      "405735   5.020000   3.393333   7.000000  1004.346667  \n",
      "405736   5.015000   3.386667   7.000000  1004.343333  \n",
      "405737   5.010000   3.380000   7.000000  1004.340000  \n",
      "405738   5.005000   3.373333   7.000000  1004.336667  \n",
      "405739   5.000000   3.366667   7.000000  1004.333333  \n",
      "405740   4.995000   3.360000   7.000000  1004.330000  \n",
      "405741   4.990000   3.353333   7.000000  1004.326667  \n",
      "405742   4.985000   3.346667   7.000000  1004.323333  \n",
      "405743   4.980000   3.340000   7.000000  1004.320000  \n",
      "405744   4.975000   3.333333   7.000000  1004.316667  \n",
      "405745   4.970000   3.326667   7.000000  1004.313333  \n",
      "405749   4.950000   3.300000   7.000000  1004.300000  \n",
      "405757   4.910000   3.246667   7.000000  1004.273333  \n",
      "405764   4.875000   3.200000   7.000000  1004.250000  \n",
      "405775   4.820000   3.126667   7.000000  1004.213333  \n",
      "405782   4.775000   3.130000   6.850000  1004.200000  \n",
      "405788   4.725000   3.190000   6.550000  1004.200000  \n",
      "405868   4.735000   2.733333  10.283333  1004.200000  \n",
      "414108  -0.900000  -0.900000   0.366667  1038.691667  \n",
      "414690  -0.038333  -2.293333   6.516667  1036.593333  \n",
      "415189   5.383333   2.816667  11.333333  1033.250000  \n",
      "417516  10.445000   6.121667  33.000000  1016.023333  \n",
      "\n",
      "[10231 rows x 9 columns]\n"
     ]
    }
   ],
   "source": [
    "print(input_train[input_train.isna().any(axis=1)])"
   ]
  },
  {
   "cell_type": "markdown",
   "metadata": {},
   "source": [
    "There doesn't seem to be any logic in missing `consumption` values. We will juste impute them using the same linear interpolation method as for weather data."
   ]
  },
  {
   "cell_type": "code",
   "execution_count": 188,
   "metadata": {},
   "outputs": [],
   "source": [
    "# Interpolate missing consumption values\n",
    "\n",
    "pd.Series.interpolate(input_train['consumption'], method='linear',\n",
    "                      limit=None, limit_direction='both', inplace=True)"
   ]
  },
  {
   "cell_type": "code",
   "execution_count": 189,
   "metadata": {},
   "outputs": [
    {
     "data": {
      "text/plain": [
       "time_step      0\n",
       "consumption    0\n",
       "visibility     0\n",
       "temperature    0\n",
       "humidity       0\n",
       "humidex        0\n",
       "windchill      0\n",
       "wind           0\n",
       "pressure       0\n",
       "dtype: int64"
      ]
     },
     "execution_count": 189,
     "metadata": {},
     "output_type": "execute_result"
    }
   ],
   "source": [
    "input_train.isna().sum()"
   ]
  },
  {
   "cell_type": "markdown",
   "metadata": {},
   "source": [
    "We observe that the missing `consumption` values are also missing in `output_train` for the 4 appliances. We therefore use the same method to impute these missing values."
   ]
  },
  {
   "cell_type": "code",
   "execution_count": 190,
   "metadata": {},
   "outputs": [
    {
     "data": {
      "text/plain": [
       "time_step              0\n",
       "washing_machine    10231\n",
       "fridge_freezer     10231\n",
       "TV                 10231\n",
       "kettle             10231\n",
       "dtype: int64"
      ]
     },
     "execution_count": 190,
     "metadata": {},
     "output_type": "execute_result"
    }
   ],
   "source": [
    "output_train.isna().sum()"
   ]
  },
  {
   "cell_type": "code",
   "execution_count": 191,
   "metadata": {
    "scrolled": true
   },
   "outputs": [],
   "source": [
    "to_interpolate = output_train.columns[-4:]\n",
    "output_train[to_interpolate] = pd.Series.interpolate(output_train[to_interpolate],\n",
    "                                                    method='linear', limit=None, \n",
    "                                                    limit_direction='both')"
   ]
  },
  {
   "cell_type": "code",
   "execution_count": 192,
   "metadata": {},
   "outputs": [
    {
     "data": {
      "text/plain": [
       "time_step          0\n",
       "washing_machine    0\n",
       "fridge_freezer     0\n",
       "TV                 0\n",
       "kettle             0\n",
       "dtype: int64"
      ]
     },
     "execution_count": 192,
     "metadata": {},
     "output_type": "execute_result"
    }
   ],
   "source": [
    "output_train.isna().sum()"
   ]
  },
  {
   "cell_type": "markdown",
   "metadata": {},
   "source": [
    "**Remark**: we chose here to impute the missing energy consumption values, and to train our models on a full dataset. We could also have chosen to drop these 10231 missing measurements and to train our models without them."
   ]
  },
  {
   "cell_type": "markdown",
   "metadata": {},
   "source": [
    "### Feature encoding"
   ]
  },
  {
   "cell_type": "code",
   "execution_count": 193,
   "metadata": {},
   "outputs": [],
   "source": [
    "# One-hot encoding and circular time encoding\n",
    "\n",
    "input_train['weekend'] = ((pd.DatetimeIndex(input_train['time_step']).dayofweek) // 5 == 1).astype(float)\n",
    "input_train['weekday'] = input_train['time_step'].dt.weekday\n",
    "input_train = input_train.join(pd.get_dummies(input_train['weekday'], prefix='wd'))\n",
    "\n",
    "input_train['sin_time'] = np.sin(2*np.pi*input_train['time_step'].dt.hour/24)\n",
    "input_train['cos_time'] = np.cos(2*np.pi*input_train['time_step'].dt.hour/24)\n",
    "\n",
    "input_train.drop(['time_step','weekday'], axis=1, inplace=True)\n",
    "output_train.drop(['time_step'], axis=1, inplace=True)"
   ]
  },
  {
   "cell_type": "code",
   "execution_count": 194,
   "metadata": {},
   "outputs": [
    {
     "data": {
      "text/html": [
       "<div>\n",
       "<style scoped>\n",
       "    .dataframe tbody tr th:only-of-type {\n",
       "        vertical-align: middle;\n",
       "    }\n",
       "\n",
       "    .dataframe tbody tr th {\n",
       "        vertical-align: top;\n",
       "    }\n",
       "\n",
       "    .dataframe thead th {\n",
       "        text-align: right;\n",
       "    }\n",
       "</style>\n",
       "<table border=\"1\" class=\"dataframe\">\n",
       "  <thead>\n",
       "    <tr style=\"text-align: right;\">\n",
       "      <th></th>\n",
       "      <th>consumption</th>\n",
       "      <th>visibility</th>\n",
       "      <th>temperature</th>\n",
       "      <th>humidity</th>\n",
       "      <th>humidex</th>\n",
       "      <th>windchill</th>\n",
       "      <th>wind</th>\n",
       "      <th>pressure</th>\n",
       "      <th>weekend</th>\n",
       "      <th>wd_0</th>\n",
       "      <th>wd_1</th>\n",
       "      <th>wd_2</th>\n",
       "      <th>wd_3</th>\n",
       "      <th>wd_4</th>\n",
       "      <th>wd_5</th>\n",
       "      <th>wd_6</th>\n",
       "      <th>sin_time</th>\n",
       "      <th>cos_time</th>\n",
       "    </tr>\n",
       "  </thead>\n",
       "  <tbody>\n",
       "    <tr>\n",
       "      <th>0</th>\n",
       "      <td>550.4000</td>\n",
       "      <td>35.0</td>\n",
       "      <td>8.9</td>\n",
       "      <td>86.0</td>\n",
       "      <td>8.9</td>\n",
       "      <td>6.0</td>\n",
       "      <td>19.0</td>\n",
       "      <td>1017.3</td>\n",
       "      <td>1.0</td>\n",
       "      <td>0</td>\n",
       "      <td>0</td>\n",
       "      <td>0</td>\n",
       "      <td>0</td>\n",
       "      <td>0</td>\n",
       "      <td>0</td>\n",
       "      <td>1</td>\n",
       "      <td>0.0</td>\n",
       "      <td>1.0</td>\n",
       "    </tr>\n",
       "    <tr>\n",
       "      <th>1</th>\n",
       "      <td>548.6000</td>\n",
       "      <td>35.0</td>\n",
       "      <td>8.9</td>\n",
       "      <td>86.0</td>\n",
       "      <td>8.9</td>\n",
       "      <td>6.0</td>\n",
       "      <td>19.0</td>\n",
       "      <td>1017.3</td>\n",
       "      <td>1.0</td>\n",
       "      <td>0</td>\n",
       "      <td>0</td>\n",
       "      <td>0</td>\n",
       "      <td>0</td>\n",
       "      <td>0</td>\n",
       "      <td>0</td>\n",
       "      <td>1</td>\n",
       "      <td>0.0</td>\n",
       "      <td>1.0</td>\n",
       "    </tr>\n",
       "    <tr>\n",
       "      <th>2</th>\n",
       "      <td>549.3000</td>\n",
       "      <td>35.0</td>\n",
       "      <td>8.9</td>\n",
       "      <td>86.0</td>\n",
       "      <td>8.9</td>\n",
       "      <td>6.0</td>\n",
       "      <td>19.0</td>\n",
       "      <td>1017.3</td>\n",
       "      <td>1.0</td>\n",
       "      <td>0</td>\n",
       "      <td>0</td>\n",
       "      <td>0</td>\n",
       "      <td>0</td>\n",
       "      <td>0</td>\n",
       "      <td>0</td>\n",
       "      <td>1</td>\n",
       "      <td>0.0</td>\n",
       "      <td>1.0</td>\n",
       "    </tr>\n",
       "    <tr>\n",
       "      <th>3</th>\n",
       "      <td>549.3667</td>\n",
       "      <td>35.0</td>\n",
       "      <td>8.9</td>\n",
       "      <td>86.0</td>\n",
       "      <td>8.9</td>\n",
       "      <td>6.0</td>\n",
       "      <td>19.0</td>\n",
       "      <td>1017.3</td>\n",
       "      <td>1.0</td>\n",
       "      <td>0</td>\n",
       "      <td>0</td>\n",
       "      <td>0</td>\n",
       "      <td>0</td>\n",
       "      <td>0</td>\n",
       "      <td>0</td>\n",
       "      <td>1</td>\n",
       "      <td>0.0</td>\n",
       "      <td>1.0</td>\n",
       "    </tr>\n",
       "    <tr>\n",
       "      <th>4</th>\n",
       "      <td>548.8909</td>\n",
       "      <td>35.0</td>\n",
       "      <td>8.9</td>\n",
       "      <td>86.0</td>\n",
       "      <td>8.9</td>\n",
       "      <td>6.0</td>\n",
       "      <td>19.0</td>\n",
       "      <td>1017.3</td>\n",
       "      <td>1.0</td>\n",
       "      <td>0</td>\n",
       "      <td>0</td>\n",
       "      <td>0</td>\n",
       "      <td>0</td>\n",
       "      <td>0</td>\n",
       "      <td>0</td>\n",
       "      <td>1</td>\n",
       "      <td>0.0</td>\n",
       "      <td>1.0</td>\n",
       "    </tr>\n",
       "  </tbody>\n",
       "</table>\n",
       "</div>"
      ],
      "text/plain": [
       "   consumption  visibility  temperature  humidity  humidex  windchill  wind  \\\n",
       "0     550.4000        35.0          8.9      86.0      8.9        6.0  19.0   \n",
       "1     548.6000        35.0          8.9      86.0      8.9        6.0  19.0   \n",
       "2     549.3000        35.0          8.9      86.0      8.9        6.0  19.0   \n",
       "3     549.3667        35.0          8.9      86.0      8.9        6.0  19.0   \n",
       "4     548.8909        35.0          8.9      86.0      8.9        6.0  19.0   \n",
       "\n",
       "   pressure  weekend  wd_0  wd_1  wd_2  wd_3  wd_4  wd_5  wd_6  sin_time  \\\n",
       "0    1017.3      1.0     0     0     0     0     0     0     1       0.0   \n",
       "1    1017.3      1.0     0     0     0     0     0     0     1       0.0   \n",
       "2    1017.3      1.0     0     0     0     0     0     0     1       0.0   \n",
       "3    1017.3      1.0     0     0     0     0     0     0     1       0.0   \n",
       "4    1017.3      1.0     0     0     0     0     0     0     1       0.0   \n",
       "\n",
       "   cos_time  \n",
       "0       1.0  \n",
       "1       1.0  \n",
       "2       1.0  \n",
       "3       1.0  \n",
       "4       1.0  "
      ]
     },
     "execution_count": 194,
     "metadata": {},
     "output_type": "execute_result"
    }
   ],
   "source": [
    "input_train.head()"
   ]
  },
  {
   "cell_type": "code",
   "execution_count": 195,
   "metadata": {},
   "outputs": [
    {
     "data": {
      "text/html": [
       "<div>\n",
       "<style scoped>\n",
       "    .dataframe tbody tr th:only-of-type {\n",
       "        vertical-align: middle;\n",
       "    }\n",
       "\n",
       "    .dataframe tbody tr th {\n",
       "        vertical-align: top;\n",
       "    }\n",
       "\n",
       "    .dataframe thead th {\n",
       "        text-align: right;\n",
       "    }\n",
       "</style>\n",
       "<table border=\"1\" class=\"dataframe\">\n",
       "  <thead>\n",
       "    <tr style=\"text-align: right;\">\n",
       "      <th></th>\n",
       "      <th>washing_machine</th>\n",
       "      <th>fridge_freezer</th>\n",
       "      <th>TV</th>\n",
       "      <th>kettle</th>\n",
       "    </tr>\n",
       "  </thead>\n",
       "  <tbody>\n",
       "    <tr>\n",
       "      <th>0</th>\n",
       "      <td>0.0</td>\n",
       "      <td>79.2000</td>\n",
       "      <td>7.0</td>\n",
       "      <td>0.0</td>\n",
       "    </tr>\n",
       "    <tr>\n",
       "      <th>1</th>\n",
       "      <td>0.0</td>\n",
       "      <td>78.0000</td>\n",
       "      <td>7.0</td>\n",
       "      <td>0.0</td>\n",
       "    </tr>\n",
       "    <tr>\n",
       "      <th>2</th>\n",
       "      <td>0.0</td>\n",
       "      <td>76.9000</td>\n",
       "      <td>7.0</td>\n",
       "      <td>0.0</td>\n",
       "    </tr>\n",
       "    <tr>\n",
       "      <th>3</th>\n",
       "      <td>0.0</td>\n",
       "      <td>76.1111</td>\n",
       "      <td>7.0</td>\n",
       "      <td>0.0</td>\n",
       "    </tr>\n",
       "    <tr>\n",
       "      <th>4</th>\n",
       "      <td>0.0</td>\n",
       "      <td>75.2727</td>\n",
       "      <td>7.0</td>\n",
       "      <td>0.0</td>\n",
       "    </tr>\n",
       "  </tbody>\n",
       "</table>\n",
       "</div>"
      ],
      "text/plain": [
       "   washing_machine  fridge_freezer   TV  kettle\n",
       "0              0.0         79.2000  7.0     0.0\n",
       "1              0.0         78.0000  7.0     0.0\n",
       "2              0.0         76.9000  7.0     0.0\n",
       "3              0.0         76.1111  7.0     0.0\n",
       "4              0.0         75.2727  7.0     0.0"
      ]
     },
     "execution_count": 195,
     "metadata": {},
     "output_type": "execute_result"
    }
   ],
   "source": [
    "output_train.head()"
   ]
  },
  {
   "cell_type": "markdown",
   "metadata": {},
   "source": [
    "## Modeling"
   ]
  },
  {
   "cell_type": "markdown",
   "metadata": {},
   "source": [
    "We want to predict, for each minute, the power used by the washing_machine, the fridge, the TV and the kettle. This is a multi-output regression."
   ]
  },
  {
   "cell_type": "code",
   "execution_count": 196,
   "metadata": {},
   "outputs": [],
   "source": [
    "from sklearn.linear_model import LinearRegression, Lasso\n",
    "from sklearn.ensemble import RandomForestRegressor"
   ]
  },
  {
   "cell_type": "code",
   "execution_count": 197,
   "metadata": {},
   "outputs": [],
   "source": [
    "def rmse(y_true, y_pred):\n",
    "    return np.sqrt(np.mean(np.square(y_true - y_pred)))"
   ]
  },
  {
   "cell_type": "markdown",
   "metadata": {},
   "source": [
    "### Baseline model: 4 univariate linear regressions"
   ]
  },
  {
   "cell_type": "markdown",
   "metadata": {},
   "source": [
    "The benchmark is 4 univariate linear regressions (one per appliance). The inputs are consumption of the household, the day of the week (7 booleans), the weekend (1 boolean), and the circular hour of the day (sine and cosine)."
   ]
  },
  {
   "cell_type": "code",
   "execution_count": 242,
   "metadata": {},
   "outputs": [
    {
     "data": {
      "text/plain": [
       "55.79165715770449"
      ]
     },
     "execution_count": 242,
     "metadata": {},
     "output_type": "execute_result"
    }
   ],
   "source": [
    "LR1 = LinearRegression().fit(input_train, output_train[\"washing_machine\"])\n",
    "pred_LR1 = LR1.predict(input_train)\n",
    "score_LR1 = rmse(output_train[\"washing_machine\"], pred_LR1)\n",
    "score_LR1"
   ]
  },
  {
   "cell_type": "code",
   "execution_count": 243,
   "metadata": {},
   "outputs": [
    {
     "data": {
      "text/plain": [
       "52.02240353234363"
      ]
     },
     "execution_count": 243,
     "metadata": {},
     "output_type": "execute_result"
    }
   ],
   "source": [
    "LR2 = LinearRegression().fit(input_train, output_train[\"fridge_freezer\"])\n",
    "pred_LR2 = LR2.predict(input_train)\n",
    "score_LR2 = rmse(output_train[\"fridge_freezer\"], pred_LR2)\n",
    "score_LR2"
   ]
  },
  {
   "cell_type": "code",
   "execution_count": 244,
   "metadata": {},
   "outputs": [
    {
     "data": {
      "text/plain": [
       "16.763389665084404"
      ]
     },
     "execution_count": 244,
     "metadata": {},
     "output_type": "execute_result"
    }
   ],
   "source": [
    "LR3 = LinearRegression().fit(input_train, output_train[\"TV\"])\n",
    "pred_LR3 = LR3.predict(input_train)\n",
    "score_LR3 = rmse(output_train[\"TV\"], pred_LR3)\n",
    "score_LR3"
   ]
  },
  {
   "cell_type": "code",
   "execution_count": 245,
   "metadata": {
    "scrolled": true
   },
   "outputs": [
    {
     "data": {
      "text/plain": [
       "96.28425496283775"
      ]
     },
     "execution_count": 245,
     "metadata": {},
     "output_type": "execute_result"
    }
   ],
   "source": [
    "LR4 = LinearRegression().fit(input_train, output_train[\"kettle\"])\n",
    "pred_LR4 = LR4.predict(input_train)\n",
    "score_LR4 = rmse(output_train[\"kettle\"], pred_LR4)\n",
    "score_LR4"
   ]
  },
  {
   "cell_type": "markdown",
   "metadata": {},
   "source": [
    "### Random forests"
   ]
  },
  {
   "cell_type": "code",
   "execution_count": 203,
   "metadata": {},
   "outputs": [],
   "source": [
    "# n_estimators=600, max_depth=110, max_features='sqrt', min_samples_split=10, min_samples_leaf=1, bootstrap=True"
   ]
  },
  {
   "cell_type": "code",
   "execution_count": 248,
   "metadata": {},
   "outputs": [
    {
     "name": "stderr",
     "output_type": "stream",
     "text": [
      "/Users/Thomas/anaconda3/lib/python3.7/site-packages/sklearn/ensemble/forest.py:245: FutureWarning: The default value of n_estimators will change from 10 in version 0.20 to 100 in 0.22.\n",
      "  \"10 in version 0.20 to 100 in 0.22.\", FutureWarning)\n"
     ]
    },
    {
     "data": {
      "text/plain": [
       "12.672497800341826"
      ]
     },
     "execution_count": 248,
     "metadata": {},
     "output_type": "execute_result"
    }
   ],
   "source": [
    "RF1 = RandomForestRegressor().fit(input_train, output_train[\"washing_machine\"])\n",
    "pred_RF1 = RF1.predict(input_train)\n",
    "score_RF1 = rmse(output_train[\"washing_machine\"], pred_RF1)\n",
    "score_RF1"
   ]
  },
  {
   "cell_type": "code",
   "execution_count": 249,
   "metadata": {},
   "outputs": [
    {
     "name": "stderr",
     "output_type": "stream",
     "text": [
      "/Users/Thomas/anaconda3/lib/python3.7/site-packages/sklearn/ensemble/forest.py:245: FutureWarning: The default value of n_estimators will change from 10 in version 0.20 to 100 in 0.22.\n",
      "  \"10 in version 0.20 to 100 in 0.22.\", FutureWarning)\n"
     ]
    },
    {
     "data": {
      "text/plain": [
       "6.843960525929614"
      ]
     },
     "execution_count": 249,
     "metadata": {},
     "output_type": "execute_result"
    }
   ],
   "source": [
    "RF2 = RandomForestRegressor().fit(input_train, output_train[\"fridge_freezer\"])\n",
    "pred_RF2 = RF2.predict(input_train)\n",
    "score_RF2 = rmse(output_train[\"fridge_freezer\"], pred_RF2)\n",
    "score_RF2"
   ]
  },
  {
   "cell_type": "code",
   "execution_count": 250,
   "metadata": {},
   "outputs": [
    {
     "name": "stderr",
     "output_type": "stream",
     "text": [
      "/Users/Thomas/anaconda3/lib/python3.7/site-packages/sklearn/ensemble/forest.py:245: FutureWarning: The default value of n_estimators will change from 10 in version 0.20 to 100 in 0.22.\n",
      "  \"10 in version 0.20 to 100 in 0.22.\", FutureWarning)\n"
     ]
    },
    {
     "data": {
      "text/plain": [
       "1.2325136733175248"
      ]
     },
     "execution_count": 250,
     "metadata": {},
     "output_type": "execute_result"
    }
   ],
   "source": [
    "RF3 = RandomForestRegressor().fit(input_train, output_train[\"TV\"])\n",
    "pred_RF3 = RF3.predict(input_train)\n",
    "score_RF3 = rmse(output_train[\"TV\"], pred_RF3)\n",
    "score_RF3"
   ]
  },
  {
   "cell_type": "code",
   "execution_count": 251,
   "metadata": {},
   "outputs": [
    {
     "name": "stderr",
     "output_type": "stream",
     "text": [
      "/Users/Thomas/anaconda3/lib/python3.7/site-packages/sklearn/ensemble/forest.py:245: FutureWarning: The default value of n_estimators will change from 10 in version 0.20 to 100 in 0.22.\n",
      "  \"10 in version 0.20 to 100 in 0.22.\", FutureWarning)\n"
     ]
    },
    {
     "data": {
      "text/plain": [
       "28.813040851663672"
      ]
     },
     "execution_count": 251,
     "metadata": {},
     "output_type": "execute_result"
    }
   ],
   "source": [
    "RF4 = RandomForestRegressor().fit(input_train, output_train[\"kettle\"])\n",
    "pred_RF4 = RF4.predict(input_train)\n",
    "score_RF4 = rmse(output_train[\"kettle\"], pred_RF4)\n",
    "score_RF4"
   ]
  },
  {
   "cell_type": "code",
   "execution_count": 252,
   "metadata": {
    "scrolled": true
   },
   "outputs": [
    {
     "data": {
      "image/png": "[encoded data removed]",
      "text/plain": [
       "<Figure size 1080x360 with 1 Axes>"
      ]
     },
     "metadata": {
      "needs_background": "light"
     },
     "output_type": "display_data"
    }
   ],
   "source": [
    "# Feature importance graph\n",
    "\n",
    "X_columns=input_train.columns\n",
    "plt.figure(figsize=(15, 5))\n",
    "\n",
    "ordering = np.argsort(RF1.feature_importances_)[::-1]\n",
    "\n",
    "importances = RF1.feature_importances_[ordering]\n",
    "feature_names = X_columns[ordering]\n",
    "\n",
    "x = np.arange(len(feature_names))\n",
    "plt.bar(x, importances)\n",
    "plt.xticks(x, feature_names, rotation=90, fontsize=15);\n",
    "#plots showing how important each column is in the prediction"
   ]
  },
  {
   "cell_type": "markdown",
   "metadata": {},
   "source": [
    "For submission:"
   ]
  },
  {
   "cell_type": "code",
   "execution_count": 255,
   "metadata": {},
   "outputs": [
    {
     "name": "stderr",
     "output_type": "stream",
     "text": [
      "/Users/Thomas/anaconda3/lib/python3.7/site-packages/pandas/core/frame.py:3940: SettingWithCopyWarning: \n",
      "A value is trying to be set on a copy of a slice from a DataFrame\n",
      "\n",
      "See the caveats in the documentation: http://pandas.pydata.org/pandas-docs/stable/indexing.html#indexing-view-versus-copy\n",
      "  errors=errors)\n"
     ]
    },
    {
     "name": "stdout",
     "output_type": "stream",
     "text": [
      "(226081, 11)\n",
      "(226081, 19)\n",
      "(226081, 4)\n",
      "                    washing_machine fridge_freezer       TV   kettle\n",
      "time_step                                                           \n",
      "2014-01-01 00:00:00         7.93526        45.2092  17.2951  4.44152\n",
      "2014-01-01 00:01:00         8.18657        45.3323   17.345  5.25117\n",
      "2014-01-01 00:02:00         8.04916        45.2412  17.3088  4.69786\n",
      "2014-01-01 00:03:00         7.97127        45.1829  17.2859  4.35327\n",
      "2014-01-01 00:04:00         7.94225        45.1514  17.2737  4.17998\n"
     ]
    }
   ],
   "source": [
    "# create functions doing all previous steps\n",
    "\n",
    "def preprocess(X):\n",
    "    X.drop([\"Unnamed: 9\"], axis=1, inplace=True)\n",
    "    to_interpolate = X.columns[-7:]\n",
    "    X[to_interpolate] = pd.Series.interpolate(X[to_interpolate], method='linear', \n",
    "                                              limit=None, limit_direction='both')\n",
    "    X.rename(columns = {X.columns[0]:'time_step'}, inplace=True)\n",
    "    X['time_step'] = pd.to_datetime(X['time_step'])\n",
    "    X['weekend'] = ((pd.DatetimeIndex(X['time_step']).dayofweek) // 5 == 1).astype(float)\n",
    "    X['weekday'] = X['time_step'].dt.weekday\n",
    "    X = X.join(pd.get_dummies(X['weekday'], prefix='wd'))\n",
    "    X['sin_time'] = np.sin(2*np.pi*X['time_step'].dt.hour/24)\n",
    "    X['cos_time'] = np.cos(2*np.pi*X['time_step'].dt.hour/24)\n",
    "    X.drop(['weekday'], axis=1, inplace=True)\n",
    "    return X\n",
    "    \n",
    "def predict(X, model_1, model_2, model_3, model_4): # outputs submission file in good format\n",
    "    X.rename(columns = {X.columns[0]:'time_step'}, inplace=True)\n",
    "    full_timesteps = pd.DataFrame(X['time_step'], columns=['time_step'])\n",
    "    X = X.dropna() # need to remove all NaN to predict\n",
    "    partial_timesteps = X['time_step']\n",
    "    X.drop(['time_step'], axis=1, inplace=True)\n",
    "    pred_1 = model_1.predict(X)\n",
    "    pred_2 = model_2.predict(X)\n",
    "    pred_3 = model_3.predict(X)\n",
    "    pred_4 = model_4.predict(X)\n",
    "    pred = pd.DataFrame(np.transpose([partial_timesteps, pred_1, pred_2, pred_3, pred_4]),\n",
    "                   columns=['time_step', 'washing_machine', 'fridge_freezer', 'TV', 'kettle'])\n",
    "    pred.set_index(pred['time_step'], inplace=True)\n",
    "    full_timesteps.set_index(full_timesteps['time_step'], inplace=True)\n",
    "    pred = pred.merge(full_timesteps, left_index=True, right_index=True, how='outer')\n",
    "    pred.drop(['time_step_x', 'time_step_y'], axis=1, inplace=True)\n",
    "    return pred\n",
    "\n",
    "# apply these functions to y_test.csv\n",
    "input_test = pd.read_csv('X_test.csv')\n",
    "X_test = preprocess(input_test)\n",
    "Y_test_RF = predict(X_test, LR1, LR2, LR3, LR4)\n",
    "\n",
    "# checks\n",
    "print(input_test.shape)\n",
    "print(X_test.shape)\n",
    "print(Y_test_RF.shape)\n",
    "print(Y_test_RF.head())\n",
    "\n",
    "# write to csv for upload on website\n",
    "Y_test_RF.to_csv('Y_test_RF.csv', index=True)"
   ]
  },
  {
   "cell_type": "code",
   "execution_count": 258,
   "metadata": {},
   "outputs": [
    {
     "data": {
      "text/html": [
       "<div>\n",
       "<style scoped>\n",
       "    .dataframe tbody tr th:only-of-type {\n",
       "        vertical-align: middle;\n",
       "    }\n",
       "\n",
       "    .dataframe tbody tr th {\n",
       "        vertical-align: top;\n",
       "    }\n",
       "\n",
       "    .dataframe thead th {\n",
       "        text-align: right;\n",
       "    }\n",
       "</style>\n",
       "<table border=\"1\" class=\"dataframe\">\n",
       "  <thead>\n",
       "    <tr style=\"text-align: right;\">\n",
       "      <th></th>\n",
       "      <th>time_step</th>\n",
       "      <th>washing_machine</th>\n",
       "      <th>fridge_freezer</th>\n",
       "      <th>TV</th>\n",
       "      <th>kettle</th>\n",
       "    </tr>\n",
       "  </thead>\n",
       "  <tbody>\n",
       "    <tr>\n",
       "      <th>0</th>\n",
       "      <td>2014-01-01 00:00:00</td>\n",
       "      <td>7.935256</td>\n",
       "      <td>45.209240</td>\n",
       "      <td>17.295093</td>\n",
       "      <td>4.441524</td>\n",
       "    </tr>\n",
       "    <tr>\n",
       "      <th>1</th>\n",
       "      <td>2014-01-01 00:01:00</td>\n",
       "      <td>8.186573</td>\n",
       "      <td>45.332335</td>\n",
       "      <td>17.344981</td>\n",
       "      <td>5.251174</td>\n",
       "    </tr>\n",
       "    <tr>\n",
       "      <th>2</th>\n",
       "      <td>2014-01-01 00:02:00</td>\n",
       "      <td>8.049159</td>\n",
       "      <td>45.241190</td>\n",
       "      <td>17.308843</td>\n",
       "      <td>4.697859</td>\n",
       "    </tr>\n",
       "    <tr>\n",
       "      <th>3</th>\n",
       "      <td>2014-01-01 00:03:00</td>\n",
       "      <td>7.971275</td>\n",
       "      <td>45.182853</td>\n",
       "      <td>17.285879</td>\n",
       "      <td>4.353265</td>\n",
       "    </tr>\n",
       "    <tr>\n",
       "      <th>4</th>\n",
       "      <td>2014-01-01 00:04:00</td>\n",
       "      <td>7.942249</td>\n",
       "      <td>45.151444</td>\n",
       "      <td>17.273727</td>\n",
       "      <td>4.179980</td>\n",
       "    </tr>\n",
       "  </tbody>\n",
       "</table>\n",
       "</div>"
      ],
      "text/plain": [
       "             time_step  washing_machine  fridge_freezer         TV    kettle\n",
       "0  2014-01-01 00:00:00         7.935256       45.209240  17.295093  4.441524\n",
       "1  2014-01-01 00:01:00         8.186573       45.332335  17.344981  5.251174\n",
       "2  2014-01-01 00:02:00         8.049159       45.241190  17.308843  4.697859\n",
       "3  2014-01-01 00:03:00         7.971275       45.182853  17.285879  4.353265\n",
       "4  2014-01-01 00:04:00         7.942249       45.151444  17.273727  4.179980"
      ]
     },
     "execution_count": 258,
     "metadata": {},
     "output_type": "execute_result"
    }
   ],
   "source": [
    "Y_test_RF.to_csv('Y_test_RF.csv', index=True)\n",
    "a = pd.read_csv('Y_test_RF.csv')\n",
    "a.head()"
   ]
  },
  {
   "cell_type": "markdown",
   "metadata": {},
   "source": [
    "Both the linear models and the random forests do not efficiently take into account the time nature of data. We need to find other models."
   ]
  },
  {
   "cell_type": "markdown",
   "metadata": {},
   "source": [
    "### Our final model: xxx"
   ]
  },
  {
   "cell_type": "code",
   "execution_count": null,
   "metadata": {},
   "outputs": [],
   "source": [
    "#model = MultiOutputRegressor(estimator=)\n",
    "#model.fit(input_train, output_train)"
   ]
  },
  {
   "cell_type": "markdown",
   "metadata": {},
   "source": [
    "## Test metric"
   ]
  },
  {
   "cell_type": "markdown",
   "metadata": {},
   "source": [
    "The metric we will use is (Wh) :\n",
    "$$\n",
    "\\mathcal{L}(\\widehat{y}, y) = \\frac{1}{\\sum_{j \\: in \\: appliances} \\alpha_j} \\sum_{j \\: in \\: appliances} \\alpha_j \\sqrt{\\frac{\\sum_{i=1}^{N} (\\widehat{y}_{i}^{(j)}-y_{i}^{(j)})^2)}{N}}\n",
    "$$\n",
    "\n",
    "Where\n",
    "* N = 201362 : number of data known in test set\n",
    "* appliances = \\{washing_machine, fridge_freezer, TV, kettle\\}\n",
    "* $\\alpha_j = E(y_{i}^{(j)})$ : mean of power of the appliance j on training set\n",
    "     * $\\alpha_{washing\\_machine} = 5.55$\n",
    "     * $\\alpha_{fridge_freezer} = 49.79$\n",
    "     * $\\alpha_{TV} = 14.57$\n",
    "     * $\\alpha_{kettle} = 4.95$"
   ]
  },
  {
   "cell_type": "code",
   "execution_count": null,
   "metadata": {},
   "outputs": [],
   "source": [
    "import pandas as pd\n",
    "import datetime as dt\n",
    "import math as mt\n",
    "\n",
    "def metric_nilm(dataframe_y_true, dataframe_y_pred):\n",
    "    score = 0.0\n",
    "    test = dataframe_y_true[~dataframe_y_true['washing_machine'].isna()]['washing_machine']\n",
    "    pred = dataframe_y_pred[~dataframe_y_true['washing_machine'].isna()]['washing_machine']\n",
    "    score += mt.sqrt(sum((pred - test)**2)/len(test))*5.55\n",
    "    test = dataframe_y_true[~dataframe_y_true['fridge_freezer'].isna()]['fridge_freezer']\n",
    "    pred = dataframe_y_pred[~dataframe_y_true['fridge_freezer'].isna()]['fridge_freezer']\n",
    "    score += mt.sqrt(sum((pred - test)**2)/len(test))*49.79\n",
    "    test = dataframe_y_true[~dataframe_y_true['TV'].isna()]['TV']\n",
    "    pred = dataframe_y_pred[~dataframe_y_true['TV'].isna()]['TV']\n",
    "    score += mt.sqrt(sum((pred - test)**2)/len(test))*14.57\n",
    "    test = dataframe_y_true[~dataframe_y_true['kettle'].isna()]['kettle']\n",
    "    pred = dataframe_y_pred[~dataframe_y_true['kettle'].isna()]['kettle']\n",
    "    score += mt.sqrt(sum((pred - test)**2)/len(test))*4.95\n",
    "    score /= 74.86\n",
    "    return score\n",
    "\n",
    "if __name__ == '__main__':\n",
    "    import pandas as pd\n",
    "    CSV_FILE_Y_TRUE = 'y_test.csv'\n",
    "    CSV_FILE_Y_PRED = 'y_pred.csv'\n",
    "    df_y_true = pd.read_csv(CSV_FILE_Y_TRUE, index_col=0, sep=',')\n",
    "    df_y_pred = pd.read_csv(CSV_FILE_Y_PRED, index_col=0, sep=',')\n",
    "    if df_y_true.shape[0] == df_y_pred.shape[0] :\n",
    "        df_y_true = df_y_true.sort_values(by=['time_step'])\n",
    "        df_y_pred = df_y_pred.sort_values(by=['time_step'])\n",
    "        if (df_y_true.index[0]== df_y_pred.index[0]) & (df_y_true.index[df_y_true.shape[0]-1]== df_y_pred.index[df_y_pred.shape[0]-1]) :\n",
    "            df_y_true['washing_machine'] = pd.to_numeric(df_y_true['washing_machine'], errors = 'nan')\n",
    "            df_y_true['fridge_freezer'] = pd.to_numeric(df_y_true['fridge_freezer'], errors = 'nan')\n",
    "            df_y_true['TV'] = pd.to_numeric(df_y_true['TV'], errors = 'nan')\n",
    "            df_y_true['kettle'] = pd.to_numeric(df_y_true['kettle'], errors = 'nan')\n",
    "            df_y_pred['washing_machine'] = pd.to_numeric(df_y_pred['washing_machine'], errors = 'nan')\n",
    "            df_y_pred['fridge_freezer'] = pd.to_numeric(df_y_pred['fridge_freezer'], errors = 'nan')\n",
    "            df_y_pred['TV'] = pd.to_numeric(df_y_pred['TV'], errors = 'nan')\n",
    "            df_y_pred['kettle'] = pd.to_numeric(df_y_pred['kettle'], errors = 'nan')\n",
    "            print(metric_nilm(df_y_true, df_y_pred))\n",
    "        else :\n",
    "            print('nan')\n",
    "    else :\n",
    "            print('nan')"
   ]
  }
 ],
 "metadata": {
  "kernelspec": {
   "display_name": "Python 3",
   "language": "python",
   "name": "python3"
  },
  "language_info": {
   "codemirror_mode": {
    "name": "ipython",
    "version": 3
   },
   "file_extension": ".py",
   "mimetype": "text/x-python",
   "name": "python",
   "nbconvert_exporter": "python",
   "pygments_lexer": "ipython3",
   "version": "3.7.3"
  },
  "toc": {
   "base_numbering": 1,
   "nav_menu": {},
   "number_sections": true,
   "sideBar": true,
   "skip_h1_title": false,
   "title_cell": "Table of Contents",
   "title_sidebar": "Contents",
   "toc_cell": false,
   "toc_position": {},
   "toc_section_display": true,
   "toc_window_display": true
  },
  "varInspector": {
   "cols": {
    "lenName": 16,
    "lenType": 16,
    "lenVar": 40
   },
   "kernels_config": {
    "python": {
     "delete_cmd_postfix": "",
     "delete_cmd_prefix": "del ",
     "library": "var_list.py",
     "varRefreshCmd": "print(var_dic_list())"
    },
    "r": {
     "delete_cmd_postfix": ") ",
     "delete_cmd_prefix": "rm(",
     "library": "var_list.r",
     "varRefreshCmd": "cat(var_dic_list()) "
    }
   },
   "types_to_exclude": [
    "module",
    "function",
    "builtin_function_or_method",
    "instance",
    "_Feature"
   ],
   "window_display": false
  }
 },
 "nbformat": 4,
 "nbformat_minor": 2
}
