{
 "cells": [
  {
   "cell_type": "markdown",
   "metadata": {},
   "source": [
    "# Machine Learning II Data Challenge  \n",
    "Time series analysis to predict house electricity consumption.\n",
    "\n",
    "- Thomas de Mareuil\n",
    "- Constantin Vodé\n",
    "- Tommy Tran"
   ]
  },
  {
   "cell_type": "markdown",
   "metadata": {},
   "source": [
    "## Introduction\n",
    "### Challenge context\n",
    "\n",
    "BCM Energy is a start-up based in Lyon and created in 2015. BCM operates on the whole value chain of renewable electricity, from production assets management on electricity markets (Epexspot, EEX) to electricity supply to final consumers through the brand Planète OUI:\n",
    "\n",
    "BCM Energy is active continuously on the electricity markets,\n",
    "BCM Energy is responsible of its own balancing perimeter,\n",
    "BCM Energy also manages capacity certificates within its own certification perimeter and guarantees of origin in its register.\n",
    "The diverse priority areas of growth are supported by a trading team with more than fifteen years of experience of the various electricity markets, developing state-of-the-art financial analysis modeling. Planète OUI, created in 2007, is one of the first French green electricity supplier. The company supplies tens of thousands of homes and professionals and covers more than 95 % of metropolitan France (Enedis network). Planète OUI promotes an ecology constructive and made available for all. It has integrated BCM Energy’s perimeter in 2017. The supplier has to offer green electricity supply with prices adapted to the consumption profiles of its clients. Indeed, the information of disaggregation consumption could help reduce electricity consumption and so reduce the electricity bill with customized advice or control of appliances of our clients (with their agreement)."
   ]
  },
  {
   "cell_type": "markdown",
   "metadata": {},
   "source": [
    "### Challenge goals\n",
    "The goal is to train an algorithm to replace many monitoring systems which are too intrusive and too expensive. This challenge is known as NILM (Nonintrusive load monitoring) or NIALM (Nonintrusive appliance load monitoring). The aim of the challenge is to find the part of electric consumption in one household dedicated to 4 appliances (washing machine, fridge_freezer, TV, kettle). There are no time constraints. The past and the future are known."
   ]
  },
  {
   "cell_type": "markdown",
   "metadata": {},
   "source": [
    "### Data description\n",
    "The first line of the input contains the header, the columns are separated by ',', and decimals by decimal point. The columns are:\n",
    "\n",
    "- the “time_step”: date measured each minute (format yyyy-MM-ddTHH :mm :ss.Z)\n",
    "- the “consumption”: household consumption (W) measured each minute\n",
    "- the “visibility”: distance at which it is possible to clearly distinguish an object (km) measured once per hour\n",
    "- the “temperature”: temperature (°C) measured once per hour\n",
    "- the “humidity”: presence of water in the air (%) measured once per hour\n",
    "- the “humidex”: index used to integrate the combined effects of heat and humidity measured once per hour\n",
    "- the “windchill”: an index that expresses the subjective feeling of cold or heat as a function of measured temperature, wind and humidity (°C) measured once per hour\n",
    "- the “wind”: wind speed (km/h) measured once per hour\n",
    "- the “pressure”: applied perpendicular to the surface of an object per unit area (Pa) measured once per hour\n",
    "\n",
    "\n",
    "The first line of the output contains the header, the columns are separated by ',', and decimals by decimal point. The columns are:\n",
    "\n",
    "- the “time_step”: date measured each minute (format yyyy-MM-ddTHH :mm :ss.Z)\n",
    "- the “washing_machine”: washing machine power (W) measured each minute\n",
    "- the “fridge_freezer”: fridge freezer power (W) measured each minute\n",
    "- the “TV”: TV power (W) measured each minute\n",
    "- the “kettle”: kettle power (W) measured each minute\n",
    "\n",
    "- The train set contains 417 599 values with 10 231 missing values (2,44%) for “consumption”, “washing_machine”, “fridge_freezer”, “TV”, “kettle” and the test set contains 226 081 values with 24 719 missing values (10,93%)."
   ]
  },
  {
   "cell_type": "markdown",
   "metadata": {},
   "source": [
    "## Data exploration"
   ]
  },
  {
   "cell_type": "code",
   "execution_count": 74,
   "metadata": {},
   "outputs": [],
   "source": [
    "import pandas as pd\n",
    "import numpy as np\n",
    "import matplotlib.pyplot as plt\n",
    "%matplotlib inline\n",
    "from sklearn.multioutput import MultiOutputRegressor\n",
    "# https://scikit-learn.org/stable/auto_examples/tree/plot_tree_regression_multioutput.html"
   ]
  },
  {
   "cell_type": "code",
   "execution_count": 75,
   "metadata": {},
   "outputs": [],
   "source": [
    "input_train = pd.read_csv('X_train.csv')\n",
    "input_train = input_train.drop('Unnamed: 9', axis=1)\n",
    "output_train = pd.read_csv('y_train.csv')"
   ]
  },
  {
   "cell_type": "code",
   "execution_count": 76,
   "metadata": {
    "scrolled": false
   },
   "outputs": [
    {
     "data": {
      "text/html": [
       "<div>\n",
       "<style scoped>\n",
       "    .dataframe tbody tr th:only-of-type {\n",
       "        vertical-align: middle;\n",
       "    }\n",
       "\n",
       "    .dataframe tbody tr th {\n",
       "        vertical-align: top;\n",
       "    }\n",
       "\n",
       "    .dataframe thead th {\n",
       "        text-align: right;\n",
       "    }\n",
       "</style>\n",
       "<table border=\"1\" class=\"dataframe\">\n",
       "  <thead>\n",
       "    <tr style=\"text-align: right;\">\n",
       "      <th></th>\n",
       "      <th>time_step</th>\n",
       "      <th>consumption</th>\n",
       "      <th>visibility</th>\n",
       "      <th>temperature</th>\n",
       "      <th>humidity</th>\n",
       "      <th>humidex</th>\n",
       "      <th>windchill</th>\n",
       "      <th>wind</th>\n",
       "      <th>pressure</th>\n",
       "    </tr>\n",
       "  </thead>\n",
       "  <tbody>\n",
       "    <tr>\n",
       "      <th>0</th>\n",
       "      <td>2013-03-17T00:01:00.0</td>\n",
       "      <td>550.4000</td>\n",
       "      <td>NaN</td>\n",
       "      <td>NaN</td>\n",
       "      <td>NaN</td>\n",
       "      <td>NaN</td>\n",
       "      <td>NaN</td>\n",
       "      <td>NaN</td>\n",
       "      <td>NaN</td>\n",
       "    </tr>\n",
       "    <tr>\n",
       "      <th>1</th>\n",
       "      <td>2013-03-17T00:02:00.0</td>\n",
       "      <td>548.6000</td>\n",
       "      <td>NaN</td>\n",
       "      <td>NaN</td>\n",
       "      <td>NaN</td>\n",
       "      <td>NaN</td>\n",
       "      <td>NaN</td>\n",
       "      <td>NaN</td>\n",
       "      <td>NaN</td>\n",
       "    </tr>\n",
       "    <tr>\n",
       "      <th>2</th>\n",
       "      <td>2013-03-17T00:03:00.0</td>\n",
       "      <td>549.3000</td>\n",
       "      <td>NaN</td>\n",
       "      <td>NaN</td>\n",
       "      <td>NaN</td>\n",
       "      <td>NaN</td>\n",
       "      <td>NaN</td>\n",
       "      <td>NaN</td>\n",
       "      <td>NaN</td>\n",
       "    </tr>\n",
       "    <tr>\n",
       "      <th>3</th>\n",
       "      <td>2013-03-17T00:04:00.0</td>\n",
       "      <td>549.3667</td>\n",
       "      <td>NaN</td>\n",
       "      <td>NaN</td>\n",
       "      <td>NaN</td>\n",
       "      <td>NaN</td>\n",
       "      <td>NaN</td>\n",
       "      <td>NaN</td>\n",
       "      <td>NaN</td>\n",
       "    </tr>\n",
       "    <tr>\n",
       "      <th>4</th>\n",
       "      <td>2013-03-17T00:05:00.0</td>\n",
       "      <td>548.8909</td>\n",
       "      <td>NaN</td>\n",
       "      <td>NaN</td>\n",
       "      <td>NaN</td>\n",
       "      <td>NaN</td>\n",
       "      <td>NaN</td>\n",
       "      <td>NaN</td>\n",
       "      <td>NaN</td>\n",
       "    </tr>\n",
       "  </tbody>\n",
       "</table>\n",
       "</div>"
      ],
      "text/plain": [
       "               time_step  consumption  visibility  temperature  humidity  \\\n",
       "0  2013-03-17T00:01:00.0     550.4000         NaN          NaN       NaN   \n",
       "1  2013-03-17T00:02:00.0     548.6000         NaN          NaN       NaN   \n",
       "2  2013-03-17T00:03:00.0     549.3000         NaN          NaN       NaN   \n",
       "3  2013-03-17T00:04:00.0     549.3667         NaN          NaN       NaN   \n",
       "4  2013-03-17T00:05:00.0     548.8909         NaN          NaN       NaN   \n",
       "\n",
       "   humidex  windchill  wind  pressure  \n",
       "0      NaN        NaN   NaN       NaN  \n",
       "1      NaN        NaN   NaN       NaN  \n",
       "2      NaN        NaN   NaN       NaN  \n",
       "3      NaN        NaN   NaN       NaN  \n",
       "4      NaN        NaN   NaN       NaN  "
      ]
     },
     "execution_count": 76,
     "metadata": {},
     "output_type": "execute_result"
    }
   ],
   "source": [
    "input_train.head()"
   ]
  },
  {
   "cell_type": "code",
   "execution_count": 77,
   "metadata": {},
   "outputs": [
    {
     "data": {
      "text/html": [
       "<div>\n",
       "<style scoped>\n",
       "    .dataframe tbody tr th:only-of-type {\n",
       "        vertical-align: middle;\n",
       "    }\n",
       "\n",
       "    .dataframe tbody tr th {\n",
       "        vertical-align: top;\n",
       "    }\n",
       "\n",
       "    .dataframe thead th {\n",
       "        text-align: right;\n",
       "    }\n",
       "</style>\n",
       "<table border=\"1\" class=\"dataframe\">\n",
       "  <thead>\n",
       "    <tr style=\"text-align: right;\">\n",
       "      <th></th>\n",
       "      <th>time_step</th>\n",
       "      <th>washing_machine</th>\n",
       "      <th>fridge_freezer</th>\n",
       "      <th>TV</th>\n",
       "      <th>kettle</th>\n",
       "    </tr>\n",
       "  </thead>\n",
       "  <tbody>\n",
       "    <tr>\n",
       "      <th>0</th>\n",
       "      <td>2013-03-17T00:01:00.0</td>\n",
       "      <td>0.0</td>\n",
       "      <td>79.2000</td>\n",
       "      <td>7.0</td>\n",
       "      <td>0.0</td>\n",
       "    </tr>\n",
       "    <tr>\n",
       "      <th>1</th>\n",
       "      <td>2013-03-17T00:02:00.0</td>\n",
       "      <td>0.0</td>\n",
       "      <td>78.0000</td>\n",
       "      <td>7.0</td>\n",
       "      <td>0.0</td>\n",
       "    </tr>\n",
       "    <tr>\n",
       "      <th>2</th>\n",
       "      <td>2013-03-17T00:03:00.0</td>\n",
       "      <td>0.0</td>\n",
       "      <td>76.9000</td>\n",
       "      <td>7.0</td>\n",
       "      <td>0.0</td>\n",
       "    </tr>\n",
       "    <tr>\n",
       "      <th>3</th>\n",
       "      <td>2013-03-17T00:04:00.0</td>\n",
       "      <td>0.0</td>\n",
       "      <td>76.1111</td>\n",
       "      <td>7.0</td>\n",
       "      <td>0.0</td>\n",
       "    </tr>\n",
       "    <tr>\n",
       "      <th>4</th>\n",
       "      <td>2013-03-17T00:05:00.0</td>\n",
       "      <td>0.0</td>\n",
       "      <td>75.2727</td>\n",
       "      <td>7.0</td>\n",
       "      <td>0.0</td>\n",
       "    </tr>\n",
       "  </tbody>\n",
       "</table>\n",
       "</div>"
      ],
      "text/plain": [
       "               time_step  washing_machine  fridge_freezer   TV  kettle\n",
       "0  2013-03-17T00:01:00.0              0.0         79.2000  7.0     0.0\n",
       "1  2013-03-17T00:02:00.0              0.0         78.0000  7.0     0.0\n",
       "2  2013-03-17T00:03:00.0              0.0         76.9000  7.0     0.0\n",
       "3  2013-03-17T00:04:00.0              0.0         76.1111  7.0     0.0\n",
       "4  2013-03-17T00:05:00.0              0.0         75.2727  7.0     0.0"
      ]
     },
     "execution_count": 77,
     "metadata": {},
     "output_type": "execute_result"
    }
   ],
   "source": [
    "output_train.head()"
   ]
  },
  {
   "cell_type": "markdown",
   "metadata": {},
   "source": [
    "### Missing values"
   ]
  },
  {
   "cell_type": "code",
   "execution_count": 78,
   "metadata": {},
   "outputs": [
    {
     "name": "stdout",
     "output_type": "stream",
     "text": [
      "time_step      0.000000\n",
      "consumption    0.024500\n",
      "visibility     0.983391\n",
      "temperature    0.983364\n",
      "humidity       0.983391\n",
      "humidex        0.983391\n",
      "windchill      0.983410\n",
      "wind           0.983391\n",
      "pressure       0.983400\n",
      "dtype: float64\n"
     ]
    },
    {
     "data": {
      "image/png": "[encoded data removed]",
      "text/plain": [
       "<Figure size 1080x288 with 1 Axes>"
      ]
     },
     "metadata": {
      "needs_background": "light"
     },
     "output_type": "display_data"
    }
   ],
   "source": [
    "# Show % of missing values in the input_train dataset\n",
    "\n",
    "missing = input_train.isna().sum()\n",
    "missing = missing/len(input_train)\n",
    "print(missing)\n",
    "\n",
    "\n",
    "ax = missing.plot(kind='bar',figsize=(15,4),width = 0.8,edgecolor=None)\n",
    "plt.title(\"% of missing values in the input_train dataset\",fontsize= 16)\n",
    "\n",
    "for p in ax.patches:\n",
    "    width, height = p.get_width(), p.get_height()\n",
    "    x, y = p.get_xy() \n",
    "    ax.annotate('{:.0%}'.format(height), (p.get_x()+.5*width, p.get_y()+.5*height), ha = 'center')"
   ]
  },
  {
   "cell_type": "code",
   "execution_count": 79,
   "metadata": {
    "scrolled": true
   },
   "outputs": [
    {
     "data": {
      "text/plain": [
       "<matplotlib.axes._subplots.AxesSubplot at 0x1a2bf6c128>"
      ]
     },
     "execution_count": 79,
     "metadata": {},
     "output_type": "execute_result"
    },
    {
     "data": {
      "image/png": "[encoded data removed]",
      "text/plain": [
       "<Figure size 1800x720 with 2 Axes>"
      ]
     },
     "metadata": {
      "needs_background": "light"
     },
     "output_type": "display_data"
    }
   ],
   "source": [
    "# Visualize missing values repartition in the first 10h of the dataset\n",
    "\n",
    "import missingno as msno\n",
    "msno.matrix(input_train[:600])"
   ]
  },
  {
   "cell_type": "markdown",
   "metadata": {},
   "source": [
    "We can see that all meteorological features are measured once per hour (i.e. 10 values/lines are visible on the graph above, for the 10 first hours of the dataset), which explains the high proportion of missing values.\n",
    "\n",
    "To impute these missing values in-between the measurements, we will use the [backward interpolation] method. (why?)"
   ]
  },
  {
   "cell_type": "code",
   "execution_count": 90,
   "metadata": {},
   "outputs": [
    {
     "data": {
      "text/html": [
       "<div>\n",
       "<style scoped>\n",
       "    .dataframe tbody tr th:only-of-type {\n",
       "        vertical-align: middle;\n",
       "    }\n",
       "\n",
       "    .dataframe tbody tr th {\n",
       "        vertical-align: top;\n",
       "    }\n",
       "\n",
       "    .dataframe thead th {\n",
       "        text-align: right;\n",
       "    }\n",
       "</style>\n",
       "<table border=\"1\" class=\"dataframe\">\n",
       "  <thead>\n",
       "    <tr style=\"text-align: right;\">\n",
       "      <th></th>\n",
       "      <th>visibility</th>\n",
       "      <th>temperature</th>\n",
       "      <th>humidity</th>\n",
       "      <th>humidex</th>\n",
       "      <th>windchill</th>\n",
       "      <th>wind</th>\n",
       "      <th>pressure</th>\n",
       "    </tr>\n",
       "  </thead>\n",
       "  <tbody>\n",
       "    <tr>\n",
       "      <th>50</th>\n",
       "      <td>35.0</td>\n",
       "      <td>8.9</td>\n",
       "      <td>86.000000</td>\n",
       "      <td>8.9</td>\n",
       "      <td>6.000000</td>\n",
       "      <td>19.000000</td>\n",
       "      <td>1017.300000</td>\n",
       "    </tr>\n",
       "    <tr>\n",
       "      <th>51</th>\n",
       "      <td>35.0</td>\n",
       "      <td>8.9</td>\n",
       "      <td>86.000000</td>\n",
       "      <td>8.9</td>\n",
       "      <td>6.000000</td>\n",
       "      <td>19.000000</td>\n",
       "      <td>1017.300000</td>\n",
       "    </tr>\n",
       "    <tr>\n",
       "      <th>52</th>\n",
       "      <td>35.0</td>\n",
       "      <td>8.9</td>\n",
       "      <td>86.000000</td>\n",
       "      <td>8.9</td>\n",
       "      <td>6.000000</td>\n",
       "      <td>19.000000</td>\n",
       "      <td>1017.300000</td>\n",
       "    </tr>\n",
       "    <tr>\n",
       "      <th>53</th>\n",
       "      <td>35.0</td>\n",
       "      <td>8.9</td>\n",
       "      <td>86.000000</td>\n",
       "      <td>8.9</td>\n",
       "      <td>6.000000</td>\n",
       "      <td>19.000000</td>\n",
       "      <td>1017.300000</td>\n",
       "    </tr>\n",
       "    <tr>\n",
       "      <th>54</th>\n",
       "      <td>35.0</td>\n",
       "      <td>8.9</td>\n",
       "      <td>86.000000</td>\n",
       "      <td>8.9</td>\n",
       "      <td>6.000000</td>\n",
       "      <td>19.000000</td>\n",
       "      <td>1017.300000</td>\n",
       "    </tr>\n",
       "    <tr>\n",
       "      <th>55</th>\n",
       "      <td>35.0</td>\n",
       "      <td>8.9</td>\n",
       "      <td>86.000000</td>\n",
       "      <td>8.9</td>\n",
       "      <td>6.000000</td>\n",
       "      <td>19.000000</td>\n",
       "      <td>1017.300000</td>\n",
       "    </tr>\n",
       "    <tr>\n",
       "      <th>56</th>\n",
       "      <td>35.0</td>\n",
       "      <td>8.9</td>\n",
       "      <td>86.000000</td>\n",
       "      <td>8.9</td>\n",
       "      <td>6.000000</td>\n",
       "      <td>19.000000</td>\n",
       "      <td>1017.300000</td>\n",
       "    </tr>\n",
       "    <tr>\n",
       "      <th>57</th>\n",
       "      <td>35.0</td>\n",
       "      <td>8.9</td>\n",
       "      <td>86.000000</td>\n",
       "      <td>8.9</td>\n",
       "      <td>6.000000</td>\n",
       "      <td>19.000000</td>\n",
       "      <td>1017.300000</td>\n",
       "    </tr>\n",
       "    <tr>\n",
       "      <th>58</th>\n",
       "      <td>35.0</td>\n",
       "      <td>8.9</td>\n",
       "      <td>86.000000</td>\n",
       "      <td>8.9</td>\n",
       "      <td>6.000000</td>\n",
       "      <td>19.000000</td>\n",
       "      <td>1017.300000</td>\n",
       "    </tr>\n",
       "    <tr>\n",
       "      <th>59</th>\n",
       "      <td>35.0</td>\n",
       "      <td>8.9</td>\n",
       "      <td>86.000000</td>\n",
       "      <td>8.9</td>\n",
       "      <td>6.000000</td>\n",
       "      <td>19.000000</td>\n",
       "      <td>1017.300000</td>\n",
       "    </tr>\n",
       "    <tr>\n",
       "      <th>60</th>\n",
       "      <td>34.6</td>\n",
       "      <td>8.9</td>\n",
       "      <td>86.033333</td>\n",
       "      <td>8.9</td>\n",
       "      <td>6.003333</td>\n",
       "      <td>18.966667</td>\n",
       "      <td>1017.293333</td>\n",
       "    </tr>\n",
       "    <tr>\n",
       "      <th>61</th>\n",
       "      <td>34.2</td>\n",
       "      <td>8.9</td>\n",
       "      <td>86.066667</td>\n",
       "      <td>8.9</td>\n",
       "      <td>6.006667</td>\n",
       "      <td>18.933333</td>\n",
       "      <td>1017.286667</td>\n",
       "    </tr>\n",
       "    <tr>\n",
       "      <th>62</th>\n",
       "      <td>33.8</td>\n",
       "      <td>8.9</td>\n",
       "      <td>86.100000</td>\n",
       "      <td>8.9</td>\n",
       "      <td>6.010000</td>\n",
       "      <td>18.900000</td>\n",
       "      <td>1017.280000</td>\n",
       "    </tr>\n",
       "    <tr>\n",
       "      <th>63</th>\n",
       "      <td>33.4</td>\n",
       "      <td>8.9</td>\n",
       "      <td>86.133333</td>\n",
       "      <td>8.9</td>\n",
       "      <td>6.013333</td>\n",
       "      <td>18.866667</td>\n",
       "      <td>1017.273333</td>\n",
       "    </tr>\n",
       "    <tr>\n",
       "      <th>64</th>\n",
       "      <td>33.0</td>\n",
       "      <td>8.9</td>\n",
       "      <td>86.166667</td>\n",
       "      <td>8.9</td>\n",
       "      <td>6.016667</td>\n",
       "      <td>18.833333</td>\n",
       "      <td>1017.266667</td>\n",
       "    </tr>\n",
       "    <tr>\n",
       "      <th>65</th>\n",
       "      <td>32.6</td>\n",
       "      <td>8.9</td>\n",
       "      <td>86.200000</td>\n",
       "      <td>8.9</td>\n",
       "      <td>6.020000</td>\n",
       "      <td>18.800000</td>\n",
       "      <td>1017.260000</td>\n",
       "    </tr>\n",
       "    <tr>\n",
       "      <th>66</th>\n",
       "      <td>32.2</td>\n",
       "      <td>8.9</td>\n",
       "      <td>86.233333</td>\n",
       "      <td>8.9</td>\n",
       "      <td>6.023333</td>\n",
       "      <td>18.766667</td>\n",
       "      <td>1017.253333</td>\n",
       "    </tr>\n",
       "    <tr>\n",
       "      <th>67</th>\n",
       "      <td>31.8</td>\n",
       "      <td>8.9</td>\n",
       "      <td>86.266667</td>\n",
       "      <td>8.9</td>\n",
       "      <td>6.026667</td>\n",
       "      <td>18.733333</td>\n",
       "      <td>1017.246667</td>\n",
       "    </tr>\n",
       "    <tr>\n",
       "      <th>68</th>\n",
       "      <td>31.4</td>\n",
       "      <td>8.9</td>\n",
       "      <td>86.300000</td>\n",
       "      <td>8.9</td>\n",
       "      <td>6.030000</td>\n",
       "      <td>18.700000</td>\n",
       "      <td>1017.240000</td>\n",
       "    </tr>\n",
       "    <tr>\n",
       "      <th>69</th>\n",
       "      <td>31.0</td>\n",
       "      <td>8.9</td>\n",
       "      <td>86.333333</td>\n",
       "      <td>8.9</td>\n",
       "      <td>6.033333</td>\n",
       "      <td>18.666667</td>\n",
       "      <td>1017.233333</td>\n",
       "    </tr>\n",
       "    <tr>\n",
       "      <th>70</th>\n",
       "      <td>30.6</td>\n",
       "      <td>8.9</td>\n",
       "      <td>86.366667</td>\n",
       "      <td>8.9</td>\n",
       "      <td>6.036667</td>\n",
       "      <td>18.633333</td>\n",
       "      <td>1017.226667</td>\n",
       "    </tr>\n",
       "    <tr>\n",
       "      <th>71</th>\n",
       "      <td>30.2</td>\n",
       "      <td>8.9</td>\n",
       "      <td>86.400000</td>\n",
       "      <td>8.9</td>\n",
       "      <td>6.040000</td>\n",
       "      <td>18.600000</td>\n",
       "      <td>1017.220000</td>\n",
       "    </tr>\n",
       "    <tr>\n",
       "      <th>72</th>\n",
       "      <td>29.8</td>\n",
       "      <td>8.9</td>\n",
       "      <td>86.433333</td>\n",
       "      <td>8.9</td>\n",
       "      <td>6.043333</td>\n",
       "      <td>18.566667</td>\n",
       "      <td>1017.213333</td>\n",
       "    </tr>\n",
       "    <tr>\n",
       "      <th>73</th>\n",
       "      <td>29.4</td>\n",
       "      <td>8.9</td>\n",
       "      <td>86.466667</td>\n",
       "      <td>8.9</td>\n",
       "      <td>6.046667</td>\n",
       "      <td>18.533333</td>\n",
       "      <td>1017.206667</td>\n",
       "    </tr>\n",
       "    <tr>\n",
       "      <th>74</th>\n",
       "      <td>29.0</td>\n",
       "      <td>8.9</td>\n",
       "      <td>86.500000</td>\n",
       "      <td>8.9</td>\n",
       "      <td>6.050000</td>\n",
       "      <td>18.500000</td>\n",
       "      <td>1017.200000</td>\n",
       "    </tr>\n",
       "    <tr>\n",
       "      <th>75</th>\n",
       "      <td>28.6</td>\n",
       "      <td>8.9</td>\n",
       "      <td>86.533333</td>\n",
       "      <td>8.9</td>\n",
       "      <td>6.053333</td>\n",
       "      <td>18.466667</td>\n",
       "      <td>1017.193333</td>\n",
       "    </tr>\n",
       "    <tr>\n",
       "      <th>76</th>\n",
       "      <td>28.2</td>\n",
       "      <td>8.9</td>\n",
       "      <td>86.566667</td>\n",
       "      <td>8.9</td>\n",
       "      <td>6.056667</td>\n",
       "      <td>18.433333</td>\n",
       "      <td>1017.186667</td>\n",
       "    </tr>\n",
       "    <tr>\n",
       "      <th>77</th>\n",
       "      <td>27.8</td>\n",
       "      <td>8.9</td>\n",
       "      <td>86.600000</td>\n",
       "      <td>8.9</td>\n",
       "      <td>6.060000</td>\n",
       "      <td>18.400000</td>\n",
       "      <td>1017.180000</td>\n",
       "    </tr>\n",
       "    <tr>\n",
       "      <th>78</th>\n",
       "      <td>27.4</td>\n",
       "      <td>8.9</td>\n",
       "      <td>86.633333</td>\n",
       "      <td>8.9</td>\n",
       "      <td>6.063333</td>\n",
       "      <td>18.366667</td>\n",
       "      <td>1017.173333</td>\n",
       "    </tr>\n",
       "    <tr>\n",
       "      <th>79</th>\n",
       "      <td>27.0</td>\n",
       "      <td>8.9</td>\n",
       "      <td>86.666667</td>\n",
       "      <td>8.9</td>\n",
       "      <td>6.066667</td>\n",
       "      <td>18.333333</td>\n",
       "      <td>1017.166667</td>\n",
       "    </tr>\n",
       "  </tbody>\n",
       "</table>\n",
       "</div>"
      ],
      "text/plain": [
       "    visibility  temperature   humidity  humidex  windchill       wind  \\\n",
       "50        35.0          8.9  86.000000      8.9   6.000000  19.000000   \n",
       "51        35.0          8.9  86.000000      8.9   6.000000  19.000000   \n",
       "52        35.0          8.9  86.000000      8.9   6.000000  19.000000   \n",
       "53        35.0          8.9  86.000000      8.9   6.000000  19.000000   \n",
       "54        35.0          8.9  86.000000      8.9   6.000000  19.000000   \n",
       "55        35.0          8.9  86.000000      8.9   6.000000  19.000000   \n",
       "56        35.0          8.9  86.000000      8.9   6.000000  19.000000   \n",
       "57        35.0          8.9  86.000000      8.9   6.000000  19.000000   \n",
       "58        35.0          8.9  86.000000      8.9   6.000000  19.000000   \n",
       "59        35.0          8.9  86.000000      8.9   6.000000  19.000000   \n",
       "60        34.6          8.9  86.033333      8.9   6.003333  18.966667   \n",
       "61        34.2          8.9  86.066667      8.9   6.006667  18.933333   \n",
       "62        33.8          8.9  86.100000      8.9   6.010000  18.900000   \n",
       "63        33.4          8.9  86.133333      8.9   6.013333  18.866667   \n",
       "64        33.0          8.9  86.166667      8.9   6.016667  18.833333   \n",
       "65        32.6          8.9  86.200000      8.9   6.020000  18.800000   \n",
       "66        32.2          8.9  86.233333      8.9   6.023333  18.766667   \n",
       "67        31.8          8.9  86.266667      8.9   6.026667  18.733333   \n",
       "68        31.4          8.9  86.300000      8.9   6.030000  18.700000   \n",
       "69        31.0          8.9  86.333333      8.9   6.033333  18.666667   \n",
       "70        30.6          8.9  86.366667      8.9   6.036667  18.633333   \n",
       "71        30.2          8.9  86.400000      8.9   6.040000  18.600000   \n",
       "72        29.8          8.9  86.433333      8.9   6.043333  18.566667   \n",
       "73        29.4          8.9  86.466667      8.9   6.046667  18.533333   \n",
       "74        29.0          8.9  86.500000      8.9   6.050000  18.500000   \n",
       "75        28.6          8.9  86.533333      8.9   6.053333  18.466667   \n",
       "76        28.2          8.9  86.566667      8.9   6.056667  18.433333   \n",
       "77        27.8          8.9  86.600000      8.9   6.060000  18.400000   \n",
       "78        27.4          8.9  86.633333      8.9   6.063333  18.366667   \n",
       "79        27.0          8.9  86.666667      8.9   6.066667  18.333333   \n",
       "\n",
       "       pressure  \n",
       "50  1017.300000  \n",
       "51  1017.300000  \n",
       "52  1017.300000  \n",
       "53  1017.300000  \n",
       "54  1017.300000  \n",
       "55  1017.300000  \n",
       "56  1017.300000  \n",
       "57  1017.300000  \n",
       "58  1017.300000  \n",
       "59  1017.300000  \n",
       "60  1017.293333  \n",
       "61  1017.286667  \n",
       "62  1017.280000  \n",
       "63  1017.273333  \n",
       "64  1017.266667  \n",
       "65  1017.260000  \n",
       "66  1017.253333  \n",
       "67  1017.246667  \n",
       "68  1017.240000  \n",
       "69  1017.233333  \n",
       "70  1017.226667  \n",
       "71  1017.220000  \n",
       "72  1017.213333  \n",
       "73  1017.206667  \n",
       "74  1017.200000  \n",
       "75  1017.193333  \n",
       "76  1017.186667  \n",
       "77  1017.180000  \n",
       "78  1017.173333  \n",
       "79  1017.166667  "
      ]
     },
     "execution_count": 90,
     "metadata": {},
     "output_type": "execute_result"
    }
   ],
   "source": [
    "# Imputation of missing weather data with backward interpolation method\n",
    "\n",
    "to_interpolate = input_train.columns[-7:] # selects weather features\n",
    "inter = pd.Series.interpolate(input_train[to_interpolate], limit=60, limit_direction='backward')\n",
    "\n",
    "inter[50:80]"
   ]
  },
  {
   "cell_type": "code",
   "execution_count": 93,
   "metadata": {},
   "outputs": [
    {
     "data": {
      "text/plain": [
       "<matplotlib.axes._subplots.AxesSubplot at 0x1a64472c50>"
      ]
     },
     "execution_count": 93,
     "metadata": {},
     "output_type": "execute_result"
    },
    {
     "data": {
      "image/png": "[encoded data removed]",
      "text/plain": [
       "<Figure size 432x288 with 1 Axes>"
      ]
     },
     "metadata": {
      "needs_background": "light"
     },
     "output_type": "display_data"
    }
   ],
   "source": [
    "# Plot the imputed visibility feature in the first 10h\n",
    "\n",
    "inter['visibility'][:600].plot()"
   ]
  },
  {
   "cell_type": "markdown",
   "metadata": {},
   "source": [
    "We used a linear method to fill in the missing values between each hourly measurement."
   ]
  },
  {
   "cell_type": "markdown",
   "metadata": {},
   "source": [
    "### Time series transformation"
   ]
  },
  {
   "cell_type": "code",
   "execution_count": 81,
   "metadata": {},
   "outputs": [
    {
     "name": "stdout",
     "output_type": "stream",
     "text": [
      "datetime64[ns]\n",
      "datetime64[ns]\n"
     ]
    }
   ],
   "source": [
    "# Convert the time_step feature into datetime in the input and output datasets\n",
    "\n",
    "input_train['time_step'] = pd.to_datetime(input_train['time_step'])\n",
    "output_train['time_step'] = pd.to_datetime(output_train['time_step'])\n",
    "\n",
    "# Check data type\n",
    "print(input_train['time_step'].dtype)\n",
    "print(output_train['time_step'].dtype)"
   ]
  },
  {
   "cell_type": "markdown",
   "metadata": {},
   "source": [
    "## Modeling"
   ]
  },
  {
   "cell_type": "markdown",
   "metadata": {},
   "source": [
    "We want to predict, for each minute, the power used by the washing_machine, the fridge, the TV and the kettle. This is a multi-output regression."
   ]
  },
  {
   "cell_type": "markdown",
   "metadata": {},
   "source": [
    "### Baseline model: 4 univariate linear regressions"
   ]
  },
  {
   "cell_type": "markdown",
   "metadata": {},
   "source": [
    "The benchmark is 4 univariate linear regressions (one per appliance). The inputs are consumption of the household, the day of the week (7 booleans), the weekend (1 boolean), and the circular hour of the day (sine and cosine)."
   ]
  },
  {
   "cell_type": "code",
   "execution_count": null,
   "metadata": {},
   "outputs": [],
   "source": []
  },
  {
   "cell_type": "markdown",
   "metadata": {},
   "source": [
    "### Our model: xxx"
   ]
  },
  {
   "cell_type": "code",
   "execution_count": null,
   "metadata": {},
   "outputs": [],
   "source": [
    "#model = MultiOutputRegressor(estimator=)\n",
    "#model.fit(input_train, output_train)"
   ]
  },
  {
   "cell_type": "markdown",
   "metadata": {},
   "source": [
    "## Test metric"
   ]
  },
  {
   "cell_type": "markdown",
   "metadata": {},
   "source": [
    "The metric we will use is (Wh) :\n",
    "$$\n",
    "\\mathcal{L}(\\widehat{y}, y) = \\frac{1}{\\sum_{j \\: in \\: appliances} \\alpha_j} \\sum_{j \\: in \\: appliances} \\alpha_j \\sqrt{\\frac{\\sum_{i=1}^{N} (\\widehat{y}_{i}^{(j)}-y_{i}^{(j)})^2)}{N}}\n",
    "$$\n",
    "\n",
    "Where\n",
    "* N = 201362 : number of data known in test set\n",
    "* appliances = \\{washing_machine, fridge_freezer, TV, kettle\\}\n",
    "* $\\alpha_j = E(y_{i}^{(j)})$ : mean of power of the appliance j on training set\n",
    "     * $\\alpha_{washing\\_machine} = 5.55$\n",
    "     * $\\alpha_{fridge_freezer} = 49.79$\n",
    "     * $\\alpha_{TV} = 14.57$\n",
    "     * $\\alpha_{kettle} = 4.95$"
   ]
  },
  {
   "cell_type": "code",
   "execution_count": null,
   "metadata": {},
   "outputs": [],
   "source": [
    "import pandas as pd\n",
    "import datetime as dt\n",
    "import math as mt\n",
    "\n",
    "def metric_nilm(dataframe_y_true, dataframe_y_pred):\n",
    "    score = 0.0\n",
    "    test = dataframe_y_true[~dataframe_y_true['washing_machine'].isna()]['washing_machine']\n",
    "    pred = dataframe_y_pred[~dataframe_y_true['washing_machine'].isna()]['washing_machine']\n",
    "    score += mt.sqrt(sum((pred - test)**2)/len(test))*5.55\n",
    "    test = dataframe_y_true[~dataframe_y_true['fridge_freezer'].isna()]['fridge_freezer']\n",
    "    pred = dataframe_y_pred[~dataframe_y_true['fridge_freezer'].isna()]['fridge_freezer']\n",
    "    score += mt.sqrt(sum((pred - test)**2)/len(test))*49.79\n",
    "    test = dataframe_y_true[~dataframe_y_true['TV'].isna()]['TV']\n",
    "    pred = dataframe_y_pred[~dataframe_y_true['TV'].isna()]['TV']\n",
    "    score += mt.sqrt(sum((pred - test)**2)/len(test))*14.57\n",
    "    test = dataframe_y_true[~dataframe_y_true['kettle'].isna()]['kettle']\n",
    "    pred = dataframe_y_pred[~dataframe_y_true['kettle'].isna()]['kettle']\n",
    "    score += mt.sqrt(sum((pred - test)**2)/len(test))*4.95\n",
    "    score /= 74.86\n",
    "    return score\n",
    "\n",
    "if __name__ == '__main__':\n",
    "    import pandas as pd\n",
    "    CSV_FILE_Y_TRUE = 'y_test.csv'\n",
    "    CSV_FILE_Y_PRED = 'y_pred.csv'\n",
    "    df_y_true = pd.read_csv(CSV_FILE_Y_TRUE, index_col=0, sep=',')\n",
    "    df_y_pred = pd.read_csv(CSV_FILE_Y_PRED, index_col=0, sep=',')\n",
    "    if df_y_true.shape[0] == df_y_pred.shape[0] :\n",
    "        df_y_true = df_y_true.sort_values(by=['time_step'])\n",
    "        df_y_pred = df_y_pred.sort_values(by=['time_step'])\n",
    "        if (df_y_true.index[0]== df_y_pred.index[0]) & (df_y_true.index[df_y_true.shape[0]-1]== df_y_pred.index[df_y_pred.shape[0]-1]) :\n",
    "            df_y_true['washing_machine'] = pd.to_numeric(df_y_true['washing_machine'], errors = 'nan')\n",
    "            df_y_true['fridge_freezer'] = pd.to_numeric(df_y_true['fridge_freezer'], errors = 'nan')\n",
    "            df_y_true['TV'] = pd.to_numeric(df_y_true['TV'], errors = 'nan')\n",
    "            df_y_true['kettle'] = pd.to_numeric(df_y_true['kettle'], errors = 'nan')\n",
    "            df_y_pred['washing_machine'] = pd.to_numeric(df_y_pred['washing_machine'], errors = 'nan')\n",
    "            df_y_pred['fridge_freezer'] = pd.to_numeric(df_y_pred['fridge_freezer'], errors = 'nan')\n",
    "            df_y_pred['TV'] = pd.to_numeric(df_y_pred['TV'], errors = 'nan')\n",
    "            df_y_pred['kettle'] = pd.to_numeric(df_y_pred['kettle'], errors = 'nan')\n",
    "            print(metric_nilm(df_y_true, df_y_pred))\n",
    "        else :\n",
    "            print('nan')\n",
    "    else :\n",
    "            print('nan')"
   ]
  }
 ],
 "metadata": {
  "kernelspec": {
   "display_name": "Python 3",
   "language": "python",
   "name": "python3"
  },
  "language_info": {
   "codemirror_mode": {
    "name": "ipython",
    "version": 3
   },
   "file_extension": ".py",
   "mimetype": "text/x-python",
   "name": "python",
   "nbconvert_exporter": "python",
   "pygments_lexer": "ipython3",
   "version": "3.7.3"
  },
  "toc": {
   "base_numbering": 1,
   "nav_menu": {},
   "number_sections": true,
   "sideBar": true,
   "skip_h1_title": false,
   "title_cell": "Table of Contents",
   "title_sidebar": "Contents",
   "toc_cell": false,
   "toc_position": {},
   "toc_section_display": true,
   "toc_window_display": true
  },
  "varInspector": {
   "cols": {
    "lenName": 16,
    "lenType": 16,
    "lenVar": 40
   },
   "kernels_config": {
    "python": {
     "delete_cmd_postfix": "",
     "delete_cmd_prefix": "del ",
     "library": "var_list.py",
     "varRefreshCmd": "print(var_dic_list())"
    },
    "r": {
     "delete_cmd_postfix": ") ",
     "delete_cmd_prefix": "rm(",
     "library": "var_list.r",
     "varRefreshCmd": "cat(var_dic_list()) "
    }
   },
   "types_to_exclude": [
    "module",
    "function",
    "builtin_function_or_method",
    "instance",
    "_Feature"
   ],
   "window_display": false
  }
 },
 "nbformat": 4,
 "nbformat_minor": 2
}
